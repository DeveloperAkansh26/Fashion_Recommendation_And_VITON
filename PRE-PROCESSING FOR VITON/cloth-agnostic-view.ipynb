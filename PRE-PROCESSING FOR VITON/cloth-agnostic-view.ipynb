





<!DOCTYPE html>
<html
  lang="en"
  
  data-color-mode="auto" data-light-theme="light" data-dark-theme="dark"
  data-a11y-animated-images="system" data-a11y-link-underlines="true"
  
  >

    <style>
:root {
  --fontStack-monospace: "Monaspace Neon", ui-monospace, SFMono-Regular, SF Mono, Menlo, Consolas, Liberation Mono, monospace !important;
}
</style>




  <head>
    <meta charset="utf-8">
  <link rel="dns-prefetch" href="https://github.githubassets.com">
  <link rel="dns-prefetch" href="https://avatars.githubusercontent.com">
  <link rel="dns-prefetch" href="https://github-cloud.s3.amazonaws.com">
  <link rel="dns-prefetch" href="https://user-images.githubusercontent.com/">
  <link rel="preconnect" href="https://github.githubassets.com" crossorigin>
  <link rel="preconnect" href="https://avatars.githubusercontent.com">

  


  <link crossorigin="anonymous" media="all" rel="stylesheet" href="https://github.githubassets.com/assets/light-d1334f2b22bf.css" /><link crossorigin="anonymous" media="all" rel="stylesheet" href="https://github.githubassets.com/assets/dark-f73a069fd33e.css" /><link data-color-theme="light_high_contrast" crossorigin="anonymous" media="all" rel="stylesheet" data-href="https://github.githubassets.com/assets/light_high_contrast-f695a361c6b2.css" /><link data-color-theme="light_colorblind" crossorigin="anonymous" media="all" rel="stylesheet" data-href="https://github.githubassets.com/assets/light_colorblind-367eb9a4565a.css" /><link data-color-theme="light_colorblind_high_contrast" crossorigin="anonymous" media="all" rel="stylesheet" data-href="https://github.githubassets.com/assets/light_colorblind_high_contrast-183adc0db479.css" /><link data-color-theme="light_tritanopia" crossorigin="anonymous" media="all" rel="stylesheet" data-href="https://github.githubassets.com/assets/light_tritanopia-2ddc677c041d.css" /><link data-color-theme="light_tritanopia_high_contrast" crossorigin="anonymous" media="all" rel="stylesheet" data-href="https://github.githubassets.com/assets/light_tritanopia_high_contrast-649962a5702a.css" /><link data-color-theme="dark_high_contrast" crossorigin="anonymous" media="all" rel="stylesheet" data-href="https://github.githubassets.com/assets/dark_high_contrast-3a0d87f72ad4.css" /><link data-color-theme="dark_colorblind" crossorigin="anonymous" media="all" rel="stylesheet" data-href="https://github.githubassets.com/assets/dark_colorblind-b17a8392e6c4.css" /><link data-color-theme="dark_colorblind_high_contrast" crossorigin="anonymous" media="all" rel="stylesheet" data-href="https://github.githubassets.com/assets/dark_colorblind_high_contrast-e9ff47cedc2b.css" /><link data-color-theme="dark_tritanopia" crossorigin="anonymous" media="all" rel="stylesheet" data-href="https://github.githubassets.com/assets/dark_tritanopia-a1cc7dba9f73.css" /><link data-color-theme="dark_tritanopia_high_contrast" crossorigin="anonymous" media="all" rel="stylesheet" data-href="https://github.githubassets.com/assets/dark_tritanopia_high_contrast-6c4dd39e2b0f.css" /><link data-color-theme="dark_dimmed" crossorigin="anonymous" media="all" rel="stylesheet" data-href="https://github.githubassets.com/assets/dark_dimmed-55459b36aa6d.css" /><link data-color-theme="dark_dimmed_high_contrast" crossorigin="anonymous" media="all" rel="stylesheet" data-href="https://github.githubassets.com/assets/dark_dimmed_high_contrast-9a0ef6e40ed3.css" />

    <style type="text/css">
      :root {
        --tab-size-preference: 8;
      }

      pre, code {
        tab-size: var(--tab-size-preference);
      }
    </style>

    <link crossorigin="anonymous" media="all" rel="stylesheet" href="https://github.githubassets.com/assets/primer-primitives-dc7ca6859caf.css" />
    <link crossorigin="anonymous" media="all" rel="stylesheet" href="https://github.githubassets.com/assets/primer-e11b50dc0d94.css" />
    <link crossorigin="anonymous" media="all" rel="stylesheet" href="https://github.githubassets.com/assets/global-208b03e93e68.css" />
    <link crossorigin="anonymous" media="all" rel="stylesheet" href="https://github.githubassets.com/assets/github-709c905d887a.css" />
  <link crossorigin="anonymous" media="all" rel="stylesheet" href="https://github.githubassets.com/assets/repository-b58e401b73ae.css" />
<link crossorigin="anonymous" media="all" rel="stylesheet" href="https://github.githubassets.com/assets/code-4ea853641043.css" />

  


  <script type="application/json" id="client-env">{"locale":"en","featureFlags":["alternate_user_config_repo","api_insights_show_missing_data_banner","attestations_filtering","attestations_sorting","billingplatform_copilot_premium_sku","client_version_header","code_scanning_security_configuration_ternary_state","codespaces_prebuild_region_target_update","contact_requests_implicit_opt_in","contentful_lp_copilot_extensions","contentful_lp_flex_features","contentful_lp_footnotes","copilot_capi_error_response_telemetry","copilot_chat_attach_images","copilot_chat_attach_multiple_images","copilot_chat_disable_model_picker_while_streaming","copilot_chat_group_notifications","copilot_chat_opening_thread_switch","copilot_chat_vision_in_claude","copilot_chat_vision_skip_thread_create","copilot_chat_wholearea_dd","copilot_coding_agent_task_creation_banner","copilot_custom_copilots_feature_preview","copilot_custom_copilots_images","copilot_duplicate_thread","copilot_free_to_paid_telem","copilot_ftp_hyperspace_upgrade_prompt","copilot_ftp_settings_upgrade","copilot_ftp_upgrade_to_pro_from_models","copilot_ftp_your_copilot_settings","copilot_immersive_agent_branch_selection","copilot_immersive_draft_issue_template_form_ui","copilot_immersive_structured_model_picker","copilot_issue_list_show_more","copilot_markdown_image_allow_list","copilot_no_floating_button","copilot_premium_request_quotas","copilot_read_shared_conversation","copilot_share_active_subthread","copilot_spaces_inline_edit_description","copilot_spaces_input_menu_select","copilot_spaces_upsert_reload_in_background","copilot_spark_allow_empty_commit","copilot_spark_single_user_iteration","copilot_spark_use_billing_headers","copilot_spark_write_iteration_history_to_git","copilot_task_oriented_assistive_prompts","copilot_workbench_agent_seed_tool","copilot_workbench_cache","copilot_workbench_connection_reload_banner","copilot_workbench_preview_analytics","copilot_workbench_ratelimit_fallback","copilot_workbench_refresh_on_wsod","copilot_workbench_synthetic_generation","custom_copilots_128k_window","custom_copilots_capi_mode","custom_copilots_file_uploads","direct_to_salesforce","dotcom_chat_client_side_skills","failbot_report_error_react_apps_on_page","fgpat_permissions_selector_redesign","ghost_pilot_confidence_truncation_25","ghost_pilot_confidence_truncation_40","github_models_scheduled_hydro_events","hpc_improve_dom_insertion_observer","insert_before_patch","issue_fields_report_usage","issues_catch_non_json_graphql_response","issues_comment_load_user_settings","issues_label_search_url","issues_preserve_tokens_in_urls","issues_react_blur_item_picker_on_close","issues_react_bots_timeline_pagination","issues_react_create_milestone","issues_react_duplicate_issue","issues_react_include_bots_in_pickers","issues_react_prohibit_title_fallback","issues_react_remove_placeholders","issues_template_picker_redirect","kb_semantic_api_migration","lifecycle_label_name_updates","link_contact_sales_swp_marketo","marketing_fullstory_sampling","marketing_pages_search_explore_provider","memex_mwl_filter_field_delimiter","memex_roadmap_drag_style","nonreporting_relay_graphql_status_codes","primer_react_segmented_control_tooltip","primer_react_select_panel_with_modern_action_list","remove_child_patch","repository_suggester_elastic_search","sample_network_conn_type","scheduled_reminders_updated_limits","site_homepage_contentful","site_msbuild_hide_integrations","site_msbuild_launch","site_msbuild_webgl_hero","spark_commit_on_default_branch","spark_sync_repository_after_iteration","swp_enterprise_contact_form","use_paginated_org_picker_cost_center_form","use_paginated_repo_picker_cost_center_form","viewscreen_sandbox","workbench_default_sonnet4","workbench_store_readonly"],"login":"devansh2506","copilotApiOverrideUrl":null}</script>
<script crossorigin="anonymous" type="application/javascript" src="https://github.githubassets.com/assets/wp-runtime-41f74a33a478.js" defer="defer"></script>
<script crossorigin="anonymous" type="application/javascript" src="https://github.githubassets.com/assets/vendors-node_modules_oddbird_popover-polyfill_dist_popover-fn_js-a8c266e5f126.js" defer="defer"></script>
<script crossorigin="anonymous" type="application/javascript" src="https://github.githubassets.com/assets/vendors-node_modules_github_mini-throttle_dist_index_js-node_modules_stacktrace-parser_dist_s-1d3d52-babac9434833.js" defer="defer"></script>
<script crossorigin="anonymous" type="application/javascript" src="https://github.githubassets.com/assets/ui_packages_failbot_failbot_ts-992dcf80dabf.js" defer="defer"></script>
<script crossorigin="anonymous" type="application/javascript" src="https://github.githubassets.com/assets/environment-17084f3f370f.js" defer="defer"></script>
<script crossorigin="anonymous" type="application/javascript" src="https://github.githubassets.com/assets/vendors-node_modules_primer_behaviors_dist_esm_index_mjs-c44edfed7f0d.js" defer="defer"></script>
<script crossorigin="anonymous" type="application/javascript" src="https://github.githubassets.com/assets/vendors-node_modules_github_selector-observer_dist_index_esm_js-cdf2757bd188.js" defer="defer"></script>
<script crossorigin="anonymous" type="application/javascript" src="https://github.githubassets.com/assets/vendors-node_modules_github_relative-time-element_dist_index_js-5913bc24f35d.js" defer="defer"></script>
<script crossorigin="anonymous" type="application/javascript" src="https://github.githubassets.com/assets/vendors-node_modules_github_auto-complete-element_dist_index_js-node_modules_github_catalyst_-8e9f78-c1e2fb329866.js" defer="defer"></script>
<script crossorigin="anonymous" type="application/javascript" src="https://github.githubassets.com/assets/vendors-node_modules_github_text-expander-element_dist_index_js-e50fb7a5fe8c.js" defer="defer"></script>
<script crossorigin="anonymous" type="application/javascript" src="https://github.githubassets.com/assets/vendors-node_modules_github_filter-input-element_dist_index_js-node_modules_github_remote-inp-b5f1d7-514a92c925f0.js" defer="defer"></script>
<script crossorigin="anonymous" type="application/javascript" src="https://github.githubassets.com/assets/vendors-node_modules_github_markdown-toolbar-element_dist_index_js-6a8c7d9a08fe.js" defer="defer"></script>
<script crossorigin="anonymous" type="application/javascript" src="https://github.githubassets.com/assets/vendors-node_modules_github_file-attachment-element_dist_index_js-node_modules_primer_view-co-f03a40-c631b99b0f08.js" defer="defer"></script>
<script crossorigin="anonymous" type="application/javascript" src="https://github.githubassets.com/assets/github-elements-6f8fcdbbf55a.js" defer="defer"></script>
<script crossorigin="anonymous" type="application/javascript" src="https://github.githubassets.com/assets/element-registry-fa295cd1df7e.js" defer="defer"></script>
<script crossorigin="anonymous" type="application/javascript" src="https://github.githubassets.com/assets/vendors-node_modules_braintree_browser-detection_dist_browser-detection_js-node_modules_githu-bb80ec-34c4b68b1dd3.js" defer="defer"></script>
<script crossorigin="anonymous" type="application/javascript" src="https://github.githubassets.com/assets/vendors-node_modules_lit-html_lit-html_js-b93a87060d31.js" defer="defer"></script>
<script crossorigin="anonymous" type="application/javascript" src="https://github.githubassets.com/assets/vendors-node_modules_morphdom_dist_morphdom-esm_js-300e8e4e0414.js" defer="defer"></script>
<script crossorigin="anonymous" type="application/javascript" src="https://github.githubassets.com/assets/vendors-node_modules_github_turbo_dist_turbo_es2017-esm_js-595819d3686f.js" defer="defer"></script>
<script crossorigin="anonymous" type="application/javascript" src="https://github.githubassets.com/assets/vendors-node_modules_github_remote-form_dist_index_js-node_modules_delegated-events_dist_inde-893f9f-5f044d8dcee3.js" defer="defer"></script>
<script crossorigin="anonymous" type="application/javascript" src="https://github.githubassets.com/assets/vendors-node_modules_github_quote-selection_dist_index_js-node_modules_github_session-resume_-c39857-68019bebf97d.js" defer="defer"></script>
<script crossorigin="anonymous" type="application/javascript" src="https://github.githubassets.com/assets/ui_packages_updatable-content_updatable-content_ts-19a9ffc8367b.js" defer="defer"></script>
<script crossorigin="anonymous" type="application/javascript" src="https://github.githubassets.com/assets/app_assets_modules_github_behaviors_task-list_ts-app_assets_modules_github_sso_ts-ui_packages-900dde-f953ddf42948.js" defer="defer"></script>
<script crossorigin="anonymous" type="application/javascript" src="https://github.githubassets.com/assets/app_assets_modules_github_sticky-scroll-into-view_ts-c9618dd6662a.js" defer="defer"></script>
<script crossorigin="anonymous" type="application/javascript" src="https://github.githubassets.com/assets/app_assets_modules_github_behaviors_ajax-error_ts-app_assets_modules_github_behaviors_include-d0d0a6-a7da4270c5f4.js" defer="defer"></script>
<script crossorigin="anonymous" type="application/javascript" src="https://github.githubassets.com/assets/app_assets_modules_github_behaviors_commenting_edit_ts-app_assets_modules_github_behaviors_ht-83c235-567e0f340e27.js" defer="defer"></script>
<script crossorigin="anonymous" type="application/javascript" src="https://github.githubassets.com/assets/behaviors-625d7495b728.js" defer="defer"></script>
<script crossorigin="anonymous" type="application/javascript" src="https://github.githubassets.com/assets/vendors-node_modules_delegated-events_dist_index_js-node_modules_github_catalyst_lib_index_js-ea8eaa-a4bd0b8e9717.js" defer="defer"></script>
<script crossorigin="anonymous" type="application/javascript" src="https://github.githubassets.com/assets/notifications-global-ddd47578369b.js" defer="defer"></script>
<script crossorigin="anonymous" type="application/javascript" src="https://github.githubassets.com/assets/vendors-node_modules_github_mini-throttle_dist_index_js-node_modules_github_catalyst_lib_inde-dbbea9-558c1f223d1d.js" defer="defer"></script>
<script crossorigin="anonymous" type="application/javascript" src="https://github.githubassets.com/assets/code-menu-5153545f9e1f.js" defer="defer"></script>
  
  <script crossorigin="anonymous" type="application/javascript" src="https://github.githubassets.com/assets/primer-react-e3f517d7be60.js" defer="defer"></script>
<script crossorigin="anonymous" type="application/javascript" src="https://github.githubassets.com/assets/react-core-da8e42da9f7f.js" defer="defer"></script>
<script crossorigin="anonymous" type="application/javascript" src="https://github.githubassets.com/assets/react-lib-8705026b409a.js" defer="defer"></script>
<script crossorigin="anonymous" type="application/javascript" src="https://github.githubassets.com/assets/octicons-react-d5df7319196a.js" defer="defer"></script>
<script crossorigin="anonymous" type="application/javascript" src="https://github.githubassets.com/assets/vendors-node_modules_emotion_is-prop-valid_dist_emotion-is-prop-valid_esm_js-node_modules_emo-1fff13-e90c4f4db816.js" defer="defer"></script>
<script crossorigin="anonymous" type="application/javascript" src="https://github.githubassets.com/assets/vendors-node_modules_tanstack_query-core_build_modern_queryClient_js-f747879a83cf.js" defer="defer"></script>
<script crossorigin="anonymous" type="application/javascript" src="https://github.githubassets.com/assets/vendors-node_modules_dompurify_dist_purify_es_mjs-7457ebdd1a1f.js" defer="defer"></script>
<script crossorigin="anonymous" type="application/javascript" src="https://github.githubassets.com/assets/vendors-node_modules_github_hydro-analytics-client_dist_analytics-client_js-node_modules_gith-d2d5b7-d1ead38b2474.js" defer="defer"></script>
<script crossorigin="anonymous" type="application/javascript" src="https://github.githubassets.com/assets/vendors-node_modules_lodash-es__Stack_js-node_modules_lodash-es__Uint8Array_js-node_modules_l-4faaa6-16c4e2c524de.js" defer="defer"></script>
<script crossorigin="anonymous" type="application/javascript" src="https://github.githubassets.com/assets/vendors-node_modules_tanstack_react-virtual_dist_esm_index_js-807aab04afeb.js" defer="defer"></script>
<script crossorigin="anonymous" type="application/javascript" src="https://github.githubassets.com/assets/vendors-node_modules_github_catalyst_lib_index_js-node_modules_lodash-es__baseIsEqual_js-5a1e4257e977.js" defer="defer"></script>
<script crossorigin="anonymous" type="application/javascript" src="https://github.githubassets.com/assets/vendors-node_modules_focus-visible_dist_focus-visible_js-node_modules_fzy_js_index_js-node_mo-b36da9-89c0fa93d060.js" defer="defer"></script>
<script crossorigin="anonymous" type="application/javascript" src="https://github.githubassets.com/assets/ui_packages_paths_index_ts-02903aca93fb.js" defer="defer"></script>
<script crossorigin="anonymous" type="application/javascript" src="https://github.githubassets.com/assets/ui_packages_document-metadata_document-metadata_ts-ui_packages_fetch-headers_fetch-headers_ts-57e0e0-bed68ec00644.js" defer="defer"></script>
<script crossorigin="anonymous" type="application/javascript" src="https://github.githubassets.com/assets/ui_packages_ref-selector_RefSelector_tsx-49a575c6713c.js" defer="defer"></script>
<script crossorigin="anonymous" type="application/javascript" src="https://github.githubassets.com/assets/ui_packages_commit-attribution_index_ts-ui_packages_commit-checks-status_index_ts-ui_packages-762eaa-7c0cb4bd2b5c.js" defer="defer"></script>
<script crossorigin="anonymous" type="application/javascript" src="https://github.githubassets.com/assets/ui_packages_app-uuid_app-uuid_ts-ui_packages_repos-file-tree-view_repos-file-tree-view_ts-ui_-e7c631-bae3635f2779.js" defer="defer"></script>
<script crossorigin="anonymous" type="application/javascript" src="https://github.githubassets.com/assets/ui_packages_code-view-shared_hooks_use-canonical-object_ts-ui_packages_code-view-shared_hooks-96ec19-ae69c1d6d8ce.js" defer="defer"></script>
<script crossorigin="anonymous" type="application/javascript" src="https://github.githubassets.com/assets/ui_packages_diffs_diff-parts_ts-21b2322bf20d.js" defer="defer"></script>
<script crossorigin="anonymous" type="application/javascript" src="https://github.githubassets.com/assets/app_assets_modules_react-code-view_utilities_lines_ts-83e8972e3303.js" defer="defer"></script>
<script crossorigin="anonymous" type="application/javascript" src="https://github.githubassets.com/assets/ui_packages_code-nav_code-nav_ts-ui_packages_filter-sort_filter-sort_ts-ui_packages_fuzzy-fil-1f9dbe-90a25aafe017.js" defer="defer"></script>
<script crossorigin="anonymous" type="application/javascript" src="https://github.githubassets.com/assets/react-code-view-04d1b806f918.js" defer="defer"></script>
<link crossorigin="anonymous" media="all" rel="stylesheet" href="https://github.githubassets.com/assets/primer-react.260d30274859410b0337.module.css" />
<link crossorigin="anonymous" media="all" rel="stylesheet" href="https://github.githubassets.com/assets/react-code-view.76f019fa552874dd1b3a.module.css" />


  <title>Fashion_Recommendation_And_VITON/cloth-agnostic-view.ipynb at main · DeveloperAkansh26/Fashion_Recommendation_And_VITON</title>



  <meta name="route-pattern" content="/:user_id/:repository/blob/*name(/*path)" data-turbo-transient>
  <meta name="route-controller" content="blob" data-turbo-transient>
  <meta name="route-action" content="show" data-turbo-transient>
  <meta name="fetch-nonce" content="v2:16bdf731-d3d4-1077-5497-fa74de3b3a9d">

    
  <meta name="current-catalog-service-hash" content="f3abb0cc802f3d7b95fc8762b94bdcb13bf39634c40c357301c4aa1d67a256fb">


  <meta name="request-id" content="7E14:200EA0:62DA52:7E96B9:688E8781" data-turbo-transient="true" /><meta name="html-safe-nonce" content="19a0e48de61dfd5a06ce05005f2930928e8af96b39518aea885e3d44f6b371d8" data-turbo-transient="true" /><meta name="visitor-payload" content="eyJyZWZlcnJlciI6bnVsbCwicmVxdWVzdF9pZCI6IjdFMTQ6MjAwRUEwOjYyREE1Mjo3RTk2Qjk6Njg4RTg3ODEiLCJ2aXNpdG9yX2lkIjoiMjEwNDk5NzMyNjQ0NjEwNjYyMiIsInJlZ2lvbl9lZGdlIjoiY2VudHJhbGluZGlhIiwicmVnaW9uX3JlbmRlciI6ImlhZCJ9" data-turbo-transient="true" /><meta name="visitor-hmac" content="cc25d942b09d05051b756c0b1528f23a9ad574a0ea5bb33ce089e870a9a529bd" data-turbo-transient="true" />


    <meta name="hovercard-subject-tag" content="repository:1022673421" data-turbo-transient>


  <meta name="github-keyboard-shortcuts" content="repository,source-code,file-tree,copilot" data-turbo-transient="true" />
  

  <meta name="selected-link" value="repo_source" data-turbo-transient>
  <link rel="assets" href="https://github.githubassets.com/">

    <meta name="google-site-verification" content="Apib7-x98H0j5cPqHWwSMm6dNU4GmODRoqxLiDzdx9I">

<meta name="octolytics-url" content="https://collector.github.com/github/collect" /><meta name="octolytics-actor-id" content="183216339" /><meta name="octolytics-actor-login" content="devansh2506" /><meta name="octolytics-actor-hash" content="9792758171e7ed1e45db5ff82775f03d450f019deb8414e8f360b3a911ebbcdc" />

  <meta name="analytics-location" content="/&lt;user-name&gt;/&lt;repo-name&gt;/blob/show" data-turbo-transient="true" />

  




    <meta name="user-login" content="devansh2506">

  <link rel="sudo-modal" href="/sessions/sudo_modal">

    <meta name="viewport" content="width=device-width">

    

      <meta name="description" content="Contribute to DeveloperAkansh26/Fashion_Recommendation_And_VITON development by creating an account on GitHub.">

      <link rel="search" type="application/opensearchdescription+xml" href="/opensearch.xml" title="GitHub">

    <link rel="fluid-icon" href="https://github.com/fluidicon.png" title="GitHub">
    <meta property="fb:app_id" content="1401488693436528">
    <meta name="apple-itunes-app" content="app-id=1477376905, app-argument=https://github.com/DeveloperAkansh26/Fashion_Recommendation_And_VITON/blob/main/cloth-agnostic-view.ipynb" />

      <meta name="twitter:image" content="https://opengraph.githubassets.com/54619b5acd22f3f45c3752b41edfbc0a4c8200a8e13b6fc8c6fffa54546abf17/DeveloperAkansh26/Fashion_Recommendation_And_VITON" /><meta name="twitter:site" content="@github" /><meta name="twitter:card" content="summary_large_image" /><meta name="twitter:title" content="Fashion_Recommendation_And_VITON/cloth-agnostic-view.ipynb at main · DeveloperAkansh26/Fashion_Recommendation_And_VITON" /><meta name="twitter:description" content="Contribute to DeveloperAkansh26/Fashion_Recommendation_And_VITON development by creating an account on GitHub." />
  <meta property="og:image" content="https://opengraph.githubassets.com/54619b5acd22f3f45c3752b41edfbc0a4c8200a8e13b6fc8c6fffa54546abf17/DeveloperAkansh26/Fashion_Recommendation_And_VITON" /><meta property="og:image:alt" content="Contribute to DeveloperAkansh26/Fashion_Recommendation_And_VITON development by creating an account on GitHub." /><meta property="og:image:width" content="1200" /><meta property="og:image:height" content="600" /><meta property="og:site_name" content="GitHub" /><meta property="og:type" content="object" /><meta property="og:title" content="Fashion_Recommendation_And_VITON/cloth-agnostic-view.ipynb at main · DeveloperAkansh26/Fashion_Recommendation_And_VITON" /><meta property="og:url" content="https://github.com/DeveloperAkansh26/Fashion_Recommendation_And_VITON/blob/main/cloth-agnostic-view.ipynb" /><meta property="og:description" content="Contribute to DeveloperAkansh26/Fashion_Recommendation_And_VITON development by creating an account on GitHub." />
  


      <link rel="shared-web-socket" href="wss://alive.github.com/_sockets/u/183216339/ws?session=eyJ2IjoiVjMiLCJ1IjoxODMyMTYzMzksInMiOjE2Nzk3MTIzNjAsImMiOjY0NjkxMTk4LCJ0IjoxNzU0MTcxMjczfQ==--c09ddeb346d309aecab40b5fb5756c34425b4acd8e5f116fef314bc7674a9c06" data-refresh-url="/_alive" data-session-id="3d706debc75e560643f063e8d1d720e31546257077f981736cf98b96ff4eef8b">
      <link rel="shared-web-socket-src" href="/assets-cdn/worker/socket-worker-9b665c8109c8.js">


      <meta name="hostname" content="github.com">


      <meta name="keyboard-shortcuts-preference" content="all">
      <meta name="hovercards-preference" content="true">
      <meta name="announcement-preference-hovercard" content="true">

        <meta name="expected-hostname" content="github.com">


  <meta http-equiv="x-pjax-version" content="cfb8e7d95b7eadd0ef58733affffed4526b494ccaf3dd25ecba671b579078cb1" data-turbo-track="reload">
  <meta http-equiv="x-pjax-csp-version" content="8fba9c9418de26103e6176951dd0c38780be21b972f2019085dee08622fdb843" data-turbo-track="reload">
  <meta http-equiv="x-pjax-css-version" content="b705b14fc1de584a5d763630d9070a4b5c9515cdbd9ae3954bd3dfcbebcb97fc" data-turbo-track="reload">
  <meta http-equiv="x-pjax-js-version" content="6f4279361022e5f7aaf7f6db889807aeab92525b0f3fd01c30fc2fd836fb5881" data-turbo-track="reload">

  <meta name="turbo-cache-control" content="no-preview" data-turbo-transient="">

      <meta name="turbo-cache-control" content="no-cache" data-turbo-transient>

    <meta data-hydrostats="publish">

  <meta name="go-import" content="github.com/DeveloperAkansh26/Fashion_Recommendation_And_VITON git https://github.com/DeveloperAkansh26/Fashion_Recommendation_And_VITON.git">

  <meta name="octolytics-dimension-user_id" content="66119591" /><meta name="octolytics-dimension-user_login" content="DeveloperAkansh26" /><meta name="octolytics-dimension-repository_id" content="1022673421" /><meta name="octolytics-dimension-repository_nwo" content="DeveloperAkansh26/Fashion_Recommendation_And_VITON" /><meta name="octolytics-dimension-repository_public" content="true" /><meta name="octolytics-dimension-repository_is_fork" content="false" /><meta name="octolytics-dimension-repository_network_root_id" content="1022673421" /><meta name="octolytics-dimension-repository_network_root_nwo" content="DeveloperAkansh26/Fashion_Recommendation_And_VITON" />



    

    <meta name="turbo-body-classes" content="logged-in env-production page-responsive">


  <meta name="browser-stats-url" content="https://api.github.com/_private/browser/stats">

  <meta name="browser-errors-url" content="https://api.github.com/_private/browser/errors">

  <meta name="release" content="91f96ef4b4c31fb67b327c1be15abd9147c48b08">
  <meta name="ui-target" content="full">

  <link rel="mask-icon" href="https://github.githubassets.com/assets/pinned-octocat-093da3e6fa40.svg" color="#000000">
  <link rel="alternate icon" class="js-site-favicon" type="image/png" href="https://github.githubassets.com/favicons/favicon.png">
  <link rel="icon" class="js-site-favicon" type="image/svg+xml" href="https://github.githubassets.com/favicons/favicon.svg" data-base-href="https://github.githubassets.com/favicons/favicon">

<meta name="theme-color" content="#1e2327">
<meta name="color-scheme" content="light dark" />

  <link rel="apple-touch-icon" href="https://github.githubassets.com/assets/apple-touch-icon-92bd46d04241.png">
  <link rel="apple-touch-icon" sizes="180x180" href="https://github.githubassets.com/assets/apple-touch-icon-180x180-a80b8e11abe2.png">
  <meta name="apple-mobile-web-app-title" content="GitHub">

  <link rel="manifest" href="/manifest.json" crossOrigin="use-credentials">

  </head>

  <body class="logged-in env-production page-responsive" style="word-wrap: break-word;">
    <div data-turbo-body class="logged-in env-production page-responsive" style="word-wrap: break-word;">
      



    <div class="position-relative header-wrapper js-header-wrapper ">
      <a href="#start-of-content" data-skip-target-assigned="false" class="p-3 color-bg-accent-emphasis color-fg-on-emphasis show-on-focus js-skip-to-content">Skip to content</a>

      <span data-view-component="true" class="progress-pjax-loader Progress position-fixed width-full">
    <span style="width: 0%;" data-view-component="true" class="Progress-item progress-pjax-loader-bar left-0 top-0 color-bg-accent-emphasis"></span>
</span>      
      
      <link crossorigin="anonymous" media="all" rel="stylesheet" href="https://github.githubassets.com/assets/primer-react.260d30274859410b0337.module.css" />
<link crossorigin="anonymous" media="all" rel="stylesheet" href="https://github.githubassets.com/assets/keyboard-shortcuts-dialog.f8fba3bd67fe74f9227b.module.css" />

<react-partial
  partial-name="keyboard-shortcuts-dialog"
  data-ssr="false"
  data-attempted-ssr="false"
  data-react-profiling="false"
>
  
  <script type="application/json" data-target="react-partial.embeddedData">{"props":{"docsUrl":"https://docs.github.com/get-started/accessibility/keyboard-shortcuts"}}</script>
  <div data-target="react-partial.reactRoot"></div>
</react-partial>




      

          

              <header class="AppHeader" role="banner">
  <h2 class="sr-only">Navigation Menu</h2>


    

    <div class="AppHeader-globalBar pb-2 js-global-bar">
      <div class="AppHeader-globalBar-start responsive-context-region">
        <div class="">
            <deferred-side-panel data-url="/_side-panels/global">
  <include-fragment data-target="deferred-side-panel.fragment" data-nonce="v2:16bdf731-d3d4-1077-5497-fa74de3b3a9d" data-view-component="true">
  
      <button aria-label="Open global navigation menu" data-action="click:deferred-side-panel#loadPanel click:deferred-side-panel#panelOpened" data-show-dialog-id="dialog-d59e1b7b-2553-4981-993a-a83a06d73ce7" id="dialog-show-dialog-d59e1b7b-2553-4981-993a-a83a06d73ce7" type="button" data-view-component="true" class="Button Button--iconOnly Button--secondary Button--medium AppHeader-button p-0 color-fg-muted">  <svg aria-hidden="true" height="16" viewBox="0 0 16 16" version="1.1" width="16" data-view-component="true" class="octicon octicon-three-bars Button-visual">
    <path d="M1 2.75A.75.75 0 0 1 1.75 2h12.5a.75.75 0 0 1 0 1.5H1.75A.75.75 0 0 1 1 2.75Zm0 5A.75.75 0 0 1 1.75 7h12.5a.75.75 0 0 1 0 1.5H1.75A.75.75 0 0 1 1 7.75ZM1.75 12h12.5a.75.75 0 0 1 0 1.5H1.75a.75.75 0 0 1 0-1.5Z"></path>
</svg>
</button>

<dialog-helper>
  <dialog data-target="deferred-side-panel.panel" id="dialog-d59e1b7b-2553-4981-993a-a83a06d73ce7" aria-modal="true" aria-labelledby="dialog-d59e1b7b-2553-4981-993a-a83a06d73ce7-title" aria-describedby="dialog-d59e1b7b-2553-4981-993a-a83a06d73ce7-description" data-view-component="true" class="Overlay Overlay-whenNarrow Overlay--size-small-portrait Overlay--motion-scaleFade Overlay--placement-left SidePanel Overlay--disableScroll">
    <div styles="flex-direction: row;" data-view-component="true" class="Overlay-header">
  <div class="Overlay-headerContentWrap">
    <div class="Overlay-titleWrap">
      <h1 class="Overlay-title sr-only" id="dialog-d59e1b7b-2553-4981-993a-a83a06d73ce7-title">
        Global navigation
      </h1>
            <div data-view-component="true" class="d-flex">
      <div data-view-component="true" class="AppHeader-logo position-relative">
        <svg aria-hidden="true" height="24" viewBox="0 0 24 24" version="1.1" width="24" data-view-component="true" class="octicon octicon-mark-github">
    <path d="M12 1C5.923 1 1 5.923 1 12c0 4.867 3.149 8.979 7.521 10.436.55.096.756-.233.756-.522 0-.262-.013-1.128-.013-2.049-2.764.509-3.479-.674-3.699-1.292-.124-.317-.66-1.293-1.127-1.554-.385-.207-.936-.715-.014-.729.866-.014 1.485.797 1.691 1.128.99 1.663 2.571 1.196 3.204.907.096-.715.385-1.196.701-1.471-2.448-.275-5.005-1.224-5.005-5.432 0-1.196.426-2.186 1.128-2.956-.111-.275-.496-1.402.11-2.915 0 0 .921-.288 3.024 1.128a10.193 10.193 0 0 1 2.75-.371c.936 0 1.871.123 2.75.371 2.104-1.43 3.025-1.128 3.025-1.128.605 1.513.221 2.64.111 2.915.701.77 1.127 1.747 1.127 2.956 0 4.222-2.571 5.157-5.019 5.432.399.344.743 1.004.743 2.035 0 1.471-.014 2.654-.014 3.025 0 .289.206.632.756.522C19.851 20.979 23 16.854 23 12c0-6.077-4.922-11-11-11Z"></path>
</svg>
</div></div>
    </div>
    <div class="Overlay-actionWrap">
      <button data-close-dialog-id="dialog-d59e1b7b-2553-4981-993a-a83a06d73ce7" aria-label="Close" aria-label="Close" type="button" data-view-component="true" class="close-button Overlay-closeButton"><svg aria-hidden="true" height="16" viewBox="0 0 16 16" version="1.1" width="16" data-view-component="true" class="octicon octicon-x">
    <path d="M3.72 3.72a.75.75 0 0 1 1.06 0L8 6.94l3.22-3.22a.749.749 0 0 1 1.275.326.749.749 0 0 1-.215.734L9.06 8l3.22 3.22a.749.749 0 0 1-.326 1.275.749.749 0 0 1-.734-.215L8 9.06l-3.22 3.22a.751.751 0 0 1-1.042-.018.751.751 0 0 1-.018-1.042L6.94 8 3.72 4.78a.75.75 0 0 1 0-1.06Z"></path>
</svg></button>
    </div>
  </div>
  
</div>
      <scrollable-region data-labelled-by="dialog-d59e1b7b-2553-4981-993a-a83a06d73ce7-title">
        <div data-view-component="true" class="Overlay-body d-flex flex-column px-2">    <div data-view-component="true" class="d-flex flex-column mb-3">
        <nav aria-label="Site navigation" data-view-component="true" class="ActionList">
  
  <nav-list>
    <ul data-target="nav-list.topLevelList" data-view-component="true" class="ActionListWrap">
        
          
<li data-item-id="" data-targets="nav-list.items" data-view-component="true" class="ActionListItem">
    
    
    <a data-hotkey="g d" data-analytics-event="{&quot;category&quot;:&quot;Global navigation&quot;,&quot;action&quot;:&quot;HOME&quot;,&quot;label&quot;:null}" id="item-01c19e60-8ac6-461d-83bb-62a6ef317578" href="/dashboard" data-view-component="true" class="ActionListContent ActionListContent--visual16">
        <span class="ActionListItem-visual ActionListItem-visual--leading">
          <svg aria-hidden="true" height="16" viewBox="0 0 16 16" version="1.1" width="16" data-view-component="true" class="octicon octicon-home">
    <path d="M6.906.664a1.749 1.749 0 0 1 2.187 0l5.25 4.2c.415.332.657.835.657 1.367v7.019A1.75 1.75 0 0 1 13.25 15h-3.5a.75.75 0 0 1-.75-.75V9H7v5.25a.75.75 0 0 1-.75.75h-3.5A1.75 1.75 0 0 1 1 13.25V6.23c0-.531.242-1.034.657-1.366l5.25-4.2Zm1.25 1.171a.25.25 0 0 0-.312 0l-5.25 4.2a.25.25 0 0 0-.094.196v7.019c0 .138.112.25.25.25H5.5V8.25a.75.75 0 0 1 .75-.75h3.5a.75.75 0 0 1 .75.75v5.25h2.75a.25.25 0 0 0 .25-.25V6.23a.25.25 0 0 0-.094-.195Z"></path>
</svg>
        </span>
      
        <span data-view-component="true" class="ActionListItem-label">
          Home
</span>      
</a>
  
</li>

        
          
<li data-item-id="" data-targets="nav-list.items" data-view-component="true" class="ActionListItem">
    
    
    <a data-hotkey="g i" data-analytics-event="{&quot;category&quot;:&quot;Global navigation&quot;,&quot;action&quot;:&quot;ISSUES&quot;,&quot;label&quot;:null}" id="item-67266c2b-82ef-4187-9733-82f256fb6e4b" href="/issues" data-view-component="true" class="ActionListContent ActionListContent--visual16">
        <span class="ActionListItem-visual ActionListItem-visual--leading">
          <svg aria-hidden="true" height="16" viewBox="0 0 16 16" version="1.1" width="16" data-view-component="true" class="octicon octicon-issue-opened">
    <path d="M8 9.5a1.5 1.5 0 1 0 0-3 1.5 1.5 0 0 0 0 3Z"></path><path d="M8 0a8 8 0 1 1 0 16A8 8 0 0 1 8 0ZM1.5 8a6.5 6.5 0 1 0 13 0 6.5 6.5 0 0 0-13 0Z"></path>
</svg>
        </span>
      
        <span data-view-component="true" class="ActionListItem-label">
          Issues
</span>      
</a>
  
</li>

        
          
<li data-item-id="" data-targets="nav-list.items" data-view-component="true" class="ActionListItem">
    
    
    <a data-hotkey="g p" data-analytics-event="{&quot;category&quot;:&quot;Global navigation&quot;,&quot;action&quot;:&quot;PULL_REQUESTS&quot;,&quot;label&quot;:null}" id="item-2a5a6eb1-a453-4505-9235-ec47a2b0471a" href="/pulls" data-view-component="true" class="ActionListContent ActionListContent--visual16">
        <span class="ActionListItem-visual ActionListItem-visual--leading">
          <svg aria-hidden="true" height="16" viewBox="0 0 16 16" version="1.1" width="16" data-view-component="true" class="octicon octicon-git-pull-request">
    <path d="M1.5 3.25a2.25 2.25 0 1 1 3 2.122v5.256a2.251 2.251 0 1 1-1.5 0V5.372A2.25 2.25 0 0 1 1.5 3.25Zm5.677-.177L9.573.677A.25.25 0 0 1 10 .854V2.5h1A2.5 2.5 0 0 1 13.5 5v5.628a2.251 2.251 0 1 1-1.5 0V5a1 1 0 0 0-1-1h-1v1.646a.25.25 0 0 1-.427.177L7.177 3.427a.25.25 0 0 1 0-.354ZM3.75 2.5a.75.75 0 1 0 0 1.5.75.75 0 0 0 0-1.5Zm0 9.5a.75.75 0 1 0 0 1.5.75.75 0 0 0 0-1.5Zm8.25.75a.75.75 0 1 0 1.5 0 .75.75 0 0 0-1.5 0Z"></path>
</svg>
        </span>
      
        <span data-view-component="true" class="ActionListItem-label">
          Pull requests
</span>      
</a>
  
</li>

        
          
<li data-item-id="" data-targets="nav-list.items" data-item-id="projects" data-view-component="true" class="ActionListItem">
    
    
    <a data-analytics-event="{&quot;category&quot;:&quot;Global navigation&quot;,&quot;action&quot;:&quot;PROJECTS&quot;,&quot;label&quot;:null}" id="item-e101b67f-6c48-4a87-bb5f-b6a610cb6abf" href="/projects" data-view-component="true" class="ActionListContent ActionListContent--visual16">
        <span class="ActionListItem-visual ActionListItem-visual--leading">
          <svg aria-hidden="true" height="16" viewBox="0 0 16 16" version="1.1" width="16" data-view-component="true" class="octicon octicon-table">
    <path d="M0 1.75C0 .784.784 0 1.75 0h12.5C15.216 0 16 .784 16 1.75v12.5A1.75 1.75 0 0 1 14.25 16H1.75A1.75 1.75 0 0 1 0 14.25ZM6.5 6.5v8h7.75a.25.25 0 0 0 .25-.25V6.5Zm8-1.5V1.75a.25.25 0 0 0-.25-.25H6.5V5Zm-13 1.5v7.75c0 .138.112.25.25.25H5v-8ZM5 5V1.5H1.75a.25.25 0 0 0-.25.25V5Z"></path>
</svg>
        </span>
      
        <span data-view-component="true" class="ActionListItem-label">
          Projects
</span>      
</a>
  
</li>

        
          
<li data-item-id="" data-targets="nav-list.items" data-view-component="true" class="ActionListItem">
    
    
    <a data-analytics-event="{&quot;category&quot;:&quot;Global navigation&quot;,&quot;action&quot;:&quot;DISCUSSIONS&quot;,&quot;label&quot;:null}" id="item-40052601-65e9-4449-b4ed-48e47b051944" href="/discussions" data-view-component="true" class="ActionListContent ActionListContent--visual16">
        <span class="ActionListItem-visual ActionListItem-visual--leading">
          <svg aria-hidden="true" height="16" viewBox="0 0 16 16" version="1.1" width="16" data-view-component="true" class="octicon octicon-comment-discussion">
    <path d="M1.75 1h8.5c.966 0 1.75.784 1.75 1.75v5.5A1.75 1.75 0 0 1 10.25 10H7.061l-2.574 2.573A1.458 1.458 0 0 1 2 11.543V10h-.25A1.75 1.75 0 0 1 0 8.25v-5.5C0 1.784.784 1 1.75 1ZM1.5 2.75v5.5c0 .138.112.25.25.25h1a.75.75 0 0 1 .75.75v2.19l2.72-2.72a.749.749 0 0 1 .53-.22h3.5a.25.25 0 0 0 .25-.25v-5.5a.25.25 0 0 0-.25-.25h-8.5a.25.25 0 0 0-.25.25Zm13 2a.25.25 0 0 0-.25-.25h-.5a.75.75 0 0 1 0-1.5h.5c.966 0 1.75.784 1.75 1.75v5.5A1.75 1.75 0 0 1 14.25 12H14v1.543a1.458 1.458 0 0 1-2.487 1.03L9.22 12.28a.749.749 0 0 1 .326-1.275.749.749 0 0 1 .734.215l2.22 2.22v-2.19a.75.75 0 0 1 .75-.75h1a.25.25 0 0 0 .25-.25Z"></path>
</svg>
        </span>
      
        <span data-view-component="true" class="ActionListItem-label">
          Discussions
</span>      
</a>
  
</li>

        
          
<li data-item-id="" data-targets="nav-list.items" data-view-component="true" class="ActionListItem">
    
    
    <a data-analytics-event="{&quot;category&quot;:&quot;Global navigation&quot;,&quot;action&quot;:&quot;CODESPACES&quot;,&quot;label&quot;:null}" id="item-ebcd9c26-9e22-48b7-944f-67240867e0fe" href="https://github.com/codespaces" data-view-component="true" class="ActionListContent ActionListContent--visual16">
        <span class="ActionListItem-visual ActionListItem-visual--leading">
          <svg aria-hidden="true" height="16" viewBox="0 0 16 16" version="1.1" width="16" data-view-component="true" class="octicon octicon-codespaces">
    <path d="M0 11.25c0-.966.784-1.75 1.75-1.75h12.5c.966 0 1.75.784 1.75 1.75v3A1.75 1.75 0 0 1 14.25 16H1.75A1.75 1.75 0 0 1 0 14.25Zm2-9.5C2 .784 2.784 0 3.75 0h8.5C13.216 0 14 .784 14 1.75v5a1.75 1.75 0 0 1-1.75 1.75h-8.5A1.75 1.75 0 0 1 2 6.75Zm1.75-.25a.25.25 0 0 0-.25.25v5c0 .138.112.25.25.25h8.5a.25.25 0 0 0 .25-.25v-5a.25.25 0 0 0-.25-.25Zm-2 9.5a.25.25 0 0 0-.25.25v3c0 .138.112.25.25.25h12.5a.25.25 0 0 0 .25-.25v-3a.25.25 0 0 0-.25-.25Z"></path><path d="M7 12.75a.75.75 0 0 1 .75-.75h4.5a.75.75 0 0 1 0 1.5h-4.5a.75.75 0 0 1-.75-.75Zm-4 0a.75.75 0 0 1 .75-.75h.5a.75.75 0 0 1 0 1.5h-.5a.75.75 0 0 1-.75-.75Z"></path>
</svg>
        </span>
      
        <span data-view-component="true" class="ActionListItem-label">
          Codespaces
</span>      
</a>
  
</li>

        
          <li role="presentation" aria-hidden="true" data-view-component="true" class="ActionList-sectionDivider hide-whenRegular"></li>
        
          
<li data-item-id="" data-targets="nav-list.items" data-view-component="true" class="ActionListItem">
    
    
    <a data-analytics-event="{&quot;category&quot;:&quot;Global navigation&quot;,&quot;action&quot;:&quot;COPILOT&quot;,&quot;label&quot;:null}" id="item-e24d1b07-0d34-4c5b-b110-783347b7424d" href="/copilot" data-view-component="true" class="ActionListContent ActionListContent--visual16">
        <span class="ActionListItem-visual ActionListItem-visual--leading">
          <svg aria-hidden="true" height="16" viewBox="0 0 16 16" version="1.1" width="16" data-view-component="true" class="octicon octicon-copilot">
    <path d="M7.998 15.035c-4.562 0-7.873-2.914-7.998-3.749V9.338c.085-.628.677-1.686 1.588-2.065.013-.07.024-.143.036-.218.029-.183.06-.384.126-.612-.201-.508-.254-1.084-.254-1.656 0-.87.128-1.769.693-2.484.579-.733 1.494-1.124 2.724-1.261 1.206-.134 2.262.034 2.944.765.05.053.096.108.139.165.044-.057.094-.112.143-.165.682-.731 1.738-.899 2.944-.765 1.23.137 2.145.528 2.724 1.261.566.715.693 1.614.693 2.484 0 .572-.053 1.148-.254 1.656.066.228.098.429.126.612.012.076.024.148.037.218.924.385 1.522 1.471 1.591 2.095v1.872c0 .766-3.351 3.795-8.002 3.795Zm0-1.485c2.28 0 4.584-1.11 5.002-1.433V7.862l-.023-.116c-.49.21-1.075.291-1.727.291-1.146 0-2.059-.327-2.71-.991A3.222 3.222 0 0 1 8 6.303a3.24 3.24 0 0 1-.544.743c-.65.664-1.563.991-2.71.991-.652 0-1.236-.081-1.727-.291l-.023.116v4.255c.419.323 2.722 1.433 5.002 1.433ZM6.762 2.83c-.193-.206-.637-.413-1.682-.297-1.019.113-1.479.404-1.713.7-.247.312-.369.789-.369 1.554 0 .793.129 1.171.308 1.371.162.181.519.379 1.442.379.853 0 1.339-.235 1.638-.54.315-.322.527-.827.617-1.553.117-.935-.037-1.395-.241-1.614Zm4.155-.297c-1.044-.116-1.488.091-1.681.297-.204.219-.359.679-.242 1.614.091.726.303 1.231.618 1.553.299.305.784.54 1.638.54.922 0 1.28-.198 1.442-.379.179-.2.308-.578.308-1.371 0-.765-.123-1.242-.37-1.554-.233-.296-.693-.587-1.713-.7Z"></path><path d="M6.25 9.037a.75.75 0 0 1 .75.75v1.501a.75.75 0 0 1-1.5 0V9.787a.75.75 0 0 1 .75-.75Zm4.25.75v1.501a.75.75 0 0 1-1.5 0V9.787a.75.75 0 0 1 1.5 0Z"></path>
</svg>
        </span>
      
        <span data-view-component="true" class="ActionListItem-label">
          Copilot
</span>      
</a>
  
</li>

        
          
<li data-item-id="" data-targets="nav-list.items" data-view-component="true" class="ActionListItem hide-whenRegular">
    
    
    <a id="item-a94a7d87-76a8-4125-9dbb-1b30f9e1f63f" href="/copilot/spaces" data-view-component="true" class="ActionListContent ActionListContent--visual16">
        <span class="ActionListItem-visual ActionListItem-visual--leading">
          <svg width="16" height="16" data-view-component="true">              <svg
                width=16
                height=16
                fill="none"
                viewBox="0 0 16 16"
                aria-hidden="true"
                xmlns="http://www.w3.org/2000/svg"
              >
                <path
                  fillRule="evenodd"
                  clipRule="evenodd"
                  d="M11.9853 4.76795c.2467 1.23107.1819 2.55631-.3218 3.71134 1.0897-1.00527 1.7464-2.46826 1.7464-3.86921 0-.41421.3357-.75.75-.75.4142 0 .75.33579.75.75 0 2.80515-2.0553 5.92172-5.26314 6.53282.12999.0339.26315.0635.39904.0885 1.3486.2485 2.7916.0174 3.7282-.5446.3552-.2131.8159-.0979 1.029.2573.2131.3552.0979.8159-.2573 1.029-1.3033.782-3.1303 1.0359-4.77168.7335-1.47895-.2726-2.95185-1.0297-3.73462-2.4328.03609.3407.0998.6912.19117 1.0445.39625 1.5319 1.23152 2.7976 2.12066 3.2689.36598.194.5054.6479.31141 1.0139-.19399.366-.64793.5054-1.01391.3114-1.41889-.7521-2.42362-2.4914-2.87037-4.2186-.37219-1.439-.41354-3.09054.18406-4.40236-.18676.13263-.36743.27694-.54001.43237-1.03593.93306-1.73142 2.22122-1.73142 3.69879 0 .4142-.33579.75-.75.75-.41422 0-.75-.3358-.75-.75 0-1.97509.934-3.64826 2.22755-4.81334.88055-.7931 1.9505-1.37217 3.05387-1.65822-.11043-.0376-.22261-.07252-.33631-.10464-1.50098-.42402-2.98649-.28172-3.84609.36302-.33136.24853-.80147.18139-1.05-.14998-.24854-.33136-.1814-.80146.14997-1.05 1.38041-1.03537 3.4149-1.0978 5.1539-.60654 1.67421.47295 3.33259 1.53108 4.06402 3.11319l.0038.00674c.035-.47081.0022-.96424-.0972-1.46029-.2603-1.29954-.95701-2.50156-1.90466-3.21238-.33135-.24854-.39848-.71865-.14994-1.050006.24855-.331356.71865-.398487 1.05001-.14994C10.8023 1.6197 11.6657 3.17263 11.9853 4.76795ZM7.99998 6.0001c-1.10457 0-2 .89543-2 2s.89543 2 2 2 2-.89543 2-2-.89543-2-2-2Z"
                  fill="currentColor"
                />
              </svg>
</svg>
        </span>
      
        <span data-view-component="true" class="ActionListItem-label">
          Spaces
</span>      
</a>
  
</li>

        
          
<li data-item-id="" data-targets="nav-list.items" data-view-component="true" class="ActionListItem ActionListItem--hasSubItem hide-whenRegular">
    
    
    <button id="item-43ca07e0-5b85-4fe5-9c23-c1c98c8e7c8c" type="button" aria-expanded="false" data-action="
            click:nav-list#handleItemWithSubItemClick
            keydown:nav-list#handleItemWithSubItemKeydown
          " data-view-component="true" class="ActionListContent ActionListContent--visual16">
        <span class="ActionListItem-visual ActionListItem-visual--leading">
          <svg aria-hidden="true" height="16" viewBox="0 0 16 16" version="1.1" width="16" data-view-component="true" class="octicon octicon-download">
    <path d="M2.75 14A1.75 1.75 0 0 1 1 12.25v-2.5a.75.75 0 0 1 1.5 0v2.5c0 .138.112.25.25.25h10.5a.25.25 0 0 0 .25-.25v-2.5a.75.75 0 0 1 1.5 0v2.5A1.75 1.75 0 0 1 13.25 14Z"></path><path d="M7.25 7.689V2a.75.75 0 0 1 1.5 0v5.689l1.97-1.969a.749.749 0 1 1 1.06 1.06l-3.25 3.25a.749.749 0 0 1-1.06 0L4.22 6.78a.749.749 0 1 1 1.06-1.06l1.97 1.969Z"></path>
</svg>
        </span>
      
        <span data-view-component="true" class="ActionListItem-label">
          Download Copilot
</span>      
        <span class="ActionListItem-visual ActionListItem-action--trailing">
          <svg aria-hidden="true" height="16" viewBox="0 0 16 16" version="1.1" width="16" data-view-component="true" class="octicon octicon-chevron-down ActionListItem-collapseIcon">
    <path d="M12.78 5.22a.749.749 0 0 1 0 1.06l-4.25 4.25a.749.749 0 0 1-1.06 0L3.22 6.28a.749.749 0 1 1 1.06-1.06L8 8.939l3.72-3.719a.749.749 0 0 1 1.06 0Z"></path>
</svg>
        </span>
</button>
        <ul role="list" data-action="keydown:nav-list#handleItemWithSubItemKeydown" aria-labelledby="item-43ca07e0-5b85-4fe5-9c23-c1c98c8e7c8c" data-view-component="true" class="ActionList ActionList--subGroup">
          
<li data-item-id="" data-targets="nav-list.items" data-view-component="true" class="ActionListItem--subItem ActionListItem">
    
    
    <a id="item-5bc3bf60-b299-41e3-9e04-1bedf7a455b2" href="https://marketplace.visualstudio.com/items?itemName=GitHub.copilot" data-view-component="true" class="ActionListContent">
      
        <span data-view-component="true" class="ActionListItem-label">
          Visual Studio Code
</span>      
</a>
  
</li>

          
<li data-item-id="" data-targets="nav-list.items" data-view-component="true" class="ActionListItem--subItem ActionListItem">
    
    
    <a id="item-1b09fa67-e640-4291-890a-e037ad7c72fe" href="https://visualstudio.microsoft.com/github-copilot/" data-view-component="true" class="ActionListContent">
      
        <span data-view-component="true" class="ActionListItem-label">
          Visual Studio
</span>      
</a>
  
</li>

          
<li data-item-id="" data-targets="nav-list.items" data-view-component="true" class="ActionListItem--subItem ActionListItem">
    
    
    <a id="item-75baf02c-d5d9-4166-a64e-8085fa6e2991" href="https://github.com/github/CopilotForXcode" data-view-component="true" class="ActionListContent">
      
        <span data-view-component="true" class="ActionListItem-label">
          Xcode
</span>      
</a>
  
</li>

          
<li data-item-id="" data-targets="nav-list.items" data-view-component="true" class="ActionListItem--subItem ActionListItem">
    
    
    <a id="item-150953a9-ff51-4d0d-863a-3e260d65b34a" href="https://plugins.jetbrains.com/plugin/17718-github-copilot" data-view-component="true" class="ActionListContent">
      
        <span data-view-component="true" class="ActionListItem-label">
          JetBrains
</span>      
</a>
  
</li>

          
<li data-item-id="" data-targets="nav-list.items" data-view-component="true" class="ActionListItem--subItem ActionListItem">
    
    
    <a id="item-17f7bd37-ba83-4285-8948-597146db9009" href="https://github.com/github/copilot.vim" data-view-component="true" class="ActionListContent">
      
        <span data-view-component="true" class="ActionListItem-label">
          Neovim
</span>      
</a>
  
</li>

          
<li data-item-id="" data-targets="nav-list.items" data-view-component="true" class="ActionListItem--subItem ActionListItem">
    
    
    <a id="item-12542dd6-60b9-4db6-9efb-d573cfdabff3" href="https://docs.github.com/en/copilot/how-tos/set-up/installing-github-copilot-in-the-cli" data-view-component="true" class="ActionListContent">
      
        <span data-view-component="true" class="ActionListItem-label">
          CLI
</span>      
</a>
  
</li>

</ul>
</li>

        
          <li role="presentation" aria-hidden="true" data-view-component="true" class="ActionList-sectionDivider"></li>
        
          
<li data-item-id="" data-targets="nav-list.items" data-view-component="true" class="ActionListItem">
    
    
    <a data-analytics-event="{&quot;category&quot;:&quot;Global navigation&quot;,&quot;action&quot;:&quot;EXPLORE&quot;,&quot;label&quot;:null}" id="item-2bef1c3d-a2c0-4d87-a154-cfe14df2785f" href="/explore" data-view-component="true" class="ActionListContent ActionListContent--visual16">
        <span class="ActionListItem-visual ActionListItem-visual--leading">
          <svg aria-hidden="true" height="16" viewBox="0 0 16 16" version="1.1" width="16" data-view-component="true" class="octicon octicon-telescope">
    <path d="M14.184 1.143v-.001l1.422 2.464a1.75 1.75 0 0 1-.757 2.451L3.104 11.713a1.75 1.75 0 0 1-2.275-.702l-.447-.775a1.75 1.75 0 0 1 .53-2.32L11.682.573a1.748 1.748 0 0 1 2.502.57Zm-4.709 9.32h-.001l2.644 3.863a.75.75 0 1 1-1.238.848l-1.881-2.75v2.826a.75.75 0 0 1-1.5 0v-2.826l-1.881 2.75a.75.75 0 1 1-1.238-.848l2.049-2.992a.746.746 0 0 1 .293-.253l1.809-.87a.749.749 0 0 1 .944.252ZM9.436 3.92h-.001l-4.97 3.39.942 1.63 5.42-2.61Zm3.091-2.108h.001l-1.85 1.26 1.505 2.605 2.016-.97a.247.247 0 0 0 .13-.151.247.247 0 0 0-.022-.199l-1.422-2.464a.253.253 0 0 0-.161-.119.254.254 0 0 0-.197.038ZM1.756 9.157a.25.25 0 0 0-.075.33l.447.775a.25.25 0 0 0 .325.1l1.598-.769-.83-1.436-1.465 1Z"></path>
</svg>
        </span>
      
        <span data-view-component="true" class="ActionListItem-label">
          Explore
</span>      
</a>
  
</li>

        
          
<li data-item-id="" data-targets="nav-list.items" data-view-component="true" class="ActionListItem">
    
    
    <a data-analytics-event="{&quot;category&quot;:&quot;Global navigation&quot;,&quot;action&quot;:&quot;MARKETPLACE&quot;,&quot;label&quot;:null}" id="item-b48c0396-c31a-42fd-9d20-ec9273b95692" href="/marketplace" data-view-component="true" class="ActionListContent ActionListContent--visual16">
        <span class="ActionListItem-visual ActionListItem-visual--leading">
          <svg aria-hidden="true" height="16" viewBox="0 0 16 16" version="1.1" width="16" data-view-component="true" class="octicon octicon-gift">
    <path d="M2 2.75A2.75 2.75 0 0 1 4.75 0c.983 0 1.873.42 2.57 1.232.268.318.497.668.68 1.042.183-.375.411-.725.68-1.044C9.376.42 10.266 0 11.25 0a2.75 2.75 0 0 1 2.45 4h.55c.966 0 1.75.784 1.75 1.75v2c0 .698-.409 1.301-1 1.582v4.918A1.75 1.75 0 0 1 13.25 16H2.75A1.75 1.75 0 0 1 1 14.25V9.332C.409 9.05 0 8.448 0 7.75v-2C0 4.784.784 4 1.75 4h.55c-.192-.375-.3-.8-.3-1.25ZM7.25 9.5H2.5v4.75c0 .138.112.25.25.25h4.5Zm1.5 0v5h4.5a.25.25 0 0 0 .25-.25V9.5Zm0-4V8h5.5a.25.25 0 0 0 .25-.25v-2a.25.25 0 0 0-.25-.25Zm-7 0a.25.25 0 0 0-.25.25v2c0 .138.112.25.25.25h5.5V5.5h-5.5Zm3-4a1.25 1.25 0 0 0 0 2.5h2.309c-.233-.818-.542-1.401-.878-1.793-.43-.502-.915-.707-1.431-.707ZM8.941 4h2.309a1.25 1.25 0 0 0 0-2.5c-.516 0-1 .205-1.43.707-.337.392-.646.975-.879 1.793Z"></path>
</svg>
        </span>
      
        <span data-view-component="true" class="ActionListItem-label">
          Marketplace
</span>      
</a>
  
</li>

</ul>  </nav-list>
</nav>

        <div data-view-component="true" class="my-3 d-flex flex-justify-center height-full">
          <span data-view-component="true">
  <svg style="box-sizing: content-box; color: var(--color-icon-primary);" width="16" height="16" viewBox="0 0 16 16" fill="none" aria-hidden="true" data-view-component="true" class="anim-rotate">
    <circle cx="8" cy="8" r="7" stroke="currentColor" stroke-opacity="0.25" stroke-width="2" vector-effect="non-scaling-stroke" fill="none" />
    <path d="M15 8a7.002 7.002 0 00-7-7" stroke="currentColor" stroke-width="2" stroke-linecap="round" vector-effect="non-scaling-stroke" />
</svg>    <span class="sr-only">Loading</span>
</span>
</div>
</div>
      <div data-view-component="true" class="flex-1"></div>


      <div data-view-component="true" class="px-2">      <p class="color-fg-subtle text-small text-light">&copy; 2025 GitHub, Inc.</p>

      <div data-view-component="true" class="d-flex flex-wrap text-small text-light">
          <a target="_blank" href="https://github.com/about" data-view-component="true" class="Link mr-2">About</a>
          <a target="_blank" href="https://github.blog" data-view-component="true" class="Link mr-2">Blog</a>
          <a target="_blank" href="https://docs.github.com/site-policy/github-terms/github-terms-of-service" data-view-component="true" class="Link mr-2">Terms</a>
          <a target="_blank" href="https://docs.github.com/site-policy/privacy-policies/github-privacy-statement" data-view-component="true" class="Link mr-2">Privacy</a>
          <a target="_blank" href="https://github.com/security" data-view-component="true" class="Link mr-2">Security</a>
          <a target="_blank" href="https://www.githubstatus.com/" data-view-component="true" class="Link mr-3">Status</a>

</div></div>
</div>
      </scrollable-region>
      
</dialog></dialog-helper>


  <div data-show-on-forbidden-error hidden>
    <div class="Box">
  <div class="blankslate-container">
    <div data-view-component="true" class="blankslate blankslate-spacious color-bg-default rounded-2">
      

      <h3 data-view-component="true" class="blankslate-heading">        Uh oh!
</h3>
      <p data-view-component="true">        <p class="color-fg-muted my-2 mb-2 ws-normal">There was an error while loading. <a class="Link--inTextBlock" data-turbo="false" href="" aria-label="Please reload this page">Please reload this page</a>.</p>
</p>

</div>  </div>
</div>  </div>
</include-fragment></deferred-side-panel>
        </div>

        <a class="AppHeader-logo ml-1 "
          href="https://github.com/"
          data-hotkey="g d"
          aria-label="Homepage "
          data-turbo="false"
          data-analytics-event="{&quot;category&quot;:&quot;Header&quot;,&quot;action&quot;:&quot;go to dashboard&quot;,&quot;label&quot;:&quot;icon:logo&quot;}"
        >
          <svg height="32" aria-hidden="true" viewBox="0 0 24 24" version="1.1" width="32" data-view-component="true" class="octicon octicon-mark-github v-align-middle">
    <path d="M12 1C5.923 1 1 5.923 1 12c0 4.867 3.149 8.979 7.521 10.436.55.096.756-.233.756-.522 0-.262-.013-1.128-.013-2.049-2.764.509-3.479-.674-3.699-1.292-.124-.317-.66-1.293-1.127-1.554-.385-.207-.936-.715-.014-.729.866-.014 1.485.797 1.691 1.128.99 1.663 2.571 1.196 3.204.907.096-.715.385-1.196.701-1.471-2.448-.275-5.005-1.224-5.005-5.432 0-1.196.426-2.186 1.128-2.956-.111-.275-.496-1.402.11-2.915 0 0 .921-.288 3.024 1.128a10.193 10.193 0 0 1 2.75-.371c.936 0 1.871.123 2.75.371 2.104-1.43 3.025-1.128 3.025-1.128.605 1.513.221 2.64.111 2.915.701.77 1.127 1.747 1.127 2.956 0 4.222-2.571 5.157-5.019 5.432.399.344.743 1.004.743 2.035 0 1.471-.014 2.654-.014 3.025 0 .289.206.632.756.522C19.851 20.979 23 16.854 23 12c0-6.077-4.922-11-11-11Z"></path>
</svg>
        </a>

          <context-region-controller
  class="AppHeader-context responsive-context-region"
  data-max-items="5"
  
>
  <div class="AppHeader-context-full">
    <nav role="navigation" aria-label="GitHub Breadcrumb">
      
<context-region data-target="context-region-controller.contextRegion" role="list"  data-action="context-region-changed:context-region-controller#crumbsChanged">
    <context-region-crumb
      data-crumb-id="contextregion-usercrumb-developerakansh26"
      data-targets="context-region.crumbs"
      data-label="DeveloperAkansh26"
      data-href="/DeveloperAkansh26"
      data-pre-rendered
      role="listitem"
      
    >
      <a data-target="context-region-crumb.linkElement" data-analytics-event="{&quot;category&quot;:&quot;SiteHeaderComponent&quot;,&quot;action&quot;:&quot;context_region_crumb&quot;,&quot;label&quot;:&quot;DeveloperAkansh26&quot;,&quot;screen_size&quot;:&quot;full&quot;}" data-hovercard-type="user" data-hovercard-url="/users/DeveloperAkansh26/hovercard" data-octo-click="hovercard-link-click" data-octo-dimensions="link_type:self" href="/DeveloperAkansh26" id="contextregion-usercrumb-developerakansh26-link" data-view-component="true" class="AppHeader-context-item">
        <span data-target="context-region-crumb.labelElement" class="AppHeader-context-item-label ">
          DeveloperAkansh26
        </span>

</a>
      <context-region-divider data-target="context-region-crumb.dividerElement" data-pre-rendered >
  <span class="AppHeader-context-item-separator">
    <span class="sr-only">/</span>
    <svg width="16" height="16" viewBox="0 0 16 16" xmlns="http://www.w3.org/2000/svg" aria-hidden="true">
      <path d="M10.956 1.27994L6.06418 14.7201L5 14.7201L9.89181 1.27994L10.956 1.27994Z" fill="currentcolor" />
    </svg>
  </span>
</context-region-divider>

    </context-region-crumb>

      <li data-target="context-region-controller.overflowMenuContainer context-region.overflowMenuContainer" role="listitem" hidden>
        <action-menu data-target="context-region-controller.overflowActionMenu" data-select-variant="none" data-view-component="true">
  <focus-group direction="vertical" mnemonics retain>
    <button id="action-menu-38ece1f8-2bf4-430f-9c52-b012e110588f-button" popovertarget="action-menu-38ece1f8-2bf4-430f-9c52-b012e110588f-overlay" aria-controls="action-menu-38ece1f8-2bf4-430f-9c52-b012e110588f-list" aria-haspopup="true" aria-labelledby="tooltip-2add5b40-7b8c-4a2d-94a6-549b0ef09bdd" type="button" data-view-component="true" class="Button Button--iconOnly Button--secondary Button--medium">  <svg aria-hidden="true" height="16" viewBox="0 0 16 16" version="1.1" width="16" data-view-component="true" class="octicon octicon-kebab-horizontal Button-visual">
    <path d="M8 9a1.5 1.5 0 1 0 0-3 1.5 1.5 0 0 0 0 3ZM1.5 9a1.5 1.5 0 1 0 0-3 1.5 1.5 0 0 0 0 3Zm13 0a1.5 1.5 0 1 0 0-3 1.5 1.5 0 0 0 0 3Z"></path>
</svg>
</button><tool-tip id="tooltip-2add5b40-7b8c-4a2d-94a6-549b0ef09bdd" for="action-menu-38ece1f8-2bf4-430f-9c52-b012e110588f-button" popover="manual" data-direction="s" data-type="label" data-view-component="true" class="sr-only position-absolute">Show more breadcrumb items</tool-tip>


<anchored-position data-target="action-menu.overlay" id="action-menu-38ece1f8-2bf4-430f-9c52-b012e110588f-overlay" anchor="action-menu-38ece1f8-2bf4-430f-9c52-b012e110588f-button" align="start" side="outside-bottom" anchor-offset="normal" popover="auto" data-view-component="true">
  <div data-view-component="true" class="Overlay Overlay--size-auto">
    
      <div data-view-component="true" class="Overlay-body Overlay-body--paddingNone">          <action-list>
  <div data-view-component="true">
    <ul aria-labelledby="action-menu-38ece1f8-2bf4-430f-9c52-b012e110588f-button" id="action-menu-38ece1f8-2bf4-430f-9c52-b012e110588f-list" role="menu" data-view-component="true" class="ActionListWrap--inset ActionListWrap">
        <li hidden="hidden" data-crumb-id="contextregion-usercrumb-developerakansh26" data-targets="context-region.overflowCrumbs action-list.items" data-analytics-event="{&quot;category&quot;:&quot;SiteHeaderComponent&quot;,&quot;action&quot;:&quot;context_region_overflow_menu_crumb&quot;,&quot;label&quot;:&quot;global-navigation&quot;}" role="none" data-view-component="true" class="ActionListItem">
    
    
    <a tabindex="-1" id="item-41f95ae0-1c68-4c02-b748-b24f30c4a676" href="/DeveloperAkansh26" role="menuitem" data-view-component="true" class="ActionListContent">
      
        <span data-view-component="true" class="ActionListItem-label">
          DeveloperAkansh26
</span>      
</a>
  
</li>
        <li hidden="hidden" data-crumb-id="contextregion-repositorycrumb-fashion_recommendation_and_viton" data-targets="context-region.overflowCrumbs action-list.items" data-analytics-event="{&quot;category&quot;:&quot;SiteHeaderComponent&quot;,&quot;action&quot;:&quot;context_region_overflow_menu_crumb&quot;,&quot;label&quot;:&quot;global-navigation&quot;}" role="none" data-view-component="true" class="ActionListItem">
    
    
    <a tabindex="-1" id="item-c8d515c9-93e9-44bc-9fd9-7c737f3e95d7" href="/DeveloperAkansh26/Fashion_Recommendation_And_VITON" role="menuitem" data-view-component="true" class="ActionListContent">
      
        <span data-view-component="true" class="ActionListItem-label">
          Fashion_Recommendation_And_VITON
</span>      
</a>
  
</li>
</ul>    
</div></action-list>


</div>
      
</div></anchored-position>  </focus-group>
</action-menu>
  <context-region-divider data-target="context-region-crumb.dividerElement" data-pre-rendered >
  <span class="AppHeader-context-item-separator">
    <span class="sr-only">/</span>
    <svg width="16" height="16" viewBox="0 0 16 16" xmlns="http://www.w3.org/2000/svg" aria-hidden="true">
      <path d="M10.956 1.27994L6.06418 14.7201L5 14.7201L9.89181 1.27994L10.956 1.27994Z" fill="currentcolor" />
    </svg>
  </span>
</context-region-divider>


      </li>
    <context-region-crumb
      data-crumb-id="contextregion-repositorycrumb-fashion_recommendation_and_viton"
      data-targets="context-region.crumbs"
      data-label="Fashion_Recommendation_And_VITON"
      data-href="/DeveloperAkansh26/Fashion_Recommendation_And_VITON"
      data-pre-rendered
      role="listitem"
      
    >
      <a data-target="context-region-crumb.linkElement" data-analytics-event="{&quot;category&quot;:&quot;SiteHeaderComponent&quot;,&quot;action&quot;:&quot;context_region_crumb&quot;,&quot;label&quot;:&quot;Fashion_Recommendation_And_VITON&quot;,&quot;screen_size&quot;:&quot;full&quot;}" href="/DeveloperAkansh26/Fashion_Recommendation_And_VITON" id="contextregion-repositorycrumb-fashion_recommendation_and_viton-link" data-view-component="true" class="AppHeader-context-item">
        <span data-target="context-region-crumb.labelElement" class="AppHeader-context-item-label ">
          Fashion_Recommendation_And_VITON
        </span>

</a>
      <context-region-divider data-target="context-region-crumb.dividerElement" data-pre-rendered >
  <span class="AppHeader-context-item-separator">
    <span class="sr-only">/</span>
    <svg width="16" height="16" viewBox="0 0 16 16" xmlns="http://www.w3.org/2000/svg" aria-hidden="true">
      <path d="M10.956 1.27994L6.06418 14.7201L5 14.7201L9.89181 1.27994L10.956 1.27994Z" fill="currentcolor" />
    </svg>
  </span>
</context-region-divider>

    </context-region-crumb>

</context-region>

    </nav>
  </div>
</context-region-controller>

      </div>
      <div class="AppHeader-globalBar-end">
          <div class="AppHeader-search" >
              


<qbsearch-input class="search-input" data-scope="repo:DeveloperAkansh26/Fashion_Recommendation_And_VITON" data-custom-scopes-path="/search/custom_scopes" data-delete-custom-scopes-csrf="fPzbgYtC6RUCcUHXDM09zbdPYAZvANLZ1vXS1rr2BhrmV_I3ZLLTVQwy0ywgcV0EM_FrXa_gYDSThOppDeSsUQ" data-max-custom-scopes="10" data-header-redesign-enabled="true" data-initial-value="" data-blackbird-suggestions-path="/search/suggestions" data-jump-to-suggestions-path="/_graphql/GetSuggestedNavigationDestinations" data-current-repository="DeveloperAkansh26/Fashion_Recommendation_And_VITON" data-current-org="" data-current-owner="DeveloperAkansh26" data-logged-in="true" data-copilot-chat-enabled="true" data-nl-search-enabled="false">
  <div
    class="search-input-container search-with-dialog position-relative d-flex flex-row flex-items-center height-auto color-bg-transparent border-0 color-fg-subtle mx-0"
    data-action="click:qbsearch-input#searchInputContainerClicked"
  >
      
            <button type="button" data-action="click:qbsearch-input#handleExpand" class="AppHeader-button AppHeader-search-whenNarrow" aria-label="Search or jump to…" aria-expanded="false" aria-haspopup="dialog">
            <svg aria-hidden="true" height="16" viewBox="0 0 16 16" version="1.1" width="16" data-view-component="true" class="octicon octicon-search">
    <path d="M10.68 11.74a6 6 0 0 1-7.922-8.982 6 6 0 0 1 8.982 7.922l3.04 3.04a.749.749 0 0 1-.326 1.275.749.749 0 0 1-.734-.215ZM11.5 7a4.499 4.499 0 1 0-8.997 0A4.499 4.499 0 0 0 11.5 7Z"></path>
</svg>
          </button>


<div class="AppHeader-search-whenRegular">
  <div class="AppHeader-search-wrap AppHeader-search-wrap--hasTrailing">
    <div class="AppHeader-search-control AppHeader-search-control-overflow">
      <label
        for="AppHeader-searchInput"
        aria-label="Search or jump to…"
        class="AppHeader-search-visual--leading"
      >
        <svg aria-hidden="true" height="16" viewBox="0 0 16 16" version="1.1" width="16" data-view-component="true" class="octicon octicon-search">
    <path d="M10.68 11.74a6 6 0 0 1-7.922-8.982 6 6 0 0 1 8.982 7.922l3.04 3.04a.749.749 0 0 1-.326 1.275.749.749 0 0 1-.734-.215ZM11.5 7a4.499 4.499 0 1 0-8.997 0A4.499 4.499 0 0 0 11.5 7Z"></path>
</svg>
      </label>

                <button
            type="button"
            data-target="qbsearch-input.inputButton"
            data-action="click:qbsearch-input#handleExpand"
            class="AppHeader-searchButton form-control text-left color-fg-subtle no-wrap"
            data-hotkey="s,/"
            data-analytics-event="{&quot;location&quot;:&quot;navbar&quot;,&quot;action&quot;:&quot;searchbar&quot;,&quot;context&quot;:&quot;global&quot;,&quot;tag&quot;:&quot;input&quot;,&quot;label&quot;:&quot;searchbar_input_global_navbar&quot;}"
            aria-describedby="search-error-message-flash"
          >
            <div class="overflow-hidden">
              <span id="qb-input-query" data-target="qbsearch-input.inputButtonText">
                  Type <kbd class="AppHeader-search-kbd">/</kbd> to search
              </span>
            </div>
          </button>

    </div>


  </div>
</div>

    <input type="hidden" name="type" class="js-site-search-type-field">

    
<div class="Overlay--hidden " data-modal-dialog-overlay>
  <modal-dialog data-action="close:qbsearch-input#handleClose cancel:qbsearch-input#handleClose" data-target="qbsearch-input.searchSuggestionsDialog" role="dialog" id="search-suggestions-dialog" aria-modal="true" aria-labelledby="search-suggestions-dialog-header" data-view-component="true" class="Overlay Overlay--width-medium Overlay--height-auto">
      <h1 id="search-suggestions-dialog-header" class="sr-only">Search code, repositories, users, issues, pull requests...</h1>
    <div class="Overlay-body Overlay-body--paddingNone">
      
          <div data-view-component="true">        <div class="search-suggestions position-absolute width-full color-shadow-large border color-fg-default color-bg-default overflow-hidden d-flex flex-column query-builder-container"
          style="border-radius: 12px;"
          data-target="qbsearch-input.queryBuilderContainer"
          hidden
        >
          <!-- '"` --><!-- </textarea></xmp> --></option></form><form id="query-builder-test-form" action="" accept-charset="UTF-8" method="get">
  <query-builder data-target="qbsearch-input.queryBuilder" id="query-builder-query-builder-test" data-filter-key=":" data-view-component="true" class="QueryBuilder search-query-builder">
    <div class="FormControl FormControl--fullWidth">
      <label id="query-builder-test-label" for="query-builder-test" class="FormControl-label sr-only">
        Search
      </label>
      <div
        class="QueryBuilder-StyledInput width-fit "
        data-target="query-builder.styledInput"
      >
          <span id="query-builder-test-leadingvisual-wrap" class="FormControl-input-leadingVisualWrap QueryBuilder-leadingVisualWrap">
            <svg aria-hidden="true" height="16" viewBox="0 0 16 16" version="1.1" width="16" data-view-component="true" class="octicon octicon-search FormControl-input-leadingVisual">
    <path d="M10.68 11.74a6 6 0 0 1-7.922-8.982 6 6 0 0 1 8.982 7.922l3.04 3.04a.749.749 0 0 1-.326 1.275.749.749 0 0 1-.734-.215ZM11.5 7a4.499 4.499 0 1 0-8.997 0A4.499 4.499 0 0 0 11.5 7Z"></path>
</svg>
          </span>
        <div data-target="query-builder.styledInputContainer" class="QueryBuilder-StyledInputContainer">
          <div
            aria-hidden="true"
            class="QueryBuilder-StyledInputContent"
            data-target="query-builder.styledInputContent"
          ></div>
          <div class="QueryBuilder-InputWrapper">
            <div aria-hidden="true" class="QueryBuilder-Sizer" data-target="query-builder.sizer"></div>
            <input id="query-builder-test" name="query-builder-test" value="" autocomplete="off" type="text" role="combobox" spellcheck="false" aria-expanded="false" aria-describedby="validation-775db214-558f-4a95-b130-c194c8c743a2" data-target="query-builder.input" data-action="
          input:query-builder#inputChange
          blur:query-builder#inputBlur
          keydown:query-builder#inputKeydown
          focus:query-builder#inputFocus
        " data-view-component="true" class="FormControl-input QueryBuilder-Input FormControl-medium" />
          </div>
        </div>
          <span class="sr-only" id="query-builder-test-clear">Clear</span>
          <button role="button" id="query-builder-test-clear-button" aria-labelledby="query-builder-test-clear query-builder-test-label" data-target="query-builder.clearButton" data-action="
                click:query-builder#clear
                focus:query-builder#clearButtonFocus
                blur:query-builder#clearButtonBlur
              " variant="small" hidden="hidden" type="button" data-view-component="true" class="Button Button--iconOnly Button--invisible Button--medium mr-1 px-2 py-0 d-flex flex-items-center rounded-1 color-fg-muted">  <svg aria-hidden="true" height="16" viewBox="0 0 16 16" version="1.1" width="16" data-view-component="true" class="octicon octicon-x-circle-fill Button-visual">
    <path d="M2.343 13.657A8 8 0 1 1 13.658 2.343 8 8 0 0 1 2.343 13.657ZM6.03 4.97a.751.751 0 0 0-1.042.018.751.751 0 0 0-.018 1.042L6.94 8 4.97 9.97a.749.749 0 0 0 .326 1.275.749.749 0 0 0 .734-.215L8 9.06l1.97 1.97a.749.749 0 0 0 1.275-.326.749.749 0 0 0-.215-.734L9.06 8l1.97-1.97a.749.749 0 0 0-.326-1.275.749.749 0 0 0-.734.215L8 6.94Z"></path>
</svg>
</button>

      </div>
      <template id="search-icon">
  <svg aria-hidden="true" height="16" viewBox="0 0 16 16" version="1.1" width="16" data-view-component="true" class="octicon octicon-search">
    <path d="M10.68 11.74a6 6 0 0 1-7.922-8.982 6 6 0 0 1 8.982 7.922l3.04 3.04a.749.749 0 0 1-.326 1.275.749.749 0 0 1-.734-.215ZM11.5 7a4.499 4.499 0 1 0-8.997 0A4.499 4.499 0 0 0 11.5 7Z"></path>
</svg>
</template>

<template id="code-icon">
  <svg aria-hidden="true" height="16" viewBox="0 0 16 16" version="1.1" width="16" data-view-component="true" class="octicon octicon-code">
    <path d="m11.28 3.22 4.25 4.25a.75.75 0 0 1 0 1.06l-4.25 4.25a.749.749 0 0 1-1.275-.326.749.749 0 0 1 .215-.734L13.94 8l-3.72-3.72a.749.749 0 0 1 .326-1.275.749.749 0 0 1 .734.215Zm-6.56 0a.751.751 0 0 1 1.042.018.751.751 0 0 1 .018 1.042L2.06 8l3.72 3.72a.749.749 0 0 1-.326 1.275.749.749 0 0 1-.734-.215L.47 8.53a.75.75 0 0 1 0-1.06Z"></path>
</svg>
</template>

<template id="file-code-icon">
  <svg aria-hidden="true" height="16" viewBox="0 0 16 16" version="1.1" width="16" data-view-component="true" class="octicon octicon-file-code">
    <path d="M4 1.75C4 .784 4.784 0 5.75 0h5.586c.464 0 .909.184 1.237.513l2.914 2.914c.329.328.513.773.513 1.237v8.586A1.75 1.75 0 0 1 14.25 15h-9a.75.75 0 0 1 0-1.5h9a.25.25 0 0 0 .25-.25V6h-2.75A1.75 1.75 0 0 1 10 4.25V1.5H5.75a.25.25 0 0 0-.25.25v2.5a.75.75 0 0 1-1.5 0Zm1.72 4.97a.75.75 0 0 1 1.06 0l2 2a.75.75 0 0 1 0 1.06l-2 2a.749.749 0 0 1-1.275-.326.749.749 0 0 1 .215-.734l1.47-1.47-1.47-1.47a.75.75 0 0 1 0-1.06ZM3.28 7.78 1.81 9.25l1.47 1.47a.751.751 0 0 1-.018 1.042.751.751 0 0 1-1.042.018l-2-2a.75.75 0 0 1 0-1.06l2-2a.751.751 0 0 1 1.042.018.751.751 0 0 1 .018 1.042Zm8.22-6.218V4.25c0 .138.112.25.25.25h2.688l-.011-.013-2.914-2.914-.013-.011Z"></path>
</svg>
</template>

<template id="history-icon">
  <svg aria-hidden="true" height="16" viewBox="0 0 16 16" version="1.1" width="16" data-view-component="true" class="octicon octicon-history">
    <path d="m.427 1.927 1.215 1.215a8.002 8.002 0 1 1-1.6 5.685.75.75 0 1 1 1.493-.154 6.5 6.5 0 1 0 1.18-4.458l1.358 1.358A.25.25 0 0 1 3.896 6H.25A.25.25 0 0 1 0 5.75V2.104a.25.25 0 0 1 .427-.177ZM7.75 4a.75.75 0 0 1 .75.75v2.992l2.028.812a.75.75 0 0 1-.557 1.392l-2.5-1A.751.751 0 0 1 7 8.25v-3.5A.75.75 0 0 1 7.75 4Z"></path>
</svg>
</template>

<template id="repo-icon">
  <svg aria-hidden="true" height="16" viewBox="0 0 16 16" version="1.1" width="16" data-view-component="true" class="octicon octicon-repo">
    <path d="M2 2.5A2.5 2.5 0 0 1 4.5 0h8.75a.75.75 0 0 1 .75.75v12.5a.75.75 0 0 1-.75.75h-2.5a.75.75 0 0 1 0-1.5h1.75v-2h-8a1 1 0 0 0-.714 1.7.75.75 0 1 1-1.072 1.05A2.495 2.495 0 0 1 2 11.5Zm10.5-1h-8a1 1 0 0 0-1 1v6.708A2.486 2.486 0 0 1 4.5 9h8ZM5 12.25a.25.25 0 0 1 .25-.25h3.5a.25.25 0 0 1 .25.25v3.25a.25.25 0 0 1-.4.2l-1.45-1.087a.249.249 0 0 0-.3 0L5.4 15.7a.25.25 0 0 1-.4-.2Z"></path>
</svg>
</template>

<template id="bookmark-icon">
  <svg aria-hidden="true" height="16" viewBox="0 0 16 16" version="1.1" width="16" data-view-component="true" class="octicon octicon-bookmark">
    <path d="M3 2.75C3 1.784 3.784 1 4.75 1h6.5c.966 0 1.75.784 1.75 1.75v11.5a.75.75 0 0 1-1.227.579L8 11.722l-3.773 3.107A.751.751 0 0 1 3 14.25Zm1.75-.25a.25.25 0 0 0-.25.25v9.91l3.023-2.489a.75.75 0 0 1 .954 0l3.023 2.49V2.75a.25.25 0 0 0-.25-.25Z"></path>
</svg>
</template>

<template id="plus-circle-icon">
  <svg aria-hidden="true" height="16" viewBox="0 0 16 16" version="1.1" width="16" data-view-component="true" class="octicon octicon-plus-circle">
    <path d="M8 0a8 8 0 1 1 0 16A8 8 0 0 1 8 0ZM1.5 8a6.5 6.5 0 1 0 13 0 6.5 6.5 0 0 0-13 0Zm7.25-3.25v2.5h2.5a.75.75 0 0 1 0 1.5h-2.5v2.5a.75.75 0 0 1-1.5 0v-2.5h-2.5a.75.75 0 0 1 0-1.5h2.5v-2.5a.75.75 0 0 1 1.5 0Z"></path>
</svg>
</template>

<template id="circle-icon">
  <svg aria-hidden="true" height="16" viewBox="0 0 16 16" version="1.1" width="16" data-view-component="true" class="octicon octicon-dot-fill">
    <path d="M8 4a4 4 0 1 1 0 8 4 4 0 0 1 0-8Z"></path>
</svg>
</template>

<template id="trash-icon">
  <svg aria-hidden="true" height="16" viewBox="0 0 16 16" version="1.1" width="16" data-view-component="true" class="octicon octicon-trash">
    <path d="M11 1.75V3h2.25a.75.75 0 0 1 0 1.5H2.75a.75.75 0 0 1 0-1.5H5V1.75C5 .784 5.784 0 6.75 0h2.5C10.216 0 11 .784 11 1.75ZM4.496 6.675l.66 6.6a.25.25 0 0 0 .249.225h5.19a.25.25 0 0 0 .249-.225l.66-6.6a.75.75 0 0 1 1.492.149l-.66 6.6A1.748 1.748 0 0 1 10.595 15h-5.19a1.75 1.75 0 0 1-1.741-1.575l-.66-6.6a.75.75 0 1 1 1.492-.15ZM6.5 1.75V3h3V1.75a.25.25 0 0 0-.25-.25h-2.5a.25.25 0 0 0-.25.25Z"></path>
</svg>
</template>

<template id="team-icon">
  <svg aria-hidden="true" height="16" viewBox="0 0 16 16" version="1.1" width="16" data-view-component="true" class="octicon octicon-people">
    <path d="M2 5.5a3.5 3.5 0 1 1 5.898 2.549 5.508 5.508 0 0 1 3.034 4.084.75.75 0 1 1-1.482.235 4 4 0 0 0-7.9 0 .75.75 0 0 1-1.482-.236A5.507 5.507 0 0 1 3.102 8.05 3.493 3.493 0 0 1 2 5.5ZM11 4a3.001 3.001 0 0 1 2.22 5.018 5.01 5.01 0 0 1 2.56 3.012.749.749 0 0 1-.885.954.752.752 0 0 1-.549-.514 3.507 3.507 0 0 0-2.522-2.372.75.75 0 0 1-.574-.73v-.352a.75.75 0 0 1 .416-.672A1.5 1.5 0 0 0 11 5.5.75.75 0 0 1 11 4Zm-5.5-.5a2 2 0 1 0-.001 3.999A2 2 0 0 0 5.5 3.5Z"></path>
</svg>
</template>

<template id="project-icon">
  <svg aria-hidden="true" height="16" viewBox="0 0 16 16" version="1.1" width="16" data-view-component="true" class="octicon octicon-project">
    <path d="M1.75 0h12.5C15.216 0 16 .784 16 1.75v12.5A1.75 1.75 0 0 1 14.25 16H1.75A1.75 1.75 0 0 1 0 14.25V1.75C0 .784.784 0 1.75 0ZM1.5 1.75v12.5c0 .138.112.25.25.25h12.5a.25.25 0 0 0 .25-.25V1.75a.25.25 0 0 0-.25-.25H1.75a.25.25 0 0 0-.25.25ZM11.75 3a.75.75 0 0 1 .75.75v7.5a.75.75 0 0 1-1.5 0v-7.5a.75.75 0 0 1 .75-.75Zm-8.25.75a.75.75 0 0 1 1.5 0v5.5a.75.75 0 0 1-1.5 0ZM8 3a.75.75 0 0 1 .75.75v3.5a.75.75 0 0 1-1.5 0v-3.5A.75.75 0 0 1 8 3Z"></path>
</svg>
</template>

<template id="pencil-icon">
  <svg aria-hidden="true" height="16" viewBox="0 0 16 16" version="1.1" width="16" data-view-component="true" class="octicon octicon-pencil">
    <path d="M11.013 1.427a1.75 1.75 0 0 1 2.474 0l1.086 1.086a1.75 1.75 0 0 1 0 2.474l-8.61 8.61c-.21.21-.47.364-.756.445l-3.251.93a.75.75 0 0 1-.927-.928l.929-3.25c.081-.286.235-.547.445-.758l8.61-8.61Zm.176 4.823L9.75 4.81l-6.286 6.287a.253.253 0 0 0-.064.108l-.558 1.953 1.953-.558a.253.253 0 0 0 .108-.064Zm1.238-3.763a.25.25 0 0 0-.354 0L10.811 3.75l1.439 1.44 1.263-1.263a.25.25 0 0 0 0-.354Z"></path>
</svg>
</template>

<template id="copilot-icon">
  <svg aria-hidden="true" height="16" viewBox="0 0 16 16" version="1.1" width="16" data-view-component="true" class="octicon octicon-copilot">
    <path d="M7.998 15.035c-4.562 0-7.873-2.914-7.998-3.749V9.338c.085-.628.677-1.686 1.588-2.065.013-.07.024-.143.036-.218.029-.183.06-.384.126-.612-.201-.508-.254-1.084-.254-1.656 0-.87.128-1.769.693-2.484.579-.733 1.494-1.124 2.724-1.261 1.206-.134 2.262.034 2.944.765.05.053.096.108.139.165.044-.057.094-.112.143-.165.682-.731 1.738-.899 2.944-.765 1.23.137 2.145.528 2.724 1.261.566.715.693 1.614.693 2.484 0 .572-.053 1.148-.254 1.656.066.228.098.429.126.612.012.076.024.148.037.218.924.385 1.522 1.471 1.591 2.095v1.872c0 .766-3.351 3.795-8.002 3.795Zm0-1.485c2.28 0 4.584-1.11 5.002-1.433V7.862l-.023-.116c-.49.21-1.075.291-1.727.291-1.146 0-2.059-.327-2.71-.991A3.222 3.222 0 0 1 8 6.303a3.24 3.24 0 0 1-.544.743c-.65.664-1.563.991-2.71.991-.652 0-1.236-.081-1.727-.291l-.023.116v4.255c.419.323 2.722 1.433 5.002 1.433ZM6.762 2.83c-.193-.206-.637-.413-1.682-.297-1.019.113-1.479.404-1.713.7-.247.312-.369.789-.369 1.554 0 .793.129 1.171.308 1.371.162.181.519.379 1.442.379.853 0 1.339-.235 1.638-.54.315-.322.527-.827.617-1.553.117-.935-.037-1.395-.241-1.614Zm4.155-.297c-1.044-.116-1.488.091-1.681.297-.204.219-.359.679-.242 1.614.091.726.303 1.231.618 1.553.299.305.784.54 1.638.54.922 0 1.28-.198 1.442-.379.179-.2.308-.578.308-1.371 0-.765-.123-1.242-.37-1.554-.233-.296-.693-.587-1.713-.7Z"></path><path d="M6.25 9.037a.75.75 0 0 1 .75.75v1.501a.75.75 0 0 1-1.5 0V9.787a.75.75 0 0 1 .75-.75Zm4.25.75v1.501a.75.75 0 0 1-1.5 0V9.787a.75.75 0 0 1 1.5 0Z"></path>
</svg>
</template>

<template id="copilot-error-icon">
  <svg aria-hidden="true" height="16" viewBox="0 0 16 16" version="1.1" width="16" data-view-component="true" class="octicon octicon-copilot-error">
    <path d="M16 11.24c0 .112-.072.274-.21.467L13 9.688V7.862l-.023-.116c-.49.21-1.075.291-1.727.291-.198 0-.388-.009-.571-.029L6.833 5.226a4.01 4.01 0 0 0 .17-.782c.117-.935-.037-1.395-.241-1.614-.193-.206-.637-.413-1.682-.297-.683.076-1.115.231-1.395.415l-1.257-.91c.579-.564 1.413-.877 2.485-.996 1.206-.134 2.262.034 2.944.765.05.053.096.108.139.165.044-.057.094-.112.143-.165.682-.731 1.738-.899 2.944-.765 1.23.137 2.145.528 2.724 1.261.566.715.693 1.614.693 2.484 0 .572-.053 1.148-.254 1.656.066.228.098.429.126.612.012.076.024.148.037.218.924.385 1.522 1.471 1.591 2.095Zm-5.083-8.707c-1.044-.116-1.488.091-1.681.297-.204.219-.359.679-.242 1.614.091.726.303 1.231.618 1.553.299.305.784.54 1.638.54.922 0 1.28-.198 1.442-.379.179-.2.308-.578.308-1.371 0-.765-.123-1.242-.37-1.554-.233-.296-.693-.587-1.713-.7Zm2.511 11.074c-1.393.776-3.272 1.428-5.43 1.428-4.562 0-7.873-2.914-7.998-3.749V9.338c.085-.628.677-1.686 1.588-2.065.013-.07.024-.143.036-.218.029-.183.06-.384.126-.612-.18-.455-.241-.963-.252-1.475L.31 4.107A.747.747 0 0 1 0 3.509V3.49a.748.748 0 0 1 .625-.73c.156-.026.306.047.435.139l14.667 10.578a.592.592 0 0 1 .227.264.752.752 0 0 1 .046.249v.022a.75.75 0 0 1-1.19.596Zm-1.367-.991L5.635 7.964a5.128 5.128 0 0 1-.889.073c-.652 0-1.236-.081-1.727-.291l-.023.116v4.255c.419.323 2.722 1.433 5.002 1.433 1.539 0 3.089-.505 4.063-.934Z"></path>
</svg>
</template>

<template id="workflow-icon">
  <svg aria-hidden="true" height="16" viewBox="0 0 16 16" version="1.1" width="16" data-view-component="true" class="octicon octicon-workflow">
    <path d="M0 1.75C0 .784.784 0 1.75 0h3.5C6.216 0 7 .784 7 1.75v3.5A1.75 1.75 0 0 1 5.25 7H4v4a1 1 0 0 0 1 1h4v-1.25C9 9.784 9.784 9 10.75 9h3.5c.966 0 1.75.784 1.75 1.75v3.5A1.75 1.75 0 0 1 14.25 16h-3.5A1.75 1.75 0 0 1 9 14.25v-.75H5A2.5 2.5 0 0 1 2.5 11V7h-.75A1.75 1.75 0 0 1 0 5.25Zm1.75-.25a.25.25 0 0 0-.25.25v3.5c0 .138.112.25.25.25h3.5a.25.25 0 0 0 .25-.25v-3.5a.25.25 0 0 0-.25-.25Zm9 9a.25.25 0 0 0-.25.25v3.5c0 .138.112.25.25.25h3.5a.25.25 0 0 0 .25-.25v-3.5a.25.25 0 0 0-.25-.25Z"></path>
</svg>
</template>

<template id="book-icon">
  <svg aria-hidden="true" height="16" viewBox="0 0 16 16" version="1.1" width="16" data-view-component="true" class="octicon octicon-book">
    <path d="M0 1.75A.75.75 0 0 1 .75 1h4.253c1.227 0 2.317.59 3 1.501A3.743 3.743 0 0 1 11.006 1h4.245a.75.75 0 0 1 .75.75v10.5a.75.75 0 0 1-.75.75h-4.507a2.25 2.25 0 0 0-1.591.659l-.622.621a.75.75 0 0 1-1.06 0l-.622-.621A2.25 2.25 0 0 0 5.258 13H.75a.75.75 0 0 1-.75-.75Zm7.251 10.324.004-5.073-.002-2.253A2.25 2.25 0 0 0 5.003 2.5H1.5v9h3.757a3.75 3.75 0 0 1 1.994.574ZM8.755 4.75l-.004 7.322a3.752 3.752 0 0 1 1.992-.572H14.5v-9h-3.495a2.25 2.25 0 0 0-2.25 2.25Z"></path>
</svg>
</template>

<template id="code-review-icon">
  <svg aria-hidden="true" height="16" viewBox="0 0 16 16" version="1.1" width="16" data-view-component="true" class="octicon octicon-code-review">
    <path d="M1.75 1h12.5c.966 0 1.75.784 1.75 1.75v8.5A1.75 1.75 0 0 1 14.25 13H8.061l-2.574 2.573A1.458 1.458 0 0 1 3 14.543V13H1.75A1.75 1.75 0 0 1 0 11.25v-8.5C0 1.784.784 1 1.75 1ZM1.5 2.75v8.5c0 .138.112.25.25.25h2a.75.75 0 0 1 .75.75v2.19l2.72-2.72a.749.749 0 0 1 .53-.22h6.5a.25.25 0 0 0 .25-.25v-8.5a.25.25 0 0 0-.25-.25H1.75a.25.25 0 0 0-.25.25Zm5.28 1.72a.75.75 0 0 1 0 1.06L5.31 7l1.47 1.47a.751.751 0 0 1-.018 1.042.751.751 0 0 1-1.042.018l-2-2a.75.75 0 0 1 0-1.06l2-2a.75.75 0 0 1 1.06 0Zm2.44 0a.75.75 0 0 1 1.06 0l2 2a.75.75 0 0 1 0 1.06l-2 2a.751.751 0 0 1-1.042-.018.751.751 0 0 1-.018-1.042L10.69 7 9.22 5.53a.75.75 0 0 1 0-1.06Z"></path>
</svg>
</template>

<template id="codespaces-icon">
  <svg aria-hidden="true" height="16" viewBox="0 0 16 16" version="1.1" width="16" data-view-component="true" class="octicon octicon-codespaces">
    <path d="M0 11.25c0-.966.784-1.75 1.75-1.75h12.5c.966 0 1.75.784 1.75 1.75v3A1.75 1.75 0 0 1 14.25 16H1.75A1.75 1.75 0 0 1 0 14.25Zm2-9.5C2 .784 2.784 0 3.75 0h8.5C13.216 0 14 .784 14 1.75v5a1.75 1.75 0 0 1-1.75 1.75h-8.5A1.75 1.75 0 0 1 2 6.75Zm1.75-.25a.25.25 0 0 0-.25.25v5c0 .138.112.25.25.25h8.5a.25.25 0 0 0 .25-.25v-5a.25.25 0 0 0-.25-.25Zm-2 9.5a.25.25 0 0 0-.25.25v3c0 .138.112.25.25.25h12.5a.25.25 0 0 0 .25-.25v-3a.25.25 0 0 0-.25-.25Z"></path><path d="M7 12.75a.75.75 0 0 1 .75-.75h4.5a.75.75 0 0 1 0 1.5h-4.5a.75.75 0 0 1-.75-.75Zm-4 0a.75.75 0 0 1 .75-.75h.5a.75.75 0 0 1 0 1.5h-.5a.75.75 0 0 1-.75-.75Z"></path>
</svg>
</template>

<template id="comment-icon">
  <svg aria-hidden="true" height="16" viewBox="0 0 16 16" version="1.1" width="16" data-view-component="true" class="octicon octicon-comment">
    <path d="M1 2.75C1 1.784 1.784 1 2.75 1h10.5c.966 0 1.75.784 1.75 1.75v7.5A1.75 1.75 0 0 1 13.25 12H9.06l-2.573 2.573A1.458 1.458 0 0 1 4 13.543V12H2.75A1.75 1.75 0 0 1 1 10.25Zm1.75-.25a.25.25 0 0 0-.25.25v7.5c0 .138.112.25.25.25h2a.75.75 0 0 1 .75.75v2.19l2.72-2.72a.749.749 0 0 1 .53-.22h4.5a.25.25 0 0 0 .25-.25v-7.5a.25.25 0 0 0-.25-.25Z"></path>
</svg>
</template>

<template id="comment-discussion-icon">
  <svg aria-hidden="true" height="16" viewBox="0 0 16 16" version="1.1" width="16" data-view-component="true" class="octicon octicon-comment-discussion">
    <path d="M1.75 1h8.5c.966 0 1.75.784 1.75 1.75v5.5A1.75 1.75 0 0 1 10.25 10H7.061l-2.574 2.573A1.458 1.458 0 0 1 2 11.543V10h-.25A1.75 1.75 0 0 1 0 8.25v-5.5C0 1.784.784 1 1.75 1ZM1.5 2.75v5.5c0 .138.112.25.25.25h1a.75.75 0 0 1 .75.75v2.19l2.72-2.72a.749.749 0 0 1 .53-.22h3.5a.25.25 0 0 0 .25-.25v-5.5a.25.25 0 0 0-.25-.25h-8.5a.25.25 0 0 0-.25.25Zm13 2a.25.25 0 0 0-.25-.25h-.5a.75.75 0 0 1 0-1.5h.5c.966 0 1.75.784 1.75 1.75v5.5A1.75 1.75 0 0 1 14.25 12H14v1.543a1.458 1.458 0 0 1-2.487 1.03L9.22 12.28a.749.749 0 0 1 .326-1.275.749.749 0 0 1 .734.215l2.22 2.22v-2.19a.75.75 0 0 1 .75-.75h1a.25.25 0 0 0 .25-.25Z"></path>
</svg>
</template>

<template id="organization-icon">
  <svg aria-hidden="true" height="16" viewBox="0 0 16 16" version="1.1" width="16" data-view-component="true" class="octicon octicon-organization">
    <path d="M1.75 16A1.75 1.75 0 0 1 0 14.25V1.75C0 .784.784 0 1.75 0h8.5C11.216 0 12 .784 12 1.75v12.5c0 .085-.006.168-.018.25h2.268a.25.25 0 0 0 .25-.25V8.285a.25.25 0 0 0-.111-.208l-1.055-.703a.749.749 0 1 1 .832-1.248l1.055.703c.487.325.779.871.779 1.456v5.965A1.75 1.75 0 0 1 14.25 16h-3.5a.766.766 0 0 1-.197-.026c-.099.017-.2.026-.303.026h-3a.75.75 0 0 1-.75-.75V14h-1v1.25a.75.75 0 0 1-.75.75Zm-.25-1.75c0 .138.112.25.25.25H4v-1.25a.75.75 0 0 1 .75-.75h2.5a.75.75 0 0 1 .75.75v1.25h2.25a.25.25 0 0 0 .25-.25V1.75a.25.25 0 0 0-.25-.25h-8.5a.25.25 0 0 0-.25.25ZM3.75 6h.5a.75.75 0 0 1 0 1.5h-.5a.75.75 0 0 1 0-1.5ZM3 3.75A.75.75 0 0 1 3.75 3h.5a.75.75 0 0 1 0 1.5h-.5A.75.75 0 0 1 3 3.75Zm4 3A.75.75 0 0 1 7.75 6h.5a.75.75 0 0 1 0 1.5h-.5A.75.75 0 0 1 7 6.75ZM7.75 3h.5a.75.75 0 0 1 0 1.5h-.5a.75.75 0 0 1 0-1.5ZM3 9.75A.75.75 0 0 1 3.75 9h.5a.75.75 0 0 1 0 1.5h-.5A.75.75 0 0 1 3 9.75ZM7.75 9h.5a.75.75 0 0 1 0 1.5h-.5a.75.75 0 0 1 0-1.5Z"></path>
</svg>
</template>

<template id="rocket-icon">
  <svg aria-hidden="true" height="16" viewBox="0 0 16 16" version="1.1" width="16" data-view-component="true" class="octicon octicon-rocket">
    <path d="M14.064 0h.186C15.216 0 16 .784 16 1.75v.186a8.752 8.752 0 0 1-2.564 6.186l-.458.459c-.314.314-.641.616-.979.904v3.207c0 .608-.315 1.172-.833 1.49l-2.774 1.707a.749.749 0 0 1-1.11-.418l-.954-3.102a1.214 1.214 0 0 1-.145-.125L3.754 9.816a1.218 1.218 0 0 1-.124-.145L.528 8.717a.749.749 0 0 1-.418-1.11l1.71-2.774A1.748 1.748 0 0 1 3.31 4h3.204c.288-.338.59-.665.904-.979l.459-.458A8.749 8.749 0 0 1 14.064 0ZM8.938 3.623h-.002l-.458.458c-.76.76-1.437 1.598-2.02 2.5l-1.5 2.317 2.143 2.143 2.317-1.5c.902-.583 1.74-1.26 2.499-2.02l.459-.458a7.25 7.25 0 0 0 2.123-5.127V1.75a.25.25 0 0 0-.25-.25h-.186a7.249 7.249 0 0 0-5.125 2.123ZM3.56 14.56c-.732.732-2.334 1.045-3.005 1.148a.234.234 0 0 1-.201-.064.234.234 0 0 1-.064-.201c.103-.671.416-2.273 1.15-3.003a1.502 1.502 0 1 1 2.12 2.12Zm6.94-3.935c-.088.06-.177.118-.266.175l-2.35 1.521.548 1.783 1.949-1.2a.25.25 0 0 0 .119-.213ZM3.678 8.116 5.2 5.766c.058-.09.117-.178.176-.266H3.309a.25.25 0 0 0-.213.119l-1.2 1.95ZM12 5a1 1 0 1 1-2 0 1 1 0 0 1 2 0Z"></path>
</svg>
</template>

<template id="shield-check-icon">
  <svg aria-hidden="true" height="16" viewBox="0 0 16 16" version="1.1" width="16" data-view-component="true" class="octicon octicon-shield-check">
    <path d="m8.533.133 5.25 1.68A1.75 1.75 0 0 1 15 3.48V7c0 1.566-.32 3.182-1.303 4.682-.983 1.498-2.585 2.813-5.032 3.855a1.697 1.697 0 0 1-1.33 0c-2.447-1.042-4.049-2.357-5.032-3.855C1.32 10.182 1 8.566 1 7V3.48a1.75 1.75 0 0 1 1.217-1.667l5.25-1.68a1.748 1.748 0 0 1 1.066 0Zm-.61 1.429.001.001-5.25 1.68a.251.251 0 0 0-.174.237V7c0 1.36.275 2.666 1.057 3.859.784 1.194 2.121 2.342 4.366 3.298a.196.196 0 0 0 .154 0c2.245-.957 3.582-2.103 4.366-3.297C13.225 9.666 13.5 8.358 13.5 7V3.48a.25.25 0 0 0-.174-.238l-5.25-1.68a.25.25 0 0 0-.153 0ZM11.28 6.28l-3.5 3.5a.75.75 0 0 1-1.06 0l-1.5-1.5a.749.749 0 0 1 .326-1.275.749.749 0 0 1 .734.215l.97.97 2.97-2.97a.751.751 0 0 1 1.042.018.751.751 0 0 1 .018 1.042Z"></path>
</svg>
</template>

<template id="heart-icon">
  <svg aria-hidden="true" height="16" viewBox="0 0 16 16" version="1.1" width="16" data-view-component="true" class="octicon octicon-heart">
    <path d="m8 14.25.345.666a.75.75 0 0 1-.69 0l-.008-.004-.018-.01a7.152 7.152 0 0 1-.31-.17 22.055 22.055 0 0 1-3.434-2.414C2.045 10.731 0 8.35 0 5.5 0 2.836 2.086 1 4.25 1 5.797 1 7.153 1.802 8 3.02 8.847 1.802 10.203 1 11.75 1 13.914 1 16 2.836 16 5.5c0 2.85-2.045 5.231-3.885 6.818a22.066 22.066 0 0 1-3.744 2.584l-.018.01-.006.003h-.002ZM4.25 2.5c-1.336 0-2.75 1.164-2.75 3 0 2.15 1.58 4.144 3.365 5.682A20.58 20.58 0 0 0 8 13.393a20.58 20.58 0 0 0 3.135-2.211C12.92 9.644 14.5 7.65 14.5 5.5c0-1.836-1.414-3-2.75-3-1.373 0-2.609.986-3.029 2.456a.749.749 0 0 1-1.442 0C6.859 3.486 5.623 2.5 4.25 2.5Z"></path>
</svg>
</template>

<template id="server-icon">
  <svg aria-hidden="true" height="16" viewBox="0 0 16 16" version="1.1" width="16" data-view-component="true" class="octicon octicon-server">
    <path d="M1.75 1h12.5c.966 0 1.75.784 1.75 1.75v4c0 .372-.116.717-.314 1 .198.283.314.628.314 1v4a1.75 1.75 0 0 1-1.75 1.75H1.75A1.75 1.75 0 0 1 0 12.75v-4c0-.358.109-.707.314-1a1.739 1.739 0 0 1-.314-1v-4C0 1.784.784 1 1.75 1ZM1.5 2.75v4c0 .138.112.25.25.25h12.5a.25.25 0 0 0 .25-.25v-4a.25.25 0 0 0-.25-.25H1.75a.25.25 0 0 0-.25.25Zm.25 5.75a.25.25 0 0 0-.25.25v4c0 .138.112.25.25.25h12.5a.25.25 0 0 0 .25-.25v-4a.25.25 0 0 0-.25-.25ZM7 4.75A.75.75 0 0 1 7.75 4h4.5a.75.75 0 0 1 0 1.5h-4.5A.75.75 0 0 1 7 4.75ZM7.75 10h4.5a.75.75 0 0 1 0 1.5h-4.5a.75.75 0 0 1 0-1.5ZM3 4.75A.75.75 0 0 1 3.75 4h.5a.75.75 0 0 1 0 1.5h-.5A.75.75 0 0 1 3 4.75ZM3.75 10h.5a.75.75 0 0 1 0 1.5h-.5a.75.75 0 0 1 0-1.5Z"></path>
</svg>
</template>

<template id="globe-icon">
  <svg aria-hidden="true" height="16" viewBox="0 0 16 16" version="1.1" width="16" data-view-component="true" class="octicon octicon-globe">
    <path d="M8 0a8 8 0 1 1 0 16A8 8 0 0 1 8 0ZM5.78 8.75a9.64 9.64 0 0 0 1.363 4.177c.255.426.542.832.857 1.215.245-.296.551-.705.857-1.215A9.64 9.64 0 0 0 10.22 8.75Zm4.44-1.5a9.64 9.64 0 0 0-1.363-4.177c-.307-.51-.612-.919-.857-1.215a9.927 9.927 0 0 0-.857 1.215A9.64 9.64 0 0 0 5.78 7.25Zm-5.944 1.5H1.543a6.507 6.507 0 0 0 4.666 5.5c-.123-.181-.24-.365-.352-.552-.715-1.192-1.437-2.874-1.581-4.948Zm-2.733-1.5h2.733c.144-2.074.866-3.756 1.58-4.948.12-.197.237-.381.353-.552a6.507 6.507 0 0 0-4.666 5.5Zm10.181 1.5c-.144 2.074-.866 3.756-1.58 4.948-.12.197-.237.381-.353.552a6.507 6.507 0 0 0 4.666-5.5Zm2.733-1.5a6.507 6.507 0 0 0-4.666-5.5c.123.181.24.365.353.552.714 1.192 1.436 2.874 1.58 4.948Z"></path>
</svg>
</template>

<template id="issue-opened-icon">
  <svg aria-hidden="true" height="16" viewBox="0 0 16 16" version="1.1" width="16" data-view-component="true" class="octicon octicon-issue-opened">
    <path d="M8 9.5a1.5 1.5 0 1 0 0-3 1.5 1.5 0 0 0 0 3Z"></path><path d="M8 0a8 8 0 1 1 0 16A8 8 0 0 1 8 0ZM1.5 8a6.5 6.5 0 1 0 13 0 6.5 6.5 0 0 0-13 0Z"></path>
</svg>
</template>

<template id="device-mobile-icon">
  <svg aria-hidden="true" height="16" viewBox="0 0 16 16" version="1.1" width="16" data-view-component="true" class="octicon octicon-device-mobile">
    <path d="M3.75 0h8.5C13.216 0 14 .784 14 1.75v12.5A1.75 1.75 0 0 1 12.25 16h-8.5A1.75 1.75 0 0 1 2 14.25V1.75C2 .784 2.784 0 3.75 0ZM3.5 1.75v12.5c0 .138.112.25.25.25h8.5a.25.25 0 0 0 .25-.25V1.75a.25.25 0 0 0-.25-.25h-8.5a.25.25 0 0 0-.25.25ZM8 13a1 1 0 1 1 0-2 1 1 0 0 1 0 2Z"></path>
</svg>
</template>

<template id="package-icon">
  <svg aria-hidden="true" height="16" viewBox="0 0 16 16" version="1.1" width="16" data-view-component="true" class="octicon octicon-package">
    <path d="m8.878.392 5.25 3.045c.54.314.872.89.872 1.514v6.098a1.75 1.75 0 0 1-.872 1.514l-5.25 3.045a1.75 1.75 0 0 1-1.756 0l-5.25-3.045A1.75 1.75 0 0 1 1 11.049V4.951c0-.624.332-1.201.872-1.514L7.122.392a1.75 1.75 0 0 1 1.756 0ZM7.875 1.69l-4.63 2.685L8 7.133l4.755-2.758-4.63-2.685a.248.248 0 0 0-.25 0ZM2.5 5.677v5.372c0 .09.047.171.125.216l4.625 2.683V8.432Zm6.25 8.271 4.625-2.683a.25.25 0 0 0 .125-.216V5.677L8.75 8.432Z"></path>
</svg>
</template>

<template id="credit-card-icon">
  <svg aria-hidden="true" height="16" viewBox="0 0 16 16" version="1.1" width="16" data-view-component="true" class="octicon octicon-credit-card">
    <path d="M10.75 9a.75.75 0 0 0 0 1.5h1.5a.75.75 0 0 0 0-1.5h-1.5Z"></path><path d="M0 3.75C0 2.784.784 2 1.75 2h12.5c.966 0 1.75.784 1.75 1.75v8.5A1.75 1.75 0 0 1 14.25 14H1.75A1.75 1.75 0 0 1 0 12.25ZM14.5 6.5h-13v5.75c0 .138.112.25.25.25h12.5a.25.25 0 0 0 .25-.25Zm0-2.75a.25.25 0 0 0-.25-.25H1.75a.25.25 0 0 0-.25.25V5h13Z"></path>
</svg>
</template>

<template id="play-icon">
  <svg aria-hidden="true" height="16" viewBox="0 0 16 16" version="1.1" width="16" data-view-component="true" class="octicon octicon-play">
    <path d="M8 0a8 8 0 1 1 0 16A8 8 0 0 1 8 0ZM1.5 8a6.5 6.5 0 1 0 13 0 6.5 6.5 0 0 0-13 0Zm4.879-2.773 4.264 2.559a.25.25 0 0 1 0 .428l-4.264 2.559A.25.25 0 0 1 6 10.559V5.442a.25.25 0 0 1 .379-.215Z"></path>
</svg>
</template>

<template id="gift-icon">
  <svg aria-hidden="true" height="16" viewBox="0 0 16 16" version="1.1" width="16" data-view-component="true" class="octicon octicon-gift">
    <path d="M2 2.75A2.75 2.75 0 0 1 4.75 0c.983 0 1.873.42 2.57 1.232.268.318.497.668.68 1.042.183-.375.411-.725.68-1.044C9.376.42 10.266 0 11.25 0a2.75 2.75 0 0 1 2.45 4h.55c.966 0 1.75.784 1.75 1.75v2c0 .698-.409 1.301-1 1.582v4.918A1.75 1.75 0 0 1 13.25 16H2.75A1.75 1.75 0 0 1 1 14.25V9.332C.409 9.05 0 8.448 0 7.75v-2C0 4.784.784 4 1.75 4h.55c-.192-.375-.3-.8-.3-1.25ZM7.25 9.5H2.5v4.75c0 .138.112.25.25.25h4.5Zm1.5 0v5h4.5a.25.25 0 0 0 .25-.25V9.5Zm0-4V8h5.5a.25.25 0 0 0 .25-.25v-2a.25.25 0 0 0-.25-.25Zm-7 0a.25.25 0 0 0-.25.25v2c0 .138.112.25.25.25h5.5V5.5h-5.5Zm3-4a1.25 1.25 0 0 0 0 2.5h2.309c-.233-.818-.542-1.401-.878-1.793-.43-.502-.915-.707-1.431-.707ZM8.941 4h2.309a1.25 1.25 0 0 0 0-2.5c-.516 0-1 .205-1.43.707-.337.392-.646.975-.879 1.793Z"></path>
</svg>
</template>

<template id="code-square-icon">
  <svg aria-hidden="true" height="16" viewBox="0 0 16 16" version="1.1" width="16" data-view-component="true" class="octicon octicon-code-square">
    <path d="M0 1.75C0 .784.784 0 1.75 0h12.5C15.216 0 16 .784 16 1.75v12.5A1.75 1.75 0 0 1 14.25 16H1.75A1.75 1.75 0 0 1 0 14.25Zm1.75-.25a.25.25 0 0 0-.25.25v12.5c0 .138.112.25.25.25h12.5a.25.25 0 0 0 .25-.25V1.75a.25.25 0 0 0-.25-.25Zm7.47 3.97a.75.75 0 0 1 1.06 0l2 2a.75.75 0 0 1 0 1.06l-2 2a.749.749 0 0 1-1.275-.326.749.749 0 0 1 .215-.734L10.69 8 9.22 6.53a.75.75 0 0 1 0-1.06ZM6.78 6.53 5.31 8l1.47 1.47a.749.749 0 0 1-.326 1.275.749.749 0 0 1-.734-.215l-2-2a.75.75 0 0 1 0-1.06l2-2a.751.751 0 0 1 1.042.018.751.751 0 0 1 .018 1.042Z"></path>
</svg>
</template>

<template id="device-desktop-icon">
  <svg aria-hidden="true" height="16" viewBox="0 0 16 16" version="1.1" width="16" data-view-component="true" class="octicon octicon-device-desktop">
    <path d="M14.25 1c.966 0 1.75.784 1.75 1.75v7.5A1.75 1.75 0 0 1 14.25 12h-3.727c.099 1.041.52 1.872 1.292 2.757A.752.752 0 0 1 11.25 16h-6.5a.75.75 0 0 1-.565-1.243c.772-.885 1.192-1.716 1.292-2.757H1.75A1.75 1.75 0 0 1 0 10.25v-7.5C0 1.784.784 1 1.75 1ZM1.75 2.5a.25.25 0 0 0-.25.25v7.5c0 .138.112.25.25.25h12.5a.25.25 0 0 0 .25-.25v-7.5a.25.25 0 0 0-.25-.25ZM9.018 12H6.982a5.72 5.72 0 0 1-.765 2.5h3.566a5.72 5.72 0 0 1-.765-2.5Z"></path>
</svg>
</template>

        <div class="position-relative">
                <ul
                  role="listbox"
                  class="ActionListWrap QueryBuilder-ListWrap"
                  aria-label="Suggestions"
                  data-action="
                    combobox-commit:query-builder#comboboxCommit
                    mousedown:query-builder#resultsMousedown
                  "
                  data-target="query-builder.resultsList"
                  data-persist-list=false
                  id="query-builder-test-results"
                  tabindex="-1"
                ></ul>
        </div>
      <div class="FormControl-inlineValidation" id="validation-775db214-558f-4a95-b130-c194c8c743a2" hidden="hidden">
        <span class="FormControl-inlineValidation--visual">
          <svg aria-hidden="true" height="12" viewBox="0 0 12 12" version="1.1" width="12" data-view-component="true" class="octicon octicon-alert-fill">
    <path d="M4.855.708c.5-.896 1.79-.896 2.29 0l4.675 8.351a1.312 1.312 0 0 1-1.146 1.954H1.33A1.313 1.313 0 0 1 .183 9.058ZM7 7V3H5v4Zm-1 3a1 1 0 1 0 0-2 1 1 0 0 0 0 2Z"></path>
</svg>
        </span>
        <span></span>
</div>    </div>
    <div data-target="query-builder.screenReaderFeedback" aria-live="polite" aria-atomic="true" class="sr-only"></div>
</query-builder></form>
          <div class="d-flex flex-row color-fg-muted px-3 text-small color-bg-default search-feedback-prompt">
            <a target="_blank" href="https://docs.github.com/search-github/github-code-search/understanding-github-code-search-syntax" data-view-component="true" class="Link color-fg-accent text-normal ml-2">Search syntax tips</a>            <div class="d-flex flex-1"></div>
              <button data-action="click:qbsearch-input#showFeedbackDialog" type="button" data-view-component="true" class="Button--link Button--medium Button color-fg-accent text-normal ml-2">  <span class="Button-content">
    <span class="Button-label">Give feedback</span>
  </span>
</button>
          </div>
        </div>
</div>

    </div>
</modal-dialog></div>
  </div>
  <div data-action="click:qbsearch-input#retract" class="dark-backdrop position-fixed" hidden data-target="qbsearch-input.darkBackdrop"></div>
  <div class="color-fg-default">
    
<dialog-helper>
  <dialog data-target="qbsearch-input.feedbackDialog" data-action="close:qbsearch-input#handleDialogClose cancel:qbsearch-input#handleDialogClose" id="feedback-dialog" aria-modal="true" aria-labelledby="feedback-dialog-title" aria-describedby="feedback-dialog-description" data-view-component="true" class="Overlay Overlay-whenNarrow Overlay--size-medium Overlay--motion-scaleFade Overlay--disableScroll">
    <div data-view-component="true" class="Overlay-header">
  <div class="Overlay-headerContentWrap">
    <div class="Overlay-titleWrap">
      <h1 class="Overlay-title " id="feedback-dialog-title">
        Provide feedback
      </h1>
        
    </div>
    <div class="Overlay-actionWrap">
      <button data-close-dialog-id="feedback-dialog" aria-label="Close" aria-label="Close" type="button" data-view-component="true" class="close-button Overlay-closeButton"><svg aria-hidden="true" height="16" viewBox="0 0 16 16" version="1.1" width="16" data-view-component="true" class="octicon octicon-x">
    <path d="M3.72 3.72a.75.75 0 0 1 1.06 0L8 6.94l3.22-3.22a.749.749 0 0 1 1.275.326.749.749 0 0 1-.215.734L9.06 8l3.22 3.22a.749.749 0 0 1-.326 1.275.749.749 0 0 1-.734-.215L8 9.06l-3.22 3.22a.751.751 0 0 1-1.042-.018.751.751 0 0 1-.018-1.042L6.94 8 3.72 4.78a.75.75 0 0 1 0-1.06Z"></path>
</svg></button>
    </div>
  </div>
  
</div>
      <scrollable-region data-labelled-by="feedback-dialog-title">
        <div data-view-component="true" class="Overlay-body">        <!-- '"` --><!-- </textarea></xmp> --></option></form><form id="code-search-feedback-form" data-turbo="false" action="/search/feedback" accept-charset="UTF-8" method="post"><input type="hidden" name="authenticity_token" value="N1QoXSqEPLQMU8tAT2mGH9qMb8xqC08KiaywG2qfqhn9qrj1UrZhJzYAA9zmCMGZ0RoagD9js8MeCOc0YR70UQ" />
          <p>We read every piece of feedback, and take your input very seriously.</p>
          <textarea name="feedback" class="form-control width-full mb-2" style="height: 120px" id="feedback"></textarea>
          <input name="include_email" id="include_email" aria-label="Include my email address so I can be contacted" class="form-control mr-2" type="checkbox">
          <label for="include_email" style="font-weight: normal">Include my email address so I can be contacted</label>
</form></div>
      </scrollable-region>
      <div data-view-component="true" class="Overlay-footer Overlay-footer--alignEnd">          <button data-close-dialog-id="feedback-dialog" type="button" data-view-component="true" class="btn">    Cancel
</button>
          <button form="code-search-feedback-form" data-action="click:qbsearch-input#submitFeedback" type="submit" data-view-component="true" class="btn-primary btn">    Submit feedback
</button>
</div>
</dialog></dialog-helper>

    <custom-scopes data-target="qbsearch-input.customScopesManager">
    
<dialog-helper>
  <dialog data-target="custom-scopes.customScopesModalDialog" data-action="close:qbsearch-input#handleDialogClose cancel:qbsearch-input#handleDialogClose" id="custom-scopes-dialog" aria-modal="true" aria-labelledby="custom-scopes-dialog-title" aria-describedby="custom-scopes-dialog-description" data-view-component="true" class="Overlay Overlay-whenNarrow Overlay--size-medium Overlay--motion-scaleFade Overlay--disableScroll">
    <div data-view-component="true" class="Overlay-header Overlay-header--divided">
  <div class="Overlay-headerContentWrap">
    <div class="Overlay-titleWrap">
      <h1 class="Overlay-title " id="custom-scopes-dialog-title">
        Saved searches
      </h1>
        <h2 id="custom-scopes-dialog-description" class="Overlay-description">Use saved searches to filter your results more quickly</h2>
    </div>
    <div class="Overlay-actionWrap">
      <button data-close-dialog-id="custom-scopes-dialog" aria-label="Close" aria-label="Close" type="button" data-view-component="true" class="close-button Overlay-closeButton"><svg aria-hidden="true" height="16" viewBox="0 0 16 16" version="1.1" width="16" data-view-component="true" class="octicon octicon-x">
    <path d="M3.72 3.72a.75.75 0 0 1 1.06 0L8 6.94l3.22-3.22a.749.749 0 0 1 1.275.326.749.749 0 0 1-.215.734L9.06 8l3.22 3.22a.749.749 0 0 1-.326 1.275.749.749 0 0 1-.734-.215L8 9.06l-3.22 3.22a.751.751 0 0 1-1.042-.018.751.751 0 0 1-.018-1.042L6.94 8 3.72 4.78a.75.75 0 0 1 0-1.06Z"></path>
</svg></button>
    </div>
  </div>
  
</div>
      <scrollable-region data-labelled-by="custom-scopes-dialog-title">
        <div data-view-component="true" class="Overlay-body">        <div data-target="custom-scopes.customScopesModalDialogFlash"></div>

        <div hidden class="create-custom-scope-form" data-target="custom-scopes.createCustomScopeForm">
        <!-- '"` --><!-- </textarea></xmp> --></option></form><form id="custom-scopes-dialog-form" data-turbo="false" action="/search/custom_scopes" accept-charset="UTF-8" method="post"><input type="hidden" name="authenticity_token" value="zV4TFTSH2BEvl9-6N-tuKBoYIl3q39Sfv2PtLhxAg1q2XYA3wb9o6roluod2nrFZGvacXSjUUnGDHvKt9wGiXg" />
          <div data-target="custom-scopes.customScopesModalDialogFlash"></div>

          <input type="hidden" id="custom_scope_id" name="custom_scope_id" data-target="custom-scopes.customScopesIdField">

          <div class="form-group">
            <label for="custom_scope_name">Name</label>
            <auto-check src="/search/custom_scopes/check_name" required>
              <input
                type="text"
                name="custom_scope_name"
                id="custom_scope_name"
                data-target="custom-scopes.customScopesNameField"
                class="form-control"
                autocomplete="off"
                placeholder="github-ruby"
                required
                maxlength="50">
              <input type="hidden" value="Fpc3UhHa5H2n8Jl8IlBuzQqnodwhSoQgMpLnlzi-e4bf2H1vT8znUFPYjyNSk0Rws8cluF7YqLwU2rvqMjrBwg" data-csrf="true" />
            </auto-check>
          </div>

          <div class="form-group">
            <label for="custom_scope_query">Query</label>
            <input
              type="text"
              name="custom_scope_query"
              id="custom_scope_query"
              data-target="custom-scopes.customScopesQueryField"
              class="form-control"
              autocomplete="off"
              placeholder="(repo:mona/a OR repo:mona/b) AND lang:python"
              required
              maxlength="500">
          </div>

          <p class="text-small color-fg-muted">
            To see all available qualifiers, see our <a class="Link--inTextBlock" href="https://docs.github.com/search-github/github-code-search/understanding-github-code-search-syntax">documentation</a>.
          </p>
</form>        </div>

        <div data-target="custom-scopes.manageCustomScopesForm">
          <div data-target="custom-scopes.list"></div>
        </div>

</div>
      </scrollable-region>
      <div data-view-component="true" class="Overlay-footer Overlay-footer--alignEnd Overlay-footer--divided">          <button data-action="click:custom-scopes#customScopesCancel" type="button" data-view-component="true" class="btn">    Cancel
</button>
          <button form="custom-scopes-dialog-form" data-action="click:custom-scopes#customScopesSubmit" data-target="custom-scopes.customScopesSubmitButton" type="submit" data-view-component="true" class="btn-primary btn">    Create saved search
</button>
</div>
</dialog></dialog-helper>
    </custom-scopes>
  </div>
</qbsearch-input>  <input type="hidden" value="7IDx3TR16h7S8i6JH3uwkvMgr_CRVH5UivjkX3SfOwMzeKnQRUuiAeErvR2uw8mYeJXBaegVdgEJKzI38TfN9g" data-csrf="true" class="js-data-jump-to-suggestions-path-csrf" />


          </div>

        
          <div class="AppHeader-CopilotChat hide-sm hide-md">
  <react-partial-anchor>
      <a href="/copilot" data-target="react-partial-anchor.anchor" id="copilot-chat-header-button" aria-labelledby="tooltip-4b0270d8-c888-4c3c-b15f-e23e20eb7108" data-view-component="true" class="Button Button--iconOnly Button--secondary Button--medium AppHeader-button AppHeader-buttonLeft cursor-wait">  <svg aria-hidden="true" height="16" viewBox="0 0 16 16" version="1.1" width="16" data-view-component="true" class="octicon octicon-copilot Button-visual">
    <path d="M7.998 15.035c-4.562 0-7.873-2.914-7.998-3.749V9.338c.085-.628.677-1.686 1.588-2.065.013-.07.024-.143.036-.218.029-.183.06-.384.126-.612-.201-.508-.254-1.084-.254-1.656 0-.87.128-1.769.693-2.484.579-.733 1.494-1.124 2.724-1.261 1.206-.134 2.262.034 2.944.765.05.053.096.108.139.165.044-.057.094-.112.143-.165.682-.731 1.738-.899 2.944-.765 1.23.137 2.145.528 2.724 1.261.566.715.693 1.614.693 2.484 0 .572-.053 1.148-.254 1.656.066.228.098.429.126.612.012.076.024.148.037.218.924.385 1.522 1.471 1.591 2.095v1.872c0 .766-3.351 3.795-8.002 3.795Zm0-1.485c2.28 0 4.584-1.11 5.002-1.433V7.862l-.023-.116c-.49.21-1.075.291-1.727.291-1.146 0-2.059-.327-2.71-.991A3.222 3.222 0 0 1 8 6.303a3.24 3.24 0 0 1-.544.743c-.65.664-1.563.991-2.71.991-.652 0-1.236-.081-1.727-.291l-.023.116v4.255c.419.323 2.722 1.433 5.002 1.433ZM6.762 2.83c-.193-.206-.637-.413-1.682-.297-1.019.113-1.479.404-1.713.7-.247.312-.369.789-.369 1.554 0 .793.129 1.171.308 1.371.162.181.519.379 1.442.379.853 0 1.339-.235 1.638-.54.315-.322.527-.827.617-1.553.117-.935-.037-1.395-.241-1.614Zm4.155-.297c-1.044-.116-1.488.091-1.681.297-.204.219-.359.679-.242 1.614.091.726.303 1.231.618 1.553.299.305.784.54 1.638.54.922 0 1.28-.198 1.442-.379.179-.2.308-.578.308-1.371 0-.765-.123-1.242-.37-1.554-.233-.296-.693-.587-1.713-.7Z"></path><path d="M6.25 9.037a.75.75 0 0 1 .75.75v1.501a.75.75 0 0 1-1.5 0V9.787a.75.75 0 0 1 .75-.75Zm4.25.75v1.501a.75.75 0 0 1-1.5 0V9.787a.75.75 0 0 1 1.5 0Z"></path>
</svg>
</a><tool-tip id="tooltip-4b0270d8-c888-4c3c-b15f-e23e20eb7108" for="copilot-chat-header-button" popover="manual" data-direction="s" data-type="label" data-view-component="true" class="sr-only position-absolute">Chat with Copilot</tool-tip>

    <template data-target="react-partial-anchor.template">
      <script crossorigin="anonymous" type="application/javascript" src="https://github.githubassets.com/assets/vendors-node_modules_tanstack_react-query_build_modern_useQuery_js-8a047a904eb7.js" defer="defer"></script>
<script crossorigin="anonymous" type="application/javascript" src="https://github.githubassets.com/assets/vendors-node_modules_focus-visible_dist_focus-visible_js-node_modules_github_hotkey_dist_inde-336f14-af1017addab8.js" defer="defer"></script>
<script crossorigin="anonymous" type="application/javascript" src="https://github.githubassets.com/assets/vendors-node_modules_react-relay_index_js-cce72ae26cdb.js" defer="defer"></script>
<script crossorigin="anonymous" type="application/javascript" src="https://github.githubassets.com/assets/vendors-node_modules_remark-gfm_lib_index_js-node_modules_remark-parse_lib_index_js-node_modu-44d0fc-7eaa74070c73.js" defer="defer"></script>
<script crossorigin="anonymous" type="application/javascript" src="https://github.githubassets.com/assets/vendors-node_modules_hastscript_lib_index_js-node_modules_lowlight_lib_all_js-node_modules_re-7714c4-3ff6cb9f66a5.js" defer="defer"></script>
<script crossorigin="anonymous" type="application/javascript" src="https://github.githubassets.com/assets/vendors-node_modules_diff_lib_index_mjs-3d31f78b8478.js" defer="defer"></script>
<script crossorigin="anonymous" type="application/javascript" src="https://github.githubassets.com/assets/vendors-node_modules_github_mini-throttle_dist_decorators_js-node_modules_accname_dist_access-ce77c7-4daf69fcf5e0.js" defer="defer"></script>
<script crossorigin="anonymous" type="application/javascript" src="https://github.githubassets.com/assets/vendors-node_modules_emoji-regex_index_js-node_modules_tanstack_react-query_build_modern_useM-a11183-4baedbb2bacd.js" defer="defer"></script>
<script crossorigin="anonymous" type="application/javascript" src="https://github.githubassets.com/assets/vendors-node_modules_github_hydro-analytics-client_dist_analytics-client_js-node_modules_gith-3037e1-32a46ebb5721.js" defer="defer"></script>
<script crossorigin="anonymous" type="application/javascript" src="https://github.githubassets.com/assets/ui_packages_relay-environment_relay-environment_ts-6880df42a34b.js" defer="defer"></script>
<script crossorigin="anonymous" type="application/javascript" src="https://github.githubassets.com/assets/ui_packages_copilot-chat_utils_copilot-chat-helpers_ts-6bb98028000c.js" defer="defer"></script>
<script crossorigin="anonymous" type="application/javascript" src="https://github.githubassets.com/assets/ui_packages_item-picker_components_RepositoryPicker_tsx-4c709ef44797.js" defer="defer"></script>
<script crossorigin="anonymous" type="application/javascript" src="https://github.githubassets.com/assets/ui_packages_copilot-markdown_MarkdownRenderer_tsx-025b155ec3c4.js" defer="defer"></script>
<script crossorigin="anonymous" type="application/javascript" src="https://github.githubassets.com/assets/ui_packages_copilot-chat_utils_CopilotChatContext_tsx-b38d21c723cc.js" defer="defer"></script>
<script crossorigin="anonymous" type="application/javascript" src="https://github.githubassets.com/assets/ui_packages_copilot-chat_components_ModelPicker_tsx-66d98d7be657.js" defer="defer"></script>
<script crossorigin="anonymous" type="application/javascript" src="https://github.githubassets.com/assets/ui_packages_copilot-chat_components_CopilotIconAnimation_tsx-1da7f48de940.js" defer="defer"></script>
<script crossorigin="anonymous" type="application/javascript" src="https://github.githubassets.com/assets/ui_packages_document-metadata_document-metadata_ts-ui_packages_promise-with-resolvers-polyfil-93a5fb-35056740e9d8.js" defer="defer"></script>
<script crossorigin="anonymous" type="application/javascript" src="https://github.githubassets.com/assets/ui_packages_copilot-chat_entry_ts-ui_packages_use-client-value_use-client-value_ts-ui_package-24032a-de561a0b3bce.js" defer="defer"></script>
<script crossorigin="anonymous" type="application/javascript" src="https://github.githubassets.com/assets/copilot-chat-a8c9c44e9e2f.js" defer="defer"></script>
<link crossorigin="anonymous" media="all" rel="stylesheet" href="https://github.githubassets.com/assets/primer-react.260d30274859410b0337.module.css" />
<link crossorigin="anonymous" media="all" rel="stylesheet" href="https://github.githubassets.com/assets/ui_packages_document-metadata_document-metadata_ts-ui_packages_promise-with-resolvers-polyfil-93a5fb.98ef5df70b19d673ea00.module.css" />
<link crossorigin="anonymous" media="all" rel="stylesheet" href="https://github.githubassets.com/assets/copilot-chat.28666a8d26ecd3bb66c4.module.css" />
      <link crossorigin="anonymous" media="all" rel="stylesheet" href="https://github.githubassets.com/assets/copilot-markdown-rendering-ddd978d4a7c0.css" />
      <include-fragment src="/github-copilot/chat?skip_anchor=true" data-nonce="v2:16bdf731-d3d4-1077-5497-fa74de3b3a9d" data-view-component="true">
  
  <div data-show-on-forbidden-error hidden>
    <div class="Box">
  <div class="blankslate-container">
    <div data-view-component="true" class="blankslate blankslate-spacious color-bg-default rounded-2">
      

      <h3 data-view-component="true" class="blankslate-heading">        Uh oh!
</h3>
      <p data-view-component="true">        <p class="color-fg-muted my-2 mb-2 ws-normal">There was an error while loading. <a class="Link--inTextBlock" data-turbo="false" href="" aria-label="Please reload this page">Please reload this page</a>.</p>
</p>

</div>  </div>
</div>  </div>
</include-fragment>
    </template>
  </react-partial-anchor>
  <react-partial-anchor>
    <button id="global-copilot-menu-button" data-target="react-partial-anchor.anchor" aria-expanded="false" aria-labelledby="tooltip-eaa3b8e3-d9e3-4150-8ee3-045fde55ddba" type="button" data-view-component="true" class="Button Button--iconOnly Button--secondary Button--medium AppHeader-button AppHeader-buttonRight ">  <svg aria-hidden="true" height="16" viewBox="0 0 16 16" version="1.1" width="16" data-view-component="true" class="octicon octicon-triangle-down Button-visual">
    <path d="m4.427 7.427 3.396 3.396a.25.25 0 0 0 .354 0l3.396-3.396A.25.25 0 0 0 11.396 7H4.604a.25.25 0 0 0-.177.427Z"></path>
</svg>
</button><tool-tip id="tooltip-eaa3b8e3-d9e3-4150-8ee3-045fde55ddba" for="global-copilot-menu-button" popover="manual" data-direction="s" data-type="label" data-view-component="true" class="sr-only position-absolute">Open Copilot… (Alt+Shift+C)</tool-tip>

    <template data-target="react-partial-anchor.template">
      <link crossorigin="anonymous" media="all" rel="stylesheet" href="https://github.githubassets.com/assets/primer-react.260d30274859410b0337.module.css" />
<link crossorigin="anonymous" media="all" rel="stylesheet" href="https://github.githubassets.com/assets/ui_packages_agent-sessions_utils_uuid_ts-ui_packages_agent-sessions_components_NewTaskChatInp-867ea1.9c3a860c367b3fa332a3.module.css" />
<link crossorigin="anonymous" media="all" rel="stylesheet" href="https://github.githubassets.com/assets/global-copilot-menu.482572570c598edaa829.module.css" />

<react-partial
  partial-name="global-copilot-menu"
  data-ssr="false"
  data-attempted-ssr="false"
  data-react-profiling="false"
>
  
  <script type="application/json" data-target="react-partial.embeddedData">{"props":{}}</script>
  <div data-target="react-partial.reactRoot"></div>
</react-partial>

    </template>
  </react-partial-anchor>
</div>




        <div class="AppHeader-actions position-relative">
             <react-partial-anchor>
      <button id="global-create-menu-anchor" aria-label="Create something new" data-target="react-partial-anchor.anchor" type="button" disabled="disabled" data-view-component="true" class="AppHeader-button global-create-button cursor-wait Button--secondary Button--medium Button width-auto color-fg-muted">  <span class="Button-content">
      <span class="Button-visual Button-leadingVisual">
        <svg aria-hidden="true" height="16" viewBox="0 0 16 16" version="1.1" width="16" data-view-component="true" class="octicon octicon-plus">
    <path d="M7.75 2a.75.75 0 0 1 .75.75V7h4.25a.75.75 0 0 1 0 1.5H8.5v4.25a.75.75 0 0 1-1.5 0V8.5H2.75a.75.75 0 0 1 0-1.5H7V2.75A.75.75 0 0 1 7.75 2Z"></path>
</svg>
      </span>
    <span class="Button-label"><svg aria-hidden="true" height="16" viewBox="0 0 16 16" version="1.1" width="16" data-view-component="true" class="octicon octicon-triangle-down">
    <path d="m4.427 7.427 3.396 3.396a.25.25 0 0 0 .354 0l3.396-3.396A.25.25 0 0 0 11.396 7H4.604a.25.25 0 0 0-.177.427Z"></path>
</svg></span>
  </span>
</button><tool-tip id="tooltip-9e1efc4c-68b2-4bbb-b092-a1e3b3cf3882" for="global-create-menu-anchor" popover="manual" data-direction="s" data-type="description" data-view-component="true" class="sr-only position-absolute">Create new...</tool-tip>

      <template data-target="react-partial-anchor.template">
        <link crossorigin="anonymous" media="all" rel="stylesheet" href="https://github.githubassets.com/assets/primer-react.260d30274859410b0337.module.css" />
<link crossorigin="anonymous" media="all" rel="stylesheet" href="https://github.githubassets.com/assets/global-create-menu.be9cb11ea6367dfdb719.module.css" />

<react-partial
  partial-name="global-create-menu"
  data-ssr="false"
  data-attempted-ssr="false"
  data-react-profiling="false"
>
  
  <script type="application/json" data-target="react-partial.embeddedData">{"props":{"createRepo":true,"importRepo":true,"codespaces":true,"spark":false,"codingAgent":false,"gist":true,"createOrg":true,"createProject":false,"createProjectUrl":"/devansh2506?tab=projects","createLegacyProject":false,"createIssue":true,"org":null,"owner":"DeveloperAkansh26","repo":"Fashion_Recommendation_And_VITON"}}</script>
  <div data-target="react-partial.reactRoot"></div>
</react-partial>

      </template>
    </react-partial-anchor>


            <a href="/issues" data-analytics-event="{&quot;category&quot;:&quot;Global navigation&quot;,&quot;action&quot;:&quot;ISSUES_HEADER&quot;,&quot;label&quot;:null}" id="icon-button-60208255-e47c-4406-9305-b8c5b1e1d559" aria-labelledby="tooltip-b8130790-cf28-4d59-92a0-7488be185ff3" data-view-component="true" class="Button Button--iconOnly Button--secondary Button--medium AppHeader-button color-fg-muted">  <svg aria-hidden="true" height="16" viewBox="0 0 16 16" version="1.1" width="16" data-view-component="true" class="octicon octicon-issue-opened Button-visual">
    <path d="M8 9.5a1.5 1.5 0 1 0 0-3 1.5 1.5 0 0 0 0 3Z"></path><path d="M8 0a8 8 0 1 1 0 16A8 8 0 0 1 8 0ZM1.5 8a6.5 6.5 0 1 0 13 0 6.5 6.5 0 0 0-13 0Z"></path>
</svg>
</a><tool-tip id="tooltip-b8130790-cf28-4d59-92a0-7488be185ff3" for="icon-button-60208255-e47c-4406-9305-b8c5b1e1d559" popover="manual" data-direction="s" data-type="label" data-view-component="true" class="sr-only position-absolute">Your issues</tool-tip>

            <a href="/pulls" data-analytics-event="{&quot;category&quot;:&quot;Global navigation&quot;,&quot;action&quot;:&quot;PULL_REQUESTS_HEADER&quot;,&quot;label&quot;:null}" id="icon-button-178ea80c-0d59-4b39-9c2f-c388e43062e8" aria-labelledby="tooltip-9f501ffb-dcee-4bf3-90c9-df0bbfa8428a" data-view-component="true" class="Button Button--iconOnly Button--secondary Button--medium AppHeader-button color-fg-muted">  <svg aria-hidden="true" height="16" viewBox="0 0 16 16" version="1.1" width="16" data-view-component="true" class="octicon octicon-git-pull-request Button-visual">
    <path d="M1.5 3.25a2.25 2.25 0 1 1 3 2.122v5.256a2.251 2.251 0 1 1-1.5 0V5.372A2.25 2.25 0 0 1 1.5 3.25Zm5.677-.177L9.573.677A.25.25 0 0 1 10 .854V2.5h1A2.5 2.5 0 0 1 13.5 5v5.628a2.251 2.251 0 1 1-1.5 0V5a1 1 0 0 0-1-1h-1v1.646a.25.25 0 0 1-.427.177L7.177 3.427a.25.25 0 0 1 0-.354ZM3.75 2.5a.75.75 0 1 0 0 1.5.75.75 0 0 0 0-1.5Zm0 9.5a.75.75 0 1 0 0 1.5.75.75 0 0 0 0-1.5Zm8.25.75a.75.75 0 1 0 1.5 0 .75.75 0 0 0-1.5 0Z"></path>
</svg>
</a><tool-tip id="tooltip-9f501ffb-dcee-4bf3-90c9-df0bbfa8428a" for="icon-button-178ea80c-0d59-4b39-9c2f-c388e43062e8" popover="manual" data-direction="s" data-type="label" data-view-component="true" class="sr-only position-absolute">Your pull requests</tool-tip>

        </div>

          <notification-indicator data-channel="eyJjIjoibm90aWZpY2F0aW9uLWNoYW5nZWQ6MTgzMjE2MzM5IiwidCI6MTc1NDE3MTI3M30=--e20ac0b5f9545005970f17600cafeab62eb6a3b5fad94ec37a68b3aa8f4b43b7" data-indicator-mode="none" data-tooltip-global="You have unread notifications" data-tooltip-unavailable="Notifications are unavailable at the moment." data-tooltip-none="You have no unread notifications" data-header-redesign-enabled="true" data-fetch-indicator-src="/notifications/indicator" data-fetch-indicator-enabled="true" data-view-component="true" class="js-socket-channel">
    <a id="AppHeader-notifications-button" href="/notifications" aria-labelledby="notification-indicator-tooltip" data-hotkey="g n" data-target="notification-indicator.link" data-analytics-event="{&quot;category&quot;:&quot;Global navigation&quot;,&quot;action&quot;:&quot;NOTIFICATIONS_HEADER&quot;,&quot;label&quot;:null}" data-view-component="true" class="Button Button--iconOnly Button--secondary Button--medium AppHeader-button  color-fg-muted">  <svg aria-hidden="true" height="16" viewBox="0 0 16 16" version="1.1" width="16" data-view-component="true" class="octicon octicon-inbox Button-visual">
    <path d="M2.8 2.06A1.75 1.75 0 0 1 4.41 1h7.18c.7 0 1.333.417 1.61 1.06l2.74 6.395c.04.093.06.194.06.295v4.5A1.75 1.75 0 0 1 14.25 15H1.75A1.75 1.75 0 0 1 0 13.25v-4.5c0-.101.02-.202.06-.295Zm1.61.44a.25.25 0 0 0-.23.152L1.887 8H4.75a.75.75 0 0 1 .6.3L6.625 10h2.75l1.275-1.7a.75.75 0 0 1 .6-.3h2.863L11.82 2.652a.25.25 0 0 0-.23-.152Zm10.09 7h-2.875l-1.275 1.7a.75.75 0 0 1-.6.3h-3.5a.75.75 0 0 1-.6-.3L4.375 9.5H1.5v3.75c0 .138.112.25.25.25h12.5a.25.25 0 0 0 .25-.25Z"></path>
</svg>
</a>

    <tool-tip id="notification-indicator-tooltip" data-target="notification-indicator.tooltip" for="AppHeader-notifications-button" popover="manual" data-direction="s" data-type="label" data-view-component="true" class="sr-only position-absolute">Notifications</tool-tip>
</notification-indicator>

        <div class="AppHeader-user">
          <deferred-side-panel data-url="/_side-panels/user?repository_id=1022673421">
  <include-fragment data-target="deferred-side-panel.fragment" data-nonce="v2:16bdf731-d3d4-1077-5497-fa74de3b3a9d" data-view-component="true">
  
    <react-partial-anchor
  
>
  <button data-target="react-partial-anchor.anchor" data-login="devansh2506" aria-label="Open user navigation menu" type="button" data-view-component="true" class="cursor-wait Button--invisible Button--medium Button Button--invisible-noVisuals color-bg-transparent p-0">  <span class="Button-content">
    <span class="Button-label"><img src="https://avatars.githubusercontent.com/u/183216339?v=4" alt="" size="32" height="32" width="32" data-view-component="true" class="avatar circle" /></span>
  </span>
</button>
  <template data-target="react-partial-anchor.template">
    <link crossorigin="anonymous" media="all" rel="stylesheet" href="https://github.githubassets.com/assets/primer-react.260d30274859410b0337.module.css" />
<link crossorigin="anonymous" media="all" rel="stylesheet" href="https://github.githubassets.com/assets/global-user-nav-drawer.e8cf9cec9edb459b70de.module.css" />

<react-partial
  partial-name="global-user-nav-drawer"
  data-ssr="false"
  data-attempted-ssr="false"
  data-react-profiling="false"
>
  
  <script type="application/json" data-target="react-partial.embeddedData">{"props":{"owner":{"login":"devansh2506","name":"Devansh Kedia","avatarUrl":"https://avatars.githubusercontent.com/u/183216339?v=4"},"drawerId":"global-user-nav-drawer","lazyLoadItemDataFetchUrl":"/_side-panels/user.json","canAddAccount":true,"addAccountPath":"/login?add_account=1\u0026return_to=https%3A%2F%2Fgithub.com%2FDeveloperAkansh26%2FFashion_Recommendation_And_VITON%2Fblob%2Fmain%2Fcloth-agnostic-view.ipynb","switchAccountPath":"/switch_account","loginAccountPath":"/login?add_account=1","projectsPath":"/devansh2506?tab=projects","gistsUrl":"https://gist.github.com/mine","docsUrl":"https://docs.github.com","yourEnterpriseUrl":null,"enterpriseSettingsUrl":null,"supportUrl":"https://support.github.com","showAccountSwitcher":true,"showCopilot":true,"showEnterprises":true,"showEnterprise":false,"showGithubMCPServerCTA":true,"showGists":true,"showOrganizations":true,"showSponsors":true,"showUpgrade":true,"showFeaturesPreviews":true,"showEnterpriseSettings":false,"createMenuProps":{"createRepo":true,"importRepo":true,"codespaces":true,"spark":false,"codingAgent":false,"gist":true,"createOrg":true,"createProject":false,"createProjectUrl":"/devansh2506?tab=projects","createLegacyProject":false,"createIssue":true,"org":null,"owner":"DeveloperAkansh26","repo":"Fashion_Recommendation_And_VITON"}}}</script>
  <div data-target="react-partial.reactRoot"></div>
</react-partial>

  </template>
</react-partial-anchor>


  <div data-show-on-forbidden-error hidden>
    <div class="Box">
  <div class="blankslate-container">
    <div data-view-component="true" class="blankslate blankslate-spacious color-bg-default rounded-2">
      

      <h3 data-view-component="true" class="blankslate-heading">        Uh oh!
</h3>
      <p data-view-component="true">        <p class="color-fg-muted my-2 mb-2 ws-normal">There was an error while loading. <a class="Link--inTextBlock" data-turbo="false" href="" aria-label="Please reload this page">Please reload this page</a>.</p>
</p>

</div>  </div>
</div>  </div>
</include-fragment></deferred-side-panel>
        </div>

        <div class="position-absolute mt-2">
            
<site-header-logged-in-user-menu>

</site-header-logged-in-user-menu>

        </div>
      </div>
    </div>


    
        <div class="AppHeader-localBar" >
          <nav data-pjax="#js-repo-pjax-container" aria-label="Repository" data-view-component="true" class="js-repo-nav js-sidenav-container-pjax js-responsive-underlinenav overflow-hidden UnderlineNav">

  <ul data-view-component="true" class="UnderlineNav-body list-style-none">
      <li data-view-component="true" class="d-inline-flex">
  <a id="code-tab" href="/DeveloperAkansh26/Fashion_Recommendation_And_VITON" data-tab-item="i0code-tab" data-selected-links="repo_source repo_downloads repo_commits repo_releases repo_tags repo_branches repo_packages repo_deployments repo_attestations /DeveloperAkansh26/Fashion_Recommendation_And_VITON" data-pjax="#repo-content-pjax-container" data-turbo-frame="repo-content-turbo-frame" data-hotkey="g c" data-analytics-event="{&quot;category&quot;:&quot;Underline navbar&quot;,&quot;action&quot;:&quot;Click tab&quot;,&quot;label&quot;:&quot;Code&quot;,&quot;target&quot;:&quot;UNDERLINE_NAV.TAB&quot;}" data-view-component="true" class="UnderlineNav-item no-wrap js-responsive-underlinenav-item js-selected-navigation-item">
    
              <svg aria-hidden="true" height="16" viewBox="0 0 16 16" version="1.1" width="16" data-view-component="true" class="octicon octicon-code UnderlineNav-octicon d-none d-sm-inline">
    <path d="m11.28 3.22 4.25 4.25a.75.75 0 0 1 0 1.06l-4.25 4.25a.749.749 0 0 1-1.275-.326.749.749 0 0 1 .215-.734L13.94 8l-3.72-3.72a.749.749 0 0 1 .326-1.275.749.749 0 0 1 .734.215Zm-6.56 0a.751.751 0 0 1 1.042.018.751.751 0 0 1 .018 1.042L2.06 8l3.72 3.72a.749.749 0 0 1-.326 1.275.749.749 0 0 1-.734-.215L.47 8.53a.75.75 0 0 1 0-1.06Z"></path>
</svg>
        <span data-content="Code">Code</span>
          <span id="code-repo-tab-count" data-pjax-replace="" data-turbo-replace="" title="Not available" data-view-component="true" class="Counter"></span>


    
</a></li>
      <li data-view-component="true" class="d-inline-flex">
  <a id="issues-tab" href="/DeveloperAkansh26/Fashion_Recommendation_And_VITON/issues" data-tab-item="i1issues-tab" data-selected-links="repo_issues repo_labels repo_milestones /DeveloperAkansh26/Fashion_Recommendation_And_VITON/issues" data-pjax="#repo-content-pjax-container" data-turbo-frame="repo-content-turbo-frame" data-hotkey="g i" data-analytics-event="{&quot;category&quot;:&quot;Underline navbar&quot;,&quot;action&quot;:&quot;Click tab&quot;,&quot;label&quot;:&quot;Issues&quot;,&quot;target&quot;:&quot;UNDERLINE_NAV.TAB&quot;}" data-view-component="true" class="UnderlineNav-item no-wrap js-responsive-underlinenav-item js-selected-navigation-item">
    
              <svg aria-hidden="true" height="16" viewBox="0 0 16 16" version="1.1" width="16" data-view-component="true" class="octicon octicon-issue-opened UnderlineNav-octicon d-none d-sm-inline">
    <path d="M8 9.5a1.5 1.5 0 1 0 0-3 1.5 1.5 0 0 0 0 3Z"></path><path d="M8 0a8 8 0 1 1 0 16A8 8 0 0 1 8 0ZM1.5 8a6.5 6.5 0 1 0 13 0 6.5 6.5 0 0 0-13 0Z"></path>
</svg>
        <span data-content="Issues">Issues</span>
          <span id="issues-repo-tab-count" data-pjax-replace="" data-turbo-replace="" title="0" hidden="hidden" data-view-component="true" class="Counter">0</span>


    
</a></li>
      <li data-view-component="true" class="d-inline-flex">
  <a id="pull-requests-tab" href="/DeveloperAkansh26/Fashion_Recommendation_And_VITON/pulls" data-tab-item="i2pull-requests-tab" data-selected-links="repo_pulls checks /DeveloperAkansh26/Fashion_Recommendation_And_VITON/pulls" data-pjax="#repo-content-pjax-container" data-turbo-frame="repo-content-turbo-frame" data-hotkey="g p" data-analytics-event="{&quot;category&quot;:&quot;Underline navbar&quot;,&quot;action&quot;:&quot;Click tab&quot;,&quot;label&quot;:&quot;Pull requests&quot;,&quot;target&quot;:&quot;UNDERLINE_NAV.TAB&quot;}" data-view-component="true" class="UnderlineNav-item no-wrap js-responsive-underlinenav-item js-selected-navigation-item">
    
              <svg aria-hidden="true" height="16" viewBox="0 0 16 16" version="1.1" width="16" data-view-component="true" class="octicon octicon-git-pull-request UnderlineNav-octicon d-none d-sm-inline">
    <path d="M1.5 3.25a2.25 2.25 0 1 1 3 2.122v5.256a2.251 2.251 0 1 1-1.5 0V5.372A2.25 2.25 0 0 1 1.5 3.25Zm5.677-.177L9.573.677A.25.25 0 0 1 10 .854V2.5h1A2.5 2.5 0 0 1 13.5 5v5.628a2.251 2.251 0 1 1-1.5 0V5a1 1 0 0 0-1-1h-1v1.646a.25.25 0 0 1-.427.177L7.177 3.427a.25.25 0 0 1 0-.354ZM3.75 2.5a.75.75 0 1 0 0 1.5.75.75 0 0 0 0-1.5Zm0 9.5a.75.75 0 1 0 0 1.5.75.75 0 0 0 0-1.5Zm8.25.75a.75.75 0 1 0 1.5 0 .75.75 0 0 0-1.5 0Z"></path>
</svg>
        <span data-content="Pull requests">Pull requests</span>
          <span id="pull-requests-repo-tab-count" data-pjax-replace="" data-turbo-replace="" title="0" hidden="hidden" data-view-component="true" class="Counter">0</span>


    
</a></li>
      <li data-view-component="true" class="d-inline-flex">
  <a id="actions-tab" href="/DeveloperAkansh26/Fashion_Recommendation_And_VITON/actions" data-tab-item="i3actions-tab" data-selected-links="repo_actions /DeveloperAkansh26/Fashion_Recommendation_And_VITON/actions" data-pjax="#repo-content-pjax-container" data-turbo-frame="repo-content-turbo-frame" data-hotkey="g a" data-analytics-event="{&quot;category&quot;:&quot;Underline navbar&quot;,&quot;action&quot;:&quot;Click tab&quot;,&quot;label&quot;:&quot;Actions&quot;,&quot;target&quot;:&quot;UNDERLINE_NAV.TAB&quot;}" data-view-component="true" class="UnderlineNav-item no-wrap js-responsive-underlinenav-item js-selected-navigation-item">
    
              <svg aria-hidden="true" height="16" viewBox="0 0 16 16" version="1.1" width="16" data-view-component="true" class="octicon octicon-play UnderlineNav-octicon d-none d-sm-inline">
    <path d="M8 0a8 8 0 1 1 0 16A8 8 0 0 1 8 0ZM1.5 8a6.5 6.5 0 1 0 13 0 6.5 6.5 0 0 0-13 0Zm4.879-2.773 4.264 2.559a.25.25 0 0 1 0 .428l-4.264 2.559A.25.25 0 0 1 6 10.559V5.442a.25.25 0 0 1 .379-.215Z"></path>
</svg>
        <span data-content="Actions">Actions</span>
          <span id="actions-repo-tab-count" data-pjax-replace="" data-turbo-replace="" title="Not available" data-view-component="true" class="Counter"></span>


    
</a></li>
      <li data-view-component="true" class="d-inline-flex">
  <a id="projects-tab" href="/DeveloperAkansh26/Fashion_Recommendation_And_VITON/projects" data-tab-item="i4projects-tab" data-selected-links="repo_projects new_repo_project repo_project /DeveloperAkansh26/Fashion_Recommendation_And_VITON/projects" data-pjax="#repo-content-pjax-container" data-turbo-frame="repo-content-turbo-frame" data-hotkey="g b" data-analytics-event="{&quot;category&quot;:&quot;Underline navbar&quot;,&quot;action&quot;:&quot;Click tab&quot;,&quot;label&quot;:&quot;Projects&quot;,&quot;target&quot;:&quot;UNDERLINE_NAV.TAB&quot;}" data-view-component="true" class="UnderlineNav-item no-wrap js-responsive-underlinenav-item js-selected-navigation-item">
    
              <svg aria-hidden="true" height="16" viewBox="0 0 16 16" version="1.1" width="16" data-view-component="true" class="octicon octicon-table UnderlineNav-octicon d-none d-sm-inline">
    <path d="M0 1.75C0 .784.784 0 1.75 0h12.5C15.216 0 16 .784 16 1.75v12.5A1.75 1.75 0 0 1 14.25 16H1.75A1.75 1.75 0 0 1 0 14.25ZM6.5 6.5v8h7.75a.25.25 0 0 0 .25-.25V6.5Zm8-1.5V1.75a.25.25 0 0 0-.25-.25H6.5V5Zm-13 1.5v7.75c0 .138.112.25.25.25H5v-8ZM5 5V1.5H1.75a.25.25 0 0 0-.25.25V5Z"></path>
</svg>
        <span data-content="Projects">Projects</span>
          <span id="projects-repo-tab-count" data-pjax-replace="" data-turbo-replace="" title="0" hidden="hidden" data-view-component="true" class="Counter">0</span>


    
</a></li>
      <li data-view-component="true" class="d-inline-flex">
  <a id="wiki-tab" href="/DeveloperAkansh26/Fashion_Recommendation_And_VITON/wiki" data-tab-item="i5wiki-tab" data-selected-links="repo_wiki /DeveloperAkansh26/Fashion_Recommendation_And_VITON/wiki" data-pjax="#repo-content-pjax-container" data-turbo-frame="repo-content-turbo-frame" data-hotkey="g w" data-analytics-event="{&quot;category&quot;:&quot;Underline navbar&quot;,&quot;action&quot;:&quot;Click tab&quot;,&quot;label&quot;:&quot;Wiki&quot;,&quot;target&quot;:&quot;UNDERLINE_NAV.TAB&quot;}" data-view-component="true" class="UnderlineNav-item no-wrap js-responsive-underlinenav-item js-selected-navigation-item">
    
              <svg aria-hidden="true" height="16" viewBox="0 0 16 16" version="1.1" width="16" data-view-component="true" class="octicon octicon-book UnderlineNav-octicon d-none d-sm-inline">
    <path d="M0 1.75A.75.75 0 0 1 .75 1h4.253c1.227 0 2.317.59 3 1.501A3.743 3.743 0 0 1 11.006 1h4.245a.75.75 0 0 1 .75.75v10.5a.75.75 0 0 1-.75.75h-4.507a2.25 2.25 0 0 0-1.591.659l-.622.621a.75.75 0 0 1-1.06 0l-.622-.621A2.25 2.25 0 0 0 5.258 13H.75a.75.75 0 0 1-.75-.75Zm7.251 10.324.004-5.073-.002-2.253A2.25 2.25 0 0 0 5.003 2.5H1.5v9h3.757a3.75 3.75 0 0 1 1.994.574ZM8.755 4.75l-.004 7.322a3.752 3.752 0 0 1 1.992-.572H14.5v-9h-3.495a2.25 2.25 0 0 0-2.25 2.25Z"></path>
</svg>
        <span data-content="Wiki">Wiki</span>
          <span id="wiki-repo-tab-count" data-pjax-replace="" data-turbo-replace="" title="Not available" data-view-component="true" class="Counter"></span>


    
</a></li>
      <li data-view-component="true" class="d-inline-flex">
  <a id="security-tab" href="/DeveloperAkansh26/Fashion_Recommendation_And_VITON/security" data-tab-item="i6security-tab" data-selected-links="security overview alerts policy token_scanning code_scanning /DeveloperAkansh26/Fashion_Recommendation_And_VITON/security" data-pjax="#repo-content-pjax-container" data-turbo-frame="repo-content-turbo-frame" data-hotkey="g s" data-analytics-event="{&quot;category&quot;:&quot;Underline navbar&quot;,&quot;action&quot;:&quot;Click tab&quot;,&quot;label&quot;:&quot;Security&quot;,&quot;target&quot;:&quot;UNDERLINE_NAV.TAB&quot;}" data-view-component="true" class="UnderlineNav-item no-wrap js-responsive-underlinenav-item js-selected-navigation-item">
    
              <svg aria-hidden="true" height="16" viewBox="0 0 16 16" version="1.1" width="16" data-view-component="true" class="octicon octicon-shield UnderlineNav-octicon d-none d-sm-inline">
    <path d="M7.467.133a1.748 1.748 0 0 1 1.066 0l5.25 1.68A1.75 1.75 0 0 1 15 3.48V7c0 1.566-.32 3.182-1.303 4.682-.983 1.498-2.585 2.813-5.032 3.855a1.697 1.697 0 0 1-1.33 0c-2.447-1.042-4.049-2.357-5.032-3.855C1.32 10.182 1 8.566 1 7V3.48a1.75 1.75 0 0 1 1.217-1.667Zm.61 1.429a.25.25 0 0 0-.153 0l-5.25 1.68a.25.25 0 0 0-.174.238V7c0 1.358.275 2.666 1.057 3.86.784 1.194 2.121 2.34 4.366 3.297a.196.196 0 0 0 .154 0c2.245-.956 3.582-2.104 4.366-3.298C13.225 9.666 13.5 8.36 13.5 7V3.48a.251.251 0 0 0-.174-.237l-5.25-1.68ZM8.75 4.75v3a.75.75 0 0 1-1.5 0v-3a.75.75 0 0 1 1.5 0ZM9 10.5a1 1 0 1 1-2 0 1 1 0 0 1 2 0Z"></path>
</svg>
        <span data-content="Security">Security</span>
          <include-fragment src="/DeveloperAkansh26/Fashion_Recommendation_And_VITON/security/overall-count" accept="text/fragment+html" data-nonce="v2:16bdf731-d3d4-1077-5497-fa74de3b3a9d" data-view-component="true">
  
  <div data-show-on-forbidden-error hidden>
    <div class="Box">
  <div class="blankslate-container">
    <div data-view-component="true" class="blankslate blankslate-spacious color-bg-default rounded-2">
      

      <h3 data-view-component="true" class="blankslate-heading">        Uh oh!
</h3>
      <p data-view-component="true">        <p class="color-fg-muted my-2 mb-2 ws-normal">There was an error while loading. <a class="Link--inTextBlock" data-turbo="false" href="" aria-label="Please reload this page">Please reload this page</a>.</p>
</p>

</div>  </div>
</div>  </div>
</include-fragment>

    
</a></li>
      <li data-view-component="true" class="d-inline-flex">
  <a id="insights-tab" href="/DeveloperAkansh26/Fashion_Recommendation_And_VITON/pulse" data-tab-item="i7insights-tab" data-selected-links="repo_graphs repo_contributors dependency_graph dependabot_updates pulse people community /DeveloperAkansh26/Fashion_Recommendation_And_VITON/pulse" data-pjax="#repo-content-pjax-container" data-turbo-frame="repo-content-turbo-frame" data-analytics-event="{&quot;category&quot;:&quot;Underline navbar&quot;,&quot;action&quot;:&quot;Click tab&quot;,&quot;label&quot;:&quot;Insights&quot;,&quot;target&quot;:&quot;UNDERLINE_NAV.TAB&quot;}" data-view-component="true" class="UnderlineNav-item no-wrap js-responsive-underlinenav-item js-selected-navigation-item">
    
              <svg aria-hidden="true" height="16" viewBox="0 0 16 16" version="1.1" width="16" data-view-component="true" class="octicon octicon-graph UnderlineNav-octicon d-none d-sm-inline">
    <path d="M1.5 1.75V13.5h13.75a.75.75 0 0 1 0 1.5H.75a.75.75 0 0 1-.75-.75V1.75a.75.75 0 0 1 1.5 0Zm14.28 2.53-5.25 5.25a.75.75 0 0 1-1.06 0L7 7.06 4.28 9.78a.751.751 0 0 1-1.042-.018.751.751 0 0 1-.018-1.042l3.25-3.25a.75.75 0 0 1 1.06 0L10 7.94l4.72-4.72a.751.751 0 0 1 1.042.018.751.751 0 0 1 .018 1.042Z"></path>
</svg>
        <span data-content="Insights">Insights</span>
          <span id="insights-repo-tab-count" data-pjax-replace="" data-turbo-replace="" title="Not available" data-view-component="true" class="Counter"></span>


    
</a></li>
</ul>
    <div style="visibility:hidden;" data-view-component="true" class="UnderlineNav-actions js-responsive-underlinenav-overflow position-absolute pr-3 pr-md-4 pr-lg-5 right-0">      <action-menu data-select-variant="none" data-view-component="true">
  <focus-group direction="vertical" mnemonics retain>
    <button id="action-menu-a65e91b8-03c5-41eb-826f-f4d333108ced-button" popovertarget="action-menu-a65e91b8-03c5-41eb-826f-f4d333108ced-overlay" aria-controls="action-menu-a65e91b8-03c5-41eb-826f-f4d333108ced-list" aria-haspopup="true" aria-labelledby="tooltip-413461ee-17c4-4617-aae7-62baccb5da97" type="button" data-view-component="true" class="Button Button--iconOnly Button--secondary Button--medium UnderlineNav-item">  <svg aria-hidden="true" height="16" viewBox="0 0 16 16" version="1.1" width="16" data-view-component="true" class="octicon octicon-kebab-horizontal Button-visual">
    <path d="M8 9a1.5 1.5 0 1 0 0-3 1.5 1.5 0 0 0 0 3ZM1.5 9a1.5 1.5 0 1 0 0-3 1.5 1.5 0 0 0 0 3Zm13 0a1.5 1.5 0 1 0 0-3 1.5 1.5 0 0 0 0 3Z"></path>
</svg>
</button><tool-tip id="tooltip-413461ee-17c4-4617-aae7-62baccb5da97" for="action-menu-a65e91b8-03c5-41eb-826f-f4d333108ced-button" popover="manual" data-direction="s" data-type="label" data-view-component="true" class="sr-only position-absolute">Additional navigation options</tool-tip>


<anchored-position data-target="action-menu.overlay" id="action-menu-a65e91b8-03c5-41eb-826f-f4d333108ced-overlay" anchor="action-menu-a65e91b8-03c5-41eb-826f-f4d333108ced-button" align="start" side="outside-bottom" anchor-offset="normal" popover="auto" data-view-component="true">
  <div data-view-component="true" class="Overlay Overlay--size-auto">
    
      <div data-view-component="true" class="Overlay-body Overlay-body--paddingNone">          <action-list>
  <div data-view-component="true">
    <ul aria-labelledby="action-menu-a65e91b8-03c5-41eb-826f-f4d333108ced-button" id="action-menu-a65e91b8-03c5-41eb-826f-f4d333108ced-list" role="menu" data-view-component="true" class="ActionListWrap--inset ActionListWrap">
        <li hidden="hidden" data-menu-item="i0code-tab" data-targets="action-list.items" role="none" data-view-component="true" class="ActionListItem">
    
    
    <a tabindex="-1" id="item-a2686673-ef10-4846-969f-7d9527b23f13" href="/DeveloperAkansh26/Fashion_Recommendation_And_VITON" role="menuitem" data-view-component="true" class="ActionListContent ActionListContent--visual16">
        <span class="ActionListItem-visual ActionListItem-visual--leading">
          <svg aria-hidden="true" height="16" viewBox="0 0 16 16" version="1.1" width="16" data-view-component="true" class="octicon octicon-code">
    <path d="m11.28 3.22 4.25 4.25a.75.75 0 0 1 0 1.06l-4.25 4.25a.749.749 0 0 1-1.275-.326.749.749 0 0 1 .215-.734L13.94 8l-3.72-3.72a.749.749 0 0 1 .326-1.275.749.749 0 0 1 .734.215Zm-6.56 0a.751.751 0 0 1 1.042.018.751.751 0 0 1 .018 1.042L2.06 8l3.72 3.72a.749.749 0 0 1-.326 1.275.749.749 0 0 1-.734-.215L.47 8.53a.75.75 0 0 1 0-1.06Z"></path>
</svg>
        </span>
      
        <span data-view-component="true" class="ActionListItem-label">
          Code
</span>      
</a>
  
</li>
        <li hidden="hidden" data-menu-item="i1issues-tab" data-targets="action-list.items" role="none" data-view-component="true" class="ActionListItem">
    
    
    <a tabindex="-1" id="item-1f5678c0-9854-42c8-af0f-2a2cf8fc014a" href="/DeveloperAkansh26/Fashion_Recommendation_And_VITON/issues" role="menuitem" data-view-component="true" class="ActionListContent ActionListContent--visual16">
        <span class="ActionListItem-visual ActionListItem-visual--leading">
          <svg aria-hidden="true" height="16" viewBox="0 0 16 16" version="1.1" width="16" data-view-component="true" class="octicon octicon-issue-opened">
    <path d="M8 9.5a1.5 1.5 0 1 0 0-3 1.5 1.5 0 0 0 0 3Z"></path><path d="M8 0a8 8 0 1 1 0 16A8 8 0 0 1 8 0ZM1.5 8a6.5 6.5 0 1 0 13 0 6.5 6.5 0 0 0-13 0Z"></path>
</svg>
        </span>
      
        <span data-view-component="true" class="ActionListItem-label">
          Issues
</span>      
</a>
  
</li>
        <li hidden="hidden" data-menu-item="i2pull-requests-tab" data-targets="action-list.items" role="none" data-view-component="true" class="ActionListItem">
    
    
    <a tabindex="-1" id="item-78899fe4-e6b5-4f6b-a8ed-7b36d993e419" href="/DeveloperAkansh26/Fashion_Recommendation_And_VITON/pulls" role="menuitem" data-view-component="true" class="ActionListContent ActionListContent--visual16">
        <span class="ActionListItem-visual ActionListItem-visual--leading">
          <svg aria-hidden="true" height="16" viewBox="0 0 16 16" version="1.1" width="16" data-view-component="true" class="octicon octicon-git-pull-request">
    <path d="M1.5 3.25a2.25 2.25 0 1 1 3 2.122v5.256a2.251 2.251 0 1 1-1.5 0V5.372A2.25 2.25 0 0 1 1.5 3.25Zm5.677-.177L9.573.677A.25.25 0 0 1 10 .854V2.5h1A2.5 2.5 0 0 1 13.5 5v5.628a2.251 2.251 0 1 1-1.5 0V5a1 1 0 0 0-1-1h-1v1.646a.25.25 0 0 1-.427.177L7.177 3.427a.25.25 0 0 1 0-.354ZM3.75 2.5a.75.75 0 1 0 0 1.5.75.75 0 0 0 0-1.5Zm0 9.5a.75.75 0 1 0 0 1.5.75.75 0 0 0 0-1.5Zm8.25.75a.75.75 0 1 0 1.5 0 .75.75 0 0 0-1.5 0Z"></path>
</svg>
        </span>
      
        <span data-view-component="true" class="ActionListItem-label">
          Pull requests
</span>      
</a>
  
</li>
        <li hidden="hidden" data-menu-item="i3actions-tab" data-targets="action-list.items" role="none" data-view-component="true" class="ActionListItem">
    
    
    <a tabindex="-1" id="item-8aa5107d-e2a5-4450-9792-f8fdf4d186e8" href="/DeveloperAkansh26/Fashion_Recommendation_And_VITON/actions" role="menuitem" data-view-component="true" class="ActionListContent ActionListContent--visual16">
        <span class="ActionListItem-visual ActionListItem-visual--leading">
          <svg aria-hidden="true" height="16" viewBox="0 0 16 16" version="1.1" width="16" data-view-component="true" class="octicon octicon-play">
    <path d="M8 0a8 8 0 1 1 0 16A8 8 0 0 1 8 0ZM1.5 8a6.5 6.5 0 1 0 13 0 6.5 6.5 0 0 0-13 0Zm4.879-2.773 4.264 2.559a.25.25 0 0 1 0 .428l-4.264 2.559A.25.25 0 0 1 6 10.559V5.442a.25.25 0 0 1 .379-.215Z"></path>
</svg>
        </span>
      
        <span data-view-component="true" class="ActionListItem-label">
          Actions
</span>      
</a>
  
</li>
        <li hidden="hidden" data-menu-item="i4projects-tab" data-targets="action-list.items" role="none" data-view-component="true" class="ActionListItem">
    
    
    <a tabindex="-1" id="item-ba0d512c-c0bf-4598-8591-fa78bfd36c53" href="/DeveloperAkansh26/Fashion_Recommendation_And_VITON/projects" role="menuitem" data-view-component="true" class="ActionListContent ActionListContent--visual16">
        <span class="ActionListItem-visual ActionListItem-visual--leading">
          <svg aria-hidden="true" height="16" viewBox="0 0 16 16" version="1.1" width="16" data-view-component="true" class="octicon octicon-table">
    <path d="M0 1.75C0 .784.784 0 1.75 0h12.5C15.216 0 16 .784 16 1.75v12.5A1.75 1.75 0 0 1 14.25 16H1.75A1.75 1.75 0 0 1 0 14.25ZM6.5 6.5v8h7.75a.25.25 0 0 0 .25-.25V6.5Zm8-1.5V1.75a.25.25 0 0 0-.25-.25H6.5V5Zm-13 1.5v7.75c0 .138.112.25.25.25H5v-8ZM5 5V1.5H1.75a.25.25 0 0 0-.25.25V5Z"></path>
</svg>
        </span>
      
        <span data-view-component="true" class="ActionListItem-label">
          Projects
</span>      
</a>
  
</li>
        <li hidden="hidden" data-menu-item="i5wiki-tab" data-targets="action-list.items" role="none" data-view-component="true" class="ActionListItem">
    
    
    <a tabindex="-1" id="item-79279a23-f2bd-4515-931b-489be537a361" href="/DeveloperAkansh26/Fashion_Recommendation_And_VITON/wiki" role="menuitem" data-view-component="true" class="ActionListContent ActionListContent--visual16">
        <span class="ActionListItem-visual ActionListItem-visual--leading">
          <svg aria-hidden="true" height="16" viewBox="0 0 16 16" version="1.1" width="16" data-view-component="true" class="octicon octicon-book">
    <path d="M0 1.75A.75.75 0 0 1 .75 1h4.253c1.227 0 2.317.59 3 1.501A3.743 3.743 0 0 1 11.006 1h4.245a.75.75 0 0 1 .75.75v10.5a.75.75 0 0 1-.75.75h-4.507a2.25 2.25 0 0 0-1.591.659l-.622.621a.75.75 0 0 1-1.06 0l-.622-.621A2.25 2.25 0 0 0 5.258 13H.75a.75.75 0 0 1-.75-.75Zm7.251 10.324.004-5.073-.002-2.253A2.25 2.25 0 0 0 5.003 2.5H1.5v9h3.757a3.75 3.75 0 0 1 1.994.574ZM8.755 4.75l-.004 7.322a3.752 3.752 0 0 1 1.992-.572H14.5v-9h-3.495a2.25 2.25 0 0 0-2.25 2.25Z"></path>
</svg>
        </span>
      
        <span data-view-component="true" class="ActionListItem-label">
          Wiki
</span>      
</a>
  
</li>
        <li hidden="hidden" data-menu-item="i6security-tab" data-targets="action-list.items" role="none" data-view-component="true" class="ActionListItem">
    
    
    <a tabindex="-1" id="item-9a1ac23e-7a1f-4b76-9d5c-0eb9bb89fba0" href="/DeveloperAkansh26/Fashion_Recommendation_And_VITON/security" role="menuitem" data-view-component="true" class="ActionListContent ActionListContent--visual16">
        <span class="ActionListItem-visual ActionListItem-visual--leading">
          <svg aria-hidden="true" height="16" viewBox="0 0 16 16" version="1.1" width="16" data-view-component="true" class="octicon octicon-shield">
    <path d="M7.467.133a1.748 1.748 0 0 1 1.066 0l5.25 1.68A1.75 1.75 0 0 1 15 3.48V7c0 1.566-.32 3.182-1.303 4.682-.983 1.498-2.585 2.813-5.032 3.855a1.697 1.697 0 0 1-1.33 0c-2.447-1.042-4.049-2.357-5.032-3.855C1.32 10.182 1 8.566 1 7V3.48a1.75 1.75 0 0 1 1.217-1.667Zm.61 1.429a.25.25 0 0 0-.153 0l-5.25 1.68a.25.25 0 0 0-.174.238V7c0 1.358.275 2.666 1.057 3.86.784 1.194 2.121 2.34 4.366 3.297a.196.196 0 0 0 .154 0c2.245-.956 3.582-2.104 4.366-3.298C13.225 9.666 13.5 8.36 13.5 7V3.48a.251.251 0 0 0-.174-.237l-5.25-1.68ZM8.75 4.75v3a.75.75 0 0 1-1.5 0v-3a.75.75 0 0 1 1.5 0ZM9 10.5a1 1 0 1 1-2 0 1 1 0 0 1 2 0Z"></path>
</svg>
        </span>
      
        <span data-view-component="true" class="ActionListItem-label">
          Security
</span>      
</a>
  
</li>
        <li hidden="hidden" data-menu-item="i7insights-tab" data-targets="action-list.items" role="none" data-view-component="true" class="ActionListItem">
    
    
    <a tabindex="-1" id="item-a471c83c-c1ec-4034-b622-30192d84b23e" href="/DeveloperAkansh26/Fashion_Recommendation_And_VITON/pulse" role="menuitem" data-view-component="true" class="ActionListContent ActionListContent--visual16">
        <span class="ActionListItem-visual ActionListItem-visual--leading">
          <svg aria-hidden="true" height="16" viewBox="0 0 16 16" version="1.1" width="16" data-view-component="true" class="octicon octicon-graph">
    <path d="M1.5 1.75V13.5h13.75a.75.75 0 0 1 0 1.5H.75a.75.75 0 0 1-.75-.75V1.75a.75.75 0 0 1 1.5 0Zm14.28 2.53-5.25 5.25a.75.75 0 0 1-1.06 0L7 7.06 4.28 9.78a.751.751 0 0 1-1.042-.018.751.751 0 0 1-.018-1.042l3.25-3.25a.75.75 0 0 1 1.06 0L10 7.94l4.72-4.72a.751.751 0 0 1 1.042.018.751.751 0 0 1 .018 1.042Z"></path>
</svg>
        </span>
      
        <span data-view-component="true" class="ActionListItem-label">
          Insights
</span>      
</a>
  
</li>
</ul>    
</div></action-list>


</div>
      
</div></anchored-position>  </focus-group>
</action-menu></div>
</nav>
          
        </div>
</header>


      <div hidden="hidden" data-view-component="true" class="js-stale-session-flash stale-session-flash flash flash-warn flash-full">
  
        <svg aria-hidden="true" height="16" viewBox="0 0 16 16" version="1.1" width="16" data-view-component="true" class="octicon octicon-alert">
    <path d="M6.457 1.047c.659-1.234 2.427-1.234 3.086 0l6.082 11.378A1.75 1.75 0 0 1 14.082 15H1.918a1.75 1.75 0 0 1-1.543-2.575Zm1.763.707a.25.25 0 0 0-.44 0L1.698 13.132a.25.25 0 0 0 .22.368h12.164a.25.25 0 0 0 .22-.368Zm.53 3.996v2.5a.75.75 0 0 1-1.5 0v-2.5a.75.75 0 0 1 1.5 0ZM9 11a1 1 0 1 1-2 0 1 1 0 0 1 2 0Z"></path>
</svg>
        <span class="js-stale-session-flash-signed-in" hidden>You signed in with another tab or window. <a class="Link--inTextBlock" href="">Reload</a> to refresh your session.</span>
        <span class="js-stale-session-flash-signed-out" hidden>You signed out in another tab or window. <a class="Link--inTextBlock" href="">Reload</a> to refresh your session.</span>
        <span class="js-stale-session-flash-switched" hidden>You switched accounts on another tab or window. <a class="Link--inTextBlock" href="">Reload</a> to refresh your session.</span>

    <button id="icon-button-9e860944-0881-48a6-85f5-ded823f0c7f8" aria-labelledby="tooltip-44915cfc-d598-4895-8d91-f54133ff96b5" type="button" data-view-component="true" class="Button Button--iconOnly Button--invisible Button--medium flash-close js-flash-close">  <svg aria-hidden="true" height="16" viewBox="0 0 16 16" version="1.1" width="16" data-view-component="true" class="octicon octicon-x Button-visual">
    <path d="M3.72 3.72a.75.75 0 0 1 1.06 0L8 6.94l3.22-3.22a.749.749 0 0 1 1.275.326.749.749 0 0 1-.215.734L9.06 8l3.22 3.22a.749.749 0 0 1-.326 1.275.749.749 0 0 1-.734-.215L8 9.06l-3.22 3.22a.751.751 0 0 1-1.042-.018.751.751 0 0 1-.018-1.042L6.94 8 3.72 4.78a.75.75 0 0 1 0-1.06Z"></path>
</svg>
</button><tool-tip id="tooltip-44915cfc-d598-4895-8d91-f54133ff96b5" for="icon-button-9e860944-0881-48a6-85f5-ded823f0c7f8" popover="manual" data-direction="s" data-type="label" data-view-component="true" class="sr-only position-absolute">Dismiss alert</tool-tip>


  
</div>
        
          
    </div>

  <div id="start-of-content" class="show-on-focus"></div>








    <div id="js-flash-container" class="flash-container" data-turbo-replace>




  <template class="js-flash-template">
    
<div class="flash flash-full   {{ className }}">
  <div >
    <button autofocus class="flash-close js-flash-close" type="button" aria-label="Dismiss this message">
      <svg aria-hidden="true" height="16" viewBox="0 0 16 16" version="1.1" width="16" data-view-component="true" class="octicon octicon-x">
    <path d="M3.72 3.72a.75.75 0 0 1 1.06 0L8 6.94l3.22-3.22a.749.749 0 0 1 1.275.326.749.749 0 0 1-.215.734L9.06 8l3.22 3.22a.749.749 0 0 1-.326 1.275.749.749 0 0 1-.734-.215L8 9.06l-3.22 3.22a.751.751 0 0 1-1.042-.018.751.751 0 0 1-.018-1.042L6.94 8 3.72 4.78a.75.75 0 0 1 0-1.06Z"></path>
</svg>
    </button>
    <div aria-atomic="true" role="alert" class="js-flash-alert">
      
      <div>{{ message }}</div>

    </div>
  </div>
</div>
  </template>
</div>


    
  <notification-shelf-watcher data-base-url="https://github.com/notifications/beta/shelf" data-channel="eyJjIjoibm90aWZpY2F0aW9uLWNoYW5nZWQ6MTgzMjE2MzM5IiwidCI6MTc1NDE3MTI3M30=--e20ac0b5f9545005970f17600cafeab62eb6a3b5fad94ec37a68b3aa8f4b43b7" data-view-component="true" class="js-socket-channel"></notification-shelf-watcher>
  <div hidden data-initial data-target="notification-shelf-watcher.placeholder"></div>






  <div
    class="application-main "
    data-commit-hovercards-enabled
    data-discussion-hovercards-enabled
    data-issue-and-pr-hovercards-enabled
    data-project-hovercards-enabled
  >
        <div itemscope itemtype="http://schema.org/SoftwareSourceCode" class="">
    <main id="js-repo-pjax-container" >
      
      






    
  <div id="repository-container-header" data-turbo-replace hidden ></div>




<turbo-frame id="repo-content-turbo-frame" target="_top" data-turbo-action="advance" class="">
    <div id="repo-content-pjax-container" class="repository-content " >
      <a href="https://github.dev/" class="d-none js-github-dev-shortcut" data-hotkey=".,Mod+Alt+.">Open in github.dev</a>
  <a href="https://github.dev/" class="d-none js-github-dev-new-tab-shortcut" data-hotkey="Shift+.,Shift+&gt;,&gt;" target="_blank" rel="noopener noreferrer">Open in a new github.dev tab</a>
    <a class="d-none" data-hotkey=",,Mod+Alt+," target="_blank" href="/codespaces/new/DeveloperAkansh26/Fashion_Recommendation_And_VITON/tree/main?resume=1">Open in codespace</a>




    
      
    








<react-app
  app-name="react-code-view"
  initial-path="/DeveloperAkansh26/Fashion_Recommendation_And_VITON/blob/main/cloth-agnostic-view.ipynb"
    style="display: block; min-height: calc(100vh - 64px);"
  data-attempted-ssr="true"
  data-ssr="true"
  data-lazy="false"
  data-alternate="false"
  data-data-router-enabled="false"
  data-react-profiling="false"
>
  
  <script type="application/json" data-target="react-app.embeddedData">{"payload":{"allShortcutsEnabled":true,"fileTree":{"":{"items":[{"name":"TPS BASED VITON","path":"TPS BASED VITON","contentType":"directory"},{"name":"GT for GMM.ipynb","path":"GT for GMM.ipynb","contentType":"file"},{"name":"README.md","path":"README.md","contentType":"file"},{"name":"TPS-Based-VITON","path":"TPS-Based-VITON","contentType":"file"},{"name":"cag-arch.ipynb","path":"cag-arch.ipynb","contentType":"file"},{"name":"cloth-agnostic-view.ipynb","path":"cloth-agnostic-view.ipynb","contentType":"file"},{"name":"controlnet-viton.ipynb","path":"controlnet-viton.ipynb","contentType":"file"},{"name":"diffusion-infill.ipynb","path":"diffusion-infill.ipynb","contentType":"file"},{"name":"diffusionmodel-viton.ipynb","path":"diffusionmodel-viton.ipynb","contentType":"file"},{"name":"generated_prompts.json","path":"generated_prompts.json","contentType":"file"},{"name":"gmm-arch.ipynb","path":"gmm-arch.ipynb","contentType":"file"},{"name":"hr-viton.ipynb","path":"hr-viton.ipynb","contentType":"file"},{"name":"index.html","path":"index.html","contentType":"file"},{"name":"main.py","path":"main.py","contentType":"file"},{"name":"normal-diffusion-model.ipynb","path":"normal-diffusion-model.ipynb","contentType":"file"},{"name":"pipeline.py","path":"pipeline.py","contentType":"file"},{"name":"tryon.html","path":"tryon.html","contentType":"file"},{"name":"vector.ipynb","path":"vector.ipynb","contentType":"file"},{"name":"viton-hd-pipeline.ipynb","path":"viton-hd-pipeline.ipynb","contentType":"file"}],"totalCount":19}},"fileTreeProcessingTime":2.218758,"foldersToFetch":[],"incompleteFileTree":false,"repo":{"id":1022673421,"defaultBranch":"main","name":"Fashion_Recommendation_And_VITON","ownerLogin":"DeveloperAkansh26","currentUserCanPush":true,"isFork":false,"isEmpty":false,"createdAt":"2025-07-19T20:54:46.000+05:30","ownerAvatar":"https://avatars.githubusercontent.com/u/66119591?v=4","public":true,"private":false,"isOrgOwned":false},"codeLineWrapEnabled":false,"symbolsExpanded":true,"treeExpanded":false,"refInfo":{"name":"main","listCacheKey":"v0:1752947011.0","canEdit":true,"refType":"branch","currentOid":"fc9cd6c080879559af3d60dbfe7f2972b348a9b2"},"path":"cloth-agnostic-view.ipynb","currentUser":{"id":183216339,"login":"devansh2506","userEmail":"devanshkedia2005@gmail.com"},"blob":{"rawLines":["{\"metadata\":{\"kernelspec\":{\"language\":\"python\",\"display_name\":\"Python 3\",\"name\":\"python3\"},\"language_info\":{\"name\":\"python\",\"version\":\"3.11.13\",\"mimetype\":\"text/x-python\",\"codemirror_mode\":{\"name\":\"ipython\",\"version\":3},\"pygments_lexer\":\"ipython3\",\"nbconvert_exporter\":\"python\",\"file_extension\":\".py\"},\"kaggle\":{\"accelerator\":\"none\",\"dataSources\":[{\"sourceId\":6683799,\"sourceType\":\"datasetVersion\",\"datasetId\":3855472}],\"dockerImageVersionId\":31089,\"isInternetEnabled\":true,\"language\":\"python\",\"sourceType\":\"notebook\",\"isGpuEnabled\":false}},\"nbformat_minor\":4,\"nbformat\":4,\"cells\":[{\"cell_type\":\"code\",\"source\":\"import torch\\nfrom torchvision import transforms\\nfrom PIL import Image, ImageDraw\\nimport numpy as np\\nimport json\\nimport os\\n\\n# Image transformation pipeline (used for both cloth and person images)\\nimage_transform = transforms.Compose([\\n    transforms.ToTensor(), # Converts PIL Image/NumPy array to PyTorch Tensor (0-255 -\u003e 0.0-1.0, HWC -\u003e CHW)\\n    transforms.Normalize((0.5, 0.5, 0.5), (0.5, 0.5, 0.5)) # Normalizes to [-1, 1]\\n])\\n\\n# Transformation for the final 'shape' and 'one_map' outputs (single channel, [-1, 1])\\nparse_shape_final_transform = transforms.Compose([\\n    transforms.ToTensor(), # PIL Image (0-255) to Tensor (0.0-1.0)\\n    transforms.Normalize((0.5,), (0.5,)) # Normalize single channel to [-1, 1]\\n])\\n\\ndef preprocess_image(image_path, mask_path, person_image_path, parsing_map_path,\\n                     keypoints_json_path, fine_width, fine_height, radius):\\n    # Cloth Image processing (PyTorch) - Intermediate, not returned\\n    cloth_image_pil = Image.open(image_path).convert('RGB')\\n    cloth_image_tensor = image_transform(cloth_image_pil)\\n\\n    # Cloth Mask processing (NumPy then PyTorch) - Intermediate, not returned\\n    cm_pil = Image.open(mask_path).convert('RGB')\\n    cm_array = np.array(cm_pil)\\n    cm_array = (cm_array \u003e= 128).astype(np.float32)\\n    cm_tensor = torch.from_numpy(cm_array)\\n    if cm_tensor.dim() == 3:\\n        cm_tensor.unsqueeze_(0)\\n    elif cm_tensor.dim() == 2:\\n         cm_tensor = cm_tensor.unsqueeze(0).unsqueeze(0)\\n\\n    # Person Image processing (PyTorch) - This is our 'im'\\n    person_image_pil = Image.open(person_image_path).convert('RGB')\\n    person_image_tensor = image_transform(person_image_pil)\\n\\n    # Human Parsing Map Processing (NumPy/PIL then PyTorch)\\n    im_parse = Image.open(parsing_map_path)\\n    parse_array = np.array(im_parse)\\n    parse_shape = (parse_array \u003e 0).astype(np.float32)\\n    parse_head = ((parse_array == 1) | (parse_array == 2) | \\\\\\n                  (parse_array == 4) | (parse_array == 13)).astype(np.float32)\\n    parse_cloth = ((parse_array == 5) | (parse_array == 6) | \\\\\\n                   (parse_array == 7)).astype(np.float32)\\n\\n    if parse_shape.ndim \u003e 2 and parse_shape.shape[-1] == 1:\\n        parse_shape_pil_input = parse_shape.squeeze(-1)\\n    else:\\n        parse_shape_pil_input = parse_shape\\n    parse_shape_pil = Image.fromarray((parse_shape_pil_input * 255).astype(np.uint8))\\n    \\n    parse_shape_downsampled = parse_shape_pil.resize((fine_width // 16, fine_height // 16), Image.BILINEAR)\\n    parse_shape_resized = parse_shape_downsampled.resize((fine_width, fine_height), Image.BILINEAR)\\n    shape = parse_shape_final_transform(parse_shape_resized)\\n\\n    phead = torch.from_numpy(parse_head)\\n    pcm = torch.from_numpy(parse_cloth)\\n    if phead.ndim == 2:\\n        phead = phead.unsqueeze(0)\\n    if pcm.ndim == 2:\\n        pcm = pcm.unsqueeze(0)\\n\\n    im_c = person_image_tensor * pcm + (1 - pcm) # Intermediate, not returned\\n    im_h = person_image_tensor * phead - (1 - phead) # Intermediate\\n\\n    # Pose Keypoints Processing (JSON, NumPy, PIL drawing, then PyTorch)\\n    with open(keypoints_json_path, 'r') as f:\\n        pose_label = json.load(f)\\n        if 'people' in pose_label and len(pose_label['people']) \u003e 0 and \\\\\\n           'pose_keypoints_2d' in pose_label['people'][0]:\\n            pose_data = pose_label['people'][0]['pose_keypoints_2d']\\n        elif 'people' in pose_label and len(pose_label['people']) \u003e 0 and \\\\\\n             'pose_keypoints' in pose_label['people'][0]:\\n            pose_data = pose_label['people'][0]['pose_keypoints']\\n        else:\\n            pose_data = []\\n\\n        pose_data = np.array(pose_data, dtype=np.float32)\\n        if pose_data.size \u003e 0:\\n            pose_data = pose_data.reshape((-1, 3))\\n        else:\\n            pose_data = np.zeros((0, 3), dtype=np.float32)\\n\\n    point_num = pose_data.shape[0]\\n    pose_map = torch.zeros(point_num, fine_height, fine_width, dtype=torch.float32)\\n\\n    im_pose = Image.new('L', (fine_width, fine_height))\\n    pose_draw = ImageDraw.Draw(im_pose)\\n\\n    for i in range(point_num):\\n        one_map = Image.new('L', (fine_width, fine_height))\\n        draw = ImageDraw.Draw(one_map)\\n        pointx = pose_data[i, 0]\\n        pointy = pose_data[i, 1]\\n\\n        if pointx \u003e 1 and pointy \u003e 1 and pose_data[i, 2] \u003e 0.1:\\n            draw.rectangle((pointx - radius, pointy - radius, pointx + radius, pointy + radius), 'white', 'white')\\n            pose_draw.rectangle((pointx - radius, pointy - radius, pointx + radius, pointy + radius), 'white', 'white')\\n        \\n        one_map_tensor = parse_shape_final_transform(one_map)[0]\\n        pose_map[i] = one_map_tensor\\n\\n    # Calculate Cloth-Agnostic Representation\\n    agnostic = torch.cat([shape, im_h, pose_map], 0)\\n\\n    # Return only the agnostic tensor\\n    return agnostic\",\"metadata\":{\"trusted\":true,\"execution\":{\"iopub.status.busy\":\"2025-07-19T18:12:38.828622Z\",\"iopub.execute_input\":\"2025-07-19T18:12:38.829226Z\",\"iopub.status.idle\":\"2025-07-19T18:12:49.287308Z\",\"shell.execute_reply.started\":\"2025-07-19T18:12:38.829199Z\",\"shell.execute_reply\":\"2025-07-19T18:12:49.286457Z\"}},\"outputs\":[],\"execution_count\":1},{\"cell_type\":\"code\",\"source\":\"agnostic = preprocess_image(\\n    '/kaggle/input/high-resolution-viton-zalando-dataset/test/cloth/00006_00.jpg',\\n    '/kaggle/input/high-resolution-viton-zalando-dataset/test/cloth-mask/00006_00.jpg',\\n    '/kaggle/input/high-resolution-viton-zalando-dataset/test/image/00006_00.jpg',\\n    '/kaggle/input/high-resolution-viton-zalando-dataset/test/image-parse-v3/00006_00.png',\\n    '/kaggle/input/high-resolution-viton-zalando-dataset/test/openpose_json/00006_00_keypoints.json',\\n    768,\\n    1024,\\n    7\\n)\",\"metadata\":{\"trusted\":true,\"execution\":{\"iopub.status.busy\":\"2025-07-19T18:20:50.760762Z\",\"iopub.execute_input\":\"2025-07-19T18:20:50.761040Z\",\"iopub.status.idle\":\"2025-07-19T18:20:50.960641Z\",\"shell.execute_reply.started\":\"2025-07-19T18:20:50.761017Z\",\"shell.execute_reply\":\"2025-07-19T18:20:50.959537Z\"}},\"outputs\":[],\"execution_count\":5},{\"cell_type\":\"code\",\"source\":\"import matplotlib.pyplot as plt\\nimport torch\\nimport numpy as np # For converting PyTorch tensors to NumPy arrays for visualization\\n\\ndef visualize_agnostic(agnostic_tensor):\\n    \\\"\\\"\\\"\\n    Visualizes the components of the cloth-agnostic representation.\\n\\n    Args:\\n        agnostic_tensor (torch.Tensor): The output tensor from preprocess_image,\\n                                        expected shape (C_total, H, W).\\n                                        C_total = 1 (shape) + 3 (im_h) + N (pose_map channels)\\n    \\\"\\\"\\\"\\n    if not isinstance(agnostic_tensor, torch.Tensor):\\n        raise TypeError(\\\"Input 'agnostic_tensor' must be a PyTorch Tensor.\\\")\\n    if agnostic_tensor.ndim != 3:\\n        raise ValueError(f\\\"Input 'agnostic_tensor' must be 3-dimensional (C, H, W), \\\"\\n                         f\\\"but got {agnostic_tensor.ndim} dimensions.\\\")\\n\\n    total_channels = agnostic_tensor.shape[0]\\n    H, W = agnostic_tensor.shape[1], agnostic_tensor.shape[2]\\n\\n    # --- Extract Components ---\\n    # Assuming the concatenation order was [shape, im_h, pose_map]\\n    \\n    # 1. Shape: The first channel (1 channel)\\n    shape_tensor = agnostic_tensor[0:1, :, :] # Keep as (1, H, W)\\n\\n    # 2. im_h: The next 3 channels (for RGB image)\\n    im_h_tensor = agnostic_tensor[1:4, :, :] # (3, H, W)\\n    \\n    # 3. Pose Map: The remaining channels (N channels)\\n    pose_map_tensor = agnostic_tensor[4:, :, :] # (N, H, W)\\n    \\n    # --- Prepare for Visualization ---\\n    # Convert PyTorch tensors to NumPy arrays and adjust range/dimensions for Matplotlib\\n\\n    # im_h: Scale from [-1, 1] to [0, 1] and permute (C, H, W) to (H, W, C)\\n    im_h_np = im_h_tensor.permute(1, 2, 0).cpu().numpy() # (H, W, C)\\n    im_h_np = (im_h_np * 0.5) + 0.5 # Scale to [0, 1]\\n\\n    # shape: Scale from [-1, 1] to [0, 1] and remove channel dim (1, H, W) to (H, W)\\n    shape_np = shape_tensor.squeeze(0).cpu().numpy() # (H, W)\\n    shape_np = (shape_np * 0.5) + 0.5 # Scale to [0, 1]\\n\\n    # Aggregated Pose Map: Sum all individual pose maps if any, scale to [0, 1]\\n    # This shows where keypoints are located overall\\n    if pose_map_tensor.shape[0] \u003e 0:\\n        agg_pose_map_np = pose_map_tensor.sum(dim=0).cpu().numpy() # Sum along channel dim (H, W)\\n        # Normalize aggregated map to [0, 1] if max value can exceed 1 (due to overlaps)\\n        if agg_pose_map_np.max() \u003e 0:\\n            agg_pose_map_np = agg_pose_map_np / agg_pose_map_np.max()\\n    else:\\n        agg_pose_map_np = np.zeros((H, W), dtype=np.float32) # Empty map if no keypoints\\n\\n    # --- Plotting ---\\n    plt.figure(figsize=(15, 5)) # Adjust figure size as needed\\n\\n    # Plot im_h\\n    plt.subplot(1, 3, 1)\\n    plt.imshow(im_h_np)\\n    plt.title('Person Image (im_h)')\\n    plt.axis('off') # Hide axes ticks\\n\\n    # Plot shape\\n    plt.subplot(1, 3, 2)\\n    plt.imshow(shape_np, cmap='gray') # 'gray' colormap for grayscale images\\n    plt.title('Shape')\\n    plt.axis('off')\\n\\n    # Plot Aggregated Pose Map\\n    plt.subplot(1, 3, 3)\\n    plt.imshow(agg_pose_map_np, cmap='hot') # 'hot' or 'jet' colormap can show density\\n    plt.title(f'Aggregated Pose Map ({pose_map_tensor.shape[0]} points)')\\n    plt.axis('off')\\n\\n    plt.tight_layout() # Adjust subplot parameters for a tight layout\\n    plt.show() # Display the plot\",\"metadata\":{\"trusted\":true,\"execution\":{\"iopub.status.busy\":\"2025-07-19T18:20:29.250120Z\",\"iopub.execute_input\":\"2025-07-19T18:20:29.250395Z\",\"iopub.status.idle\":\"2025-07-19T18:20:29.259894Z\",\"shell.execute_reply.started\":\"2025-07-19T18:20:29.250374Z\",\"shell.execute_reply\":\"2025-07-19T18:20:29.258855Z\"}},\"outputs\":[],\"execution_count\":4},{\"cell_type\":\"code\",\"source\":\"visualize_agnostic(agnostic)\",\"metadata\":{\"trusted\":true,\"execution\":{\"iopub.status.busy\":\"2025-07-19T18:20:58.546932Z\",\"iopub.execute_input\":\"2025-07-19T18:20:58.547758Z\",\"iopub.status.idle\":\"2025-07-19T18:20:59.057439Z\",\"shell.execute_reply.started\":\"2025-07-19T18:20:58.547707Z\",\"shell.execute_reply\":\"2025-07-19T18:20:59.056416Z\"}},\"outputs\":[{\"output_type\":\"display_data\",\"data\":{\"text/plain\":\"\u003cFigure size 1500x500 with 3 Axes\u003e\",\"image/png\":\"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\\n\"},\"metadata\":{}}],\"execution_count\":6}]}"],"stylingDirectives":null,"colorizedLines":null,"csv":null,"csvError":null,"dependabotInfo":{"showConfigurationBanner":false,"configFilePath":null,"networkDependabotPath":"/DeveloperAkansh26/Fashion_Recommendation_And_VITON/network/updates","dismissConfigurationNoticePath":"/settings/dismiss-notice/dependabot_configuration_notice","configurationNoticeDismissed":false},"displayName":"cloth-agnostic-view.ipynb","displayUrl":"https://notebooks.githubusercontent.com/view/ipynb?browser=safari\u0026bypass_fastly=true\u0026color_mode=auto\u0026commit=fc9cd6c080879559af3d60dbfe7f2972b348a9b2\u0026device=unknown_device\u0026docs_host=https%3A%2F%2Fdocs.github.com\u0026enc_url=68747470733a2f2f7261772e67697468756275736572636f6e74656e742e636f6d2f446576656c6f706572416b616e736832362f46617368696f6e5f5265636f6d6d656e646174696f6e5f416e645f5649544f4e2f666339636436633038303837393535396166336436306462666537663239373262333438613962322f636c6f74682d61676e6f737469632d766965772e6970796e62\u0026logged_in=true\u0026nwo=DeveloperAkansh26%2FFashion_Recommendation_And_VITON\u0026path=cloth-agnostic-view.ipynb\u0026platform=mac\u0026repository_id=1022673421\u0026repository_type=Repository\u0026version=18","headerInfo":{"blobSize":"81.7 KB","deleteTooltip":"Delete this file","editTooltip":"Edit this file","ghDesktopPath":"https://desktop.github.com","isGitLfs":false,"onBranch":true,"shortPath":"5eda4c8","siteNavLoginPath":"/login?return_to=https%3A%2F%2Fgithub.com%2FDeveloperAkansh26%2FFashion_Recommendation_And_VITON%2Fblob%2Fmain%2Fcloth-agnostic-view.ipynb","isCSV":false,"isRichtext":false,"toc":null,"lineInfo":{"truncatedLoc":"1","truncatedSloc":"1"},"mode":"file"},"image":false,"isCodeownersFile":null,"isPlain":false,"isValidLegacyIssueTemplate":false,"issueTemplate":null,"discussionTemplate":null,"language":"Jupyter Notebook","languageID":185,"large":false,"planSupportInfo":{"repoIsFork":null,"repoOwnedByCurrentUser":null,"requestFullPath":"/DeveloperAkansh26/Fashion_Recommendation_And_VITON/blob/main/cloth-agnostic-view.ipynb","showFreeOrgGatedFeatureMessage":null,"showPlanSupportBanner":null,"upgradeDataAttributes":null,"upgradePath":null},"publishBannersInfo":{"dismissActionNoticePath":"/settings/dismiss-notice/publish_action_from_dockerfile","releasePath":"/DeveloperAkansh26/Fashion_Recommendation_And_VITON/releases/new?marketplace=true","showPublishActionBanner":false},"rawBlobUrl":"https://github.com/DeveloperAkansh26/Fashion_Recommendation_And_VITON/raw/refs/heads/main/cloth-agnostic-view.ipynb","renderImageOrRaw":false,"richText":null,"renderedFileInfo":{"identityUUID":"bc124518-982d-4294-b649-aecb6a310820","renderFileType":"ipynb","size":83679},"shortPath":null,"symbolsEnabled":true,"tabSize":8,"topBannersInfo":{"overridingGlobalFundingFile":false,"globalPreferredFundingPath":null,"showInvalidCitationWarning":false,"citationHelpUrl":"https://docs.github.com/github/creating-cloning-and-archiving-repositories/creating-a-repository-on-github/about-citation-files","actionsOnboardingTip":null},"truncated":false,"viewable":true,"workflowRedirectUrl":null,"symbols":{"timed_out":false,"not_analyzed":true,"symbols":[]}},"copilotInfo":null,"copilotAccessAllowed":true,"modelsAccessAllowed":false,"modelsRepoIntegrationEnabled":false,"isMarketplaceEnabled":true,"csrf_tokens":{"/DeveloperAkansh26/Fashion_Recommendation_And_VITON/branches":{"post":"BowNxfIN6kp5jmFfYz3REbSosQ7RuG-0mhi_Uu8oG7-R_KZXAQxPZha9SUR-obr-POTnGvvdIMgh-7W4lX0TaA"},"/repos/preferences":{"post":"j3FQFXTUjRccWp8cnUKyd_kjwNnQcLUD8_P7ecx3_vK-F2ZwbocPlc57eCI6H9W40-I5DEdHiY8VwmWh-qmrpg"}}},"title":"Fashion_Recommendation_And_VITON/cloth-agnostic-view.ipynb at main · DeveloperAkansh26/Fashion_Recommendation_And_VITON","appPayload":{"helpUrl":"https://docs.github.com","findFileWorkerPath":"/assets-cdn/worker/find-file-worker-263cab1760dd.js","findInFileWorkerPath":"/assets-cdn/worker/find-in-file-worker-0b6f8702959e.js","githubDevUrl":"https://github.dev/","enabled_features":{"code_nav_ui_events":false,"react_blob_overlay":true,"accessible_code_button":true}}}</script>
  <div data-target="react-app.reactRoot"><style data-styled="true" data-styled-version="5.3.11">.gISSDQ{width:100%;}/*!sc*/
@media screen and (min-width:544px){.gISSDQ{width:100%;}}/*!sc*/
@media screen and (min-width:768px){.gISSDQ{width:auto;}}/*!sc*/
.fFMzrG{position:absolute;inset:0 -2px;cursor:col-resize;background-color:transparent;-webkit-transition-delay:0.1s;transition-delay:0.1s;}/*!sc*/
.fFMzrG:hover{background-color:var(--bgColor-neutral-muted,var(--color-neutral-muted,rgba(110,118,129,0.4)));}/*!sc*/
.leYMvG{margin-left:auto;margin-right:auto;-webkit-flex-direction:column;-ms-flex-direction:column;flex-direction:column;padding-bottom:40px;max-width:100%;margin-top:0;}/*!sc*/
.KMPzq{display:inherit;}/*!sc*/
.hKaEJF{display:block;margin-right:8px;}/*!sc*/
@media screen and (min-width:1360px){.hKaEJF{display:block;}}/*!sc*/
.cEytCf{display:-webkit-box;display:-webkit-flex;display:-ms-flexbox;display:flex;-webkit-flex-direction:row;-ms-flex-direction:row;flex-direction:row;font-size:16px;min-width:0;-webkit-flex-shrink:1;-ms-flex-negative:1;flex-shrink:1;-webkit-flex-wrap:wrap;-ms-flex-wrap:wrap;flex-wrap:wrap;max-width:100%;-webkit-align-items:center;-webkit-box-align:center;-ms-flex-align:center;align-items:center;}/*!sc*/
.fzFXnm{max-width:100%;}/*!sc*/
.iMnkmv{max-width:100%;list-style:none;display:inline-block;}/*!sc*/
.ghzDag{display:inline-block;max-width:100%;}/*!sc*/
.kHuKdh{font-weight:600;}/*!sc*/
.hXyrdx{padding-left:4px;padding-right:4px;font-weight:400;color:var(--fgColor-muted,var(--color-fg-muted,#848d97));font-size:16px;}/*!sc*/
.jGhzSQ{font-weight:600;display:inline-block;max-width:100%;font-size:16px;}/*!sc*/
.fjrFuv[data-size="medium"][data-no-visuals]{display:none;}/*!sc*/
.gUkoLg{-webkit-box-pack:center;-webkit-justify-content:center;-ms-flex-pack:center;justify-content:center;}/*!sc*/
.dJxjrT{margin-left:16px;margin-right:16px;}/*!sc*/
.ldRxiI{display:-webkit-box;display:-webkit-flex;display:-ms-flexbox;display:flex;-webkit-flex-direction:row;-ms-flex-direction:row;flex-direction:row;}/*!sc*/
.fVkfyA{width:100%;height:-webkit-fit-content;height:-moz-fit-content;height:fit-content;min-width:0;margin-right:0;}/*!sc*/
.gNAmSV{height:40px;padding-left:4px;padding-bottom:16px;}/*!sc*/
.jdLMhu{top:0px;z-index:4;background:var(--bgColor-default,var(--color-canvas-default));position:-webkit-sticky;position:sticky;}/*!sc*/
.hqwSEx{display:none;min-width:0;padding-top:8px;padding-bottom:8px;}/*!sc*/
.fHind{display:-webkit-box;display:-webkit-flex;display:-ms-flexbox;display:flex;-webkit-flex-direction:row;-ms-flex-direction:row;flex-direction:row;font-size:14px;min-width:0;-webkit-flex-shrink:1;-ms-flex-negative:1;flex-shrink:1;-webkit-flex-wrap:wrap;-ms-flex-wrap:wrap;flex-wrap:wrap;max-width:100%;-webkit-align-items:center;-webkit-box-align:center;-ms-flex-align:center;align-items:center;}/*!sc*/
.bQeXnn{padding-left:4px;padding-right:4px;font-weight:400;color:var(--fgColor-muted,var(--color-fg-muted,#848d97));font-size:14px;}/*!sc*/
.dnZoUW{font-weight:600;display:inline-block;max-width:100%;font-size:14px;}/*!sc*/
.gFKFyc{border-radius:6px 6px 0px 0px;}/*!sc*/
.lefpaC linkButtonSx:hover:not([disabled]){-webkit-text-decoration:none;text-decoration:none;}/*!sc*/
.lefpaC linkButtonSx:focus:not([disabled]){-webkit-text-decoration:none;text-decoration:none;}/*!sc*/
.lefpaC linkButtonSx:active:not([disabled]){-webkit-text-decoration:none;text-decoration:none;}/*!sc*/
.ivobqY[data-size="small"][data-no-visuals]{border-top-left-radius:0;border-bottom-left-radius:0;}/*!sc*/
.iCOsHh[data-size="small"][data-no-visuals]:hover:not([disabled]){-webkit-text-decoration:none;text-decoration:none;}/*!sc*/
.iCOsHh[data-size="small"][data-no-visuals]:focus:not([disabled]){-webkit-text-decoration:none;text-decoration:none;}/*!sc*/
.iCOsHh[data-size="small"][data-no-visuals]:active:not([disabled]){-webkit-text-decoration:none;text-decoration:none;}/*!sc*/
.hycJXc{border:1px solid;border-top:none;border-color:var(--borderColor-default,var(--color-border-default,#30363d));border-radius:0px 0px 6px 6px;min-width:273px;}/*!sc*/
.iWAocR{background-color:var(--bgColor-default,var(--color-canvas-default));border:0px;border-width:0;border-radius:0px 0px 6px 6px;padding:0;min-width:0;margin-top:46px;overflow:auto;}/*!sc*/
.cCoXib{position:fixed;top:0;right:0;height:100%;width:15px;-webkit-transition:-webkit-transform 0.3s;-webkit-transition:transform 0.3s;transition:transform 0.3s;z-index:1;}/*!sc*/
.cCoXib:hover{-webkit-transform:scaleX(1.5);-ms-transform:scaleX(1.5);transform:scaleX(1.5);}/*!sc*/
.fgsa-DI{display:-webkit-box;display:-webkit-flex;display:-ms-flexbox;display:flex;-webkit-flex-direction:column;-ms-flex-direction:column;flex-direction:column;-webkit-align-items:center;-webkit-box-align:center;-ms-flex-align:center;align-items:center;padding-top:16px;padding-bottom:16px;}/*!sc*/
data-styled.g1[id="Box-sc-g0xbh4-0"]{content:"gISSDQ,fFMzrG,leYMvG,KMPzq,hKaEJF,cEytCf,fzFXnm,iMnkmv,ghzDag,kHuKdh,hXyrdx,jGhzSQ,fjrFuv,gUkoLg,dJxjrT,ldRxiI,fVkfyA,gNAmSV,jdLMhu,hqwSEx,fHind,bQeXnn,dnZoUW,gFKFyc,lefpaC,ivobqY,iCOsHh,hycJXc,iWAocR,cCoXib,fgsa-DI,"}/*!sc*/
.fiSvBN{position:relative;display:inline-block;}/*!sc*/
.fiSvBN::after{position:absolute;z-index:1000000;display:none;padding:0.5em 0.75em;font:normal normal 11px/1.5 -apple-system,BlinkMacSystemFont,"Segoe UI","Noto Sans",Helvetica,Arial,sans-serif,"Apple Color Emoji","Segoe UI Emoji";-webkit-font-smoothing:subpixel-antialiased;color:var(--tooltip-fgColor,var(--fgColor-onEmphasis,var(--color-fg-on-emphasis,#ffffff)));text-align:center;-webkit-text-decoration:none;text-decoration:none;text-shadow:none;text-transform:none;-webkit-letter-spacing:normal;-moz-letter-spacing:normal;-ms-letter-spacing:normal;letter-spacing:normal;word-wrap:break-word;white-space:pre;pointer-events:none;content:attr(aria-label);background:var(--tooltip-bgColor,var(--bgColor-emphasis,var(--color-neutral-emphasis-plus,#6e7681)));border-radius:6px;opacity:0;}/*!sc*/
@-webkit-keyframes tooltip-appear{from{opacity:0;}to{opacity:1;}}/*!sc*/
@keyframes tooltip-appear{from{opacity:0;}to{opacity:1;}}/*!sc*/
.fiSvBN:hover::after,.fiSvBN:active::after,.fiSvBN:focus::after,.fiSvBN:focus-within::after{display:inline-block;-webkit-text-decoration:none;text-decoration:none;-webkit-animation-name:tooltip-appear;animation-name:tooltip-appear;-webkit-animation-duration:0.1s;animation-duration:0.1s;-webkit-animation-fill-mode:forwards;animation-fill-mode:forwards;-webkit-animation-timing-function:ease-in;animation-timing-function:ease-in;-webkit-animation-delay:0s;animation-delay:0s;}/*!sc*/
.fiSvBN.tooltipped-no-delay:hover::after,.fiSvBN.tooltipped-no-delay:active::after,.fiSvBN.tooltipped-no-delay:focus::after,.fiSvBN.tooltipped-no-delay:focus-within::after{-webkit-animation-delay:0s;animation-delay:0s;}/*!sc*/
.fiSvBN.tooltipped-multiline:hover::after,.fiSvBN.tooltipped-multiline:active::after,.fiSvBN.tooltipped-multiline:focus::after,.fiSvBN.tooltipped-multiline:focus-within::after{display:table-cell;}/*!sc*/
.fiSvBN.tooltipped-s::after,.fiSvBN.tooltipped-se::after,.fiSvBN.tooltipped-sw::after{top:100%;right:50%;margin-top:6px;}/*!sc*/
.fiSvBN.tooltipped-se::after{right:auto;left:50%;margin-left:-16px;}/*!sc*/
.fiSvBN.tooltipped-sw::after{margin-right:-16px;}/*!sc*/
.fiSvBN.tooltipped-n::after,.fiSvBN.tooltipped-ne::after,.fiSvBN.tooltipped-nw::after{right:50%;bottom:100%;margin-bottom:6px;}/*!sc*/
.fiSvBN.tooltipped-ne::after{right:auto;left:50%;margin-left:-16px;}/*!sc*/
.fiSvBN.tooltipped-nw::after{margin-right:-16px;}/*!sc*/
.fiSvBN.tooltipped-s::after,.fiSvBN.tooltipped-n::after{-webkit-transform:translateX(50%);-ms-transform:translateX(50%);transform:translateX(50%);}/*!sc*/
.fiSvBN.tooltipped-w::after{right:100%;bottom:50%;margin-right:6px;-webkit-transform:translateY(50%);-ms-transform:translateY(50%);transform:translateY(50%);}/*!sc*/
.fiSvBN.tooltipped-e::after{bottom:50%;left:100%;margin-left:6px;-webkit-transform:translateY(50%);-ms-transform:translateY(50%);transform:translateY(50%);}/*!sc*/
.fiSvBN.tooltipped-multiline::after{width:-webkit-max-content;width:-moz-max-content;width:max-content;max-width:250px;word-wrap:break-word;white-space:pre-line;border-collapse:separate;}/*!sc*/
.fiSvBN.tooltipped-multiline.tooltipped-s::after,.fiSvBN.tooltipped-multiline.tooltipped-n::after{right:auto;left:50%;-webkit-transform:translateX(-50%);-ms-transform:translateX(-50%);transform:translateX(-50%);}/*!sc*/
.fiSvBN.tooltipped-multiline.tooltipped-w::after,.fiSvBN.tooltipped-multiline.tooltipped-e::after{right:100%;}/*!sc*/
.fiSvBN.tooltipped-align-right-2::after{right:0;margin-right:0;}/*!sc*/
.fiSvBN.tooltipped-align-left-2::after{left:0;margin-left:0;}/*!sc*/
data-styled.g4[id="Tooltip__TooltipBase-sc-17tf59c-0"]{content:"fiSvBN,"}/*!sc*/
</style><meta data-hydrostats="publish"/> <!-- --> <!-- --> <button hidden="" data-testid="header-permalink-button" data-hotkey-scope="read-only-cursor-text-area"></button><button hidden=""></button><div><div style="--spacing:var(--spacing-none)" class="prc-PageLayout-PageLayoutRoot-1zlEO"><div class="prc-PageLayout-PageLayoutWrapper-s2ao4" data-width="full"><div class="prc-PageLayout-PageLayoutContent-jzDMn"><div tabindex="0" class="Box-sc-g0xbh4-0 gISSDQ"><div class="prc-PageLayout-PaneWrapper-nGO0U ReposFileTreePane-module__Pane--wS7IV ReposFileTreePane-module__HideTree--zU_Nd ReposFileTreePane-module__HidePaneWithTreeOverlay--fHI8k" style="--offset-header:0px;--spacing-row:var(--spacing-none);--spacing-column:var(--spacing-none)" data-is-hidden="false" data-position="start" data-sticky="true"><div class="prc-PageLayout-HorizontalDivider-CYLp5 prc-PageLayout-PaneHorizontalDivider-4exOb" data-variant="none" data-position="start" style="--spacing-divider:var(--spacing-none);--spacing:var(--spacing-none)"></div><div class="prc-PageLayout-Pane-Vl5LI" data-resizable="true" style="--spacing:var(--spacing-none);--pane-min-width:256px;--pane-max-width:calc(100vw - var(--pane-max-width-diff));--pane-width-size:var(--pane-width-large);--pane-width:320px"></div><div class="prc-PageLayout-VerticalDivider-4A4Qm prc-PageLayout-PaneVerticalDivider-1c9vy" data-variant="none" data-position="start" style="--spacing:var(--spacing-none)"><div role="slider" aria-label="Draggable pane splitter" aria-valuemin="0" aria-valuemax="0" aria-valuenow="0" aria-valuetext="Pane width 0 pixels" tabindex="0" class="Box-sc-g0xbh4-0 fFMzrG"></div></div></div></div><div class="prc-PageLayout-ContentWrapper-b-QRo CodeView-module__SplitPageLayout_Content--qxR1C" data-is-hidden="false"><div class="prc-PageLayout-Content--F7-I" data-width="full" style="--spacing:var(--spacing-none)"><div data-selector="repos-split-pane-content" tabindex="0" class="Box-sc-g0xbh4-0 leYMvG"><div class="Box-sc-g0xbh4-0 KMPzq"><div class="container CodeViewHeader-module__Box--PofRM"><div class="px-3 pt-3 pb-0" id="StickyHeader"><div class="CodeViewHeader-module__Box_1--KpLzV"><div class="CodeViewHeader-module__Box_2--xzDOt"><div class="react-code-view-header-wrap--narrow CodeViewHeader-module__Box_3--WnQ2n"><div class="Box-sc-g0xbh4-0 hKaEJF"><h2 class="use-tree-pane-module__Heading--DlnQ2 prc-Heading-Heading-6CmGO"><button type="button" aria-label="Expand file tree" data-testid="expand-file-tree-button-mobile" class="prc-Button-ButtonBase-c50BI ExpandFileTreeButton-module__Button_1--M2dXF" data-loading="false" data-size="medium" data-variant="invisible" aria-describedby=":R5b9lab:-loading-announcement"><span data-component="buttonContent" data-align="center" class="prc-Button-ButtonContent-HKbr-"><span data-component="leadingVisual" class="prc-Button-Visual-2epfX prc-Button-VisualWrap-Db-eB"><svg aria-hidden="true" focusable="false" class="octicon octicon-arrow-left" viewBox="0 0 16 16" width="16" height="16" fill="currentColor" display="inline-block" overflow="visible" style="vertical-align:text-bottom"><path d="M7.78 12.53a.75.75 0 0 1-1.06 0L2.47 8.28a.75.75 0 0 1 0-1.06l4.25-4.25a.751.751 0 0 1 1.042.018.751.751 0 0 1 .018 1.042L4.81 7h7.44a.75.75 0 0 1 0 1.5H4.81l2.97 2.97a.75.75 0 0 1 0 1.06Z"></path></svg></span><span data-component="text" class="prc-Button-Label-pTQ3x">Files</span></span></button><button data-component="IconButton" type="button" data-testid="expand-file-tree-button" aria-expanded="false" aria-controls="repos-file-tree" class="prc-Button-ButtonBase-c50BI position-relative ExpandFileTreeButton-module__expandButton--gL4is ExpandFileTreeButton-module__filesButtonBreakpoint--WfX9t fgColor-muted prc-Button-IconButton-szpyj" data-loading="false" data-no-visuals="true" data-size="medium" data-variant="invisible" aria-describedby=":R1pb9lab:-loading-announcement" aria-labelledby=":R9b9lab:"><svg aria-hidden="true" focusable="false" class="octicon octicon-sidebar-collapse" viewBox="0 0 16 16" width="16" height="16" fill="currentColor" display="inline-block" overflow="visible" style="vertical-align:text-bottom"><path d="M6.823 7.823a.25.25 0 0 1 0 .354l-2.396 2.396A.25.25 0 0 1 4 10.396V5.604a.25.25 0 0 1 .427-.177Z"></path><path d="M1.75 0h12.5C15.216 0 16 .784 16 1.75v12.5A1.75 1.75 0 0 1 14.25 16H1.75A1.75 1.75 0 0 1 0 14.25V1.75C0 .784.784 0 1.75 0ZM1.5 1.75v12.5c0 .138.112.25.25.25H9.5v-13H1.75a.25.25 0 0 0-.25.25ZM11 14.5h3.25a.25.25 0 0 0 .25-.25V1.75a.25.25 0 0 0-.25-.25H11Z"></path></svg></button><span class="prc-TooltipV2-Tooltip-cYMVY" data-direction="se" aria-hidden="true" id=":R9b9lab:">Expand file tree</span><button hidden="" data-testid="" data-hotkey-scope="read-only-cursor-text-area"></button></h2></div><div class="react-code-view-header-mb--narrow mr-2"><button type="button" aria-haspopup="true" aria-expanded="false" tabindex="0" aria-label="main branch" data-testid="anchor-button" class="prc-Button-ButtonBase-c50BI ref-selector-class RefSelectorAnchoredOverlay-module__RefSelectorOverlayBtn--VlL0G" data-loading="false" data-size="medium" data-variant="default" aria-describedby="branch-picker-repos-header-ref-selector-wide-loading-announcement" id="branch-picker-repos-header-ref-selector-wide"><span data-component="buttonContent" data-align="center" class="prc-Button-ButtonContent-HKbr-"><span data-component="text" class="prc-Button-Label-pTQ3x"><div class="RefSelectorAnchoredOverlay-module__RefSelectorOverlayContainer--zopKZ"><div class="RefSelectorAnchoredOverlay-module__RefSelectorOverlayHeader--j083h"><svg aria-hidden="true" focusable="false" class="octicon octicon-git-branch" viewBox="0 0 16 16" width="16" height="16" fill="currentColor" display="inline-block" overflow="visible" style="vertical-align:text-bottom"><path d="M9.5 3.25a2.25 2.25 0 1 1 3 2.122V6A2.5 2.5 0 0 1 10 8.5H6a1 1 0 0 0-1 1v1.128a2.251 2.251 0 1 1-1.5 0V5.372a2.25 2.25 0 1 1 1.5 0v1.836A2.493 2.493 0 0 1 6 7h4a1 1 0 0 0 1-1v-.628A2.25 2.25 0 0 1 9.5 3.25Zm-6 0a.75.75 0 1 0 1.5 0 .75.75 0 0 0-1.5 0Zm8.25-.75a.75.75 0 1 0 0 1.5.75.75 0 0 0 0-1.5ZM4.25 12a.75.75 0 1 0 0 1.5.75.75 0 0 0 0-1.5Z"></path></svg></div><div style="max-width:125px" class="ref-selector-button-text-container RefSelectorAnchoredOverlay-module__RefSelectorBtnTextContainer--k6jL0"><span class="RefSelectorAnchoredOverlay-module__RefSelectorText--A0p63"> <!-- -->main</span></div></div></span><span data-component="trailingVisual" class="prc-Button-Visual-2epfX prc-Button-VisualWrap-Db-eB"><svg aria-hidden="true" focusable="false" class="octicon octicon-triangle-down" viewBox="0 0 16 16" width="16" height="16" fill="currentColor" display="inline-block" overflow="visible" style="vertical-align:text-bottom"><path d="m4.427 7.427 3.396 3.396a.25.25 0 0 0 .354 0l3.396-3.396A.25.25 0 0 0 11.396 7H4.604a.25.25 0 0 0-.177.427Z"></path></svg></span></span></button><button hidden="" data-hotkey-scope="read-only-cursor-text-area"></button></div><div class="react-code-view-header-mb--narrow CodeViewHeader-module__Box_5--KeXxF"><div class="Box-sc-g0xbh4-0 cEytCf"><nav data-testid="breadcrumbs" aria-labelledby="repos-header-breadcrumb-heading" id="repos-header-breadcrumb" class="Box-sc-g0xbh4-0 fzFXnm"><h2 class="sr-only ScreenReaderHeading-module__userSelectNone--vW4Cq prc-Heading-Heading-6CmGO" data-testid="screen-reader-heading" id="repos-header-breadcrumb-heading">Breadcrumbs</h2><ol class="Box-sc-g0xbh4-0 iMnkmv"><li class="Box-sc-g0xbh4-0 ghzDag"><a class="Box-sc-g0xbh4-0 kHuKdh prc-Link-Link-85e08" sx="[object Object]" data-testid="breadcrumbs-repo-link" href="/DeveloperAkansh26/Fashion_Recommendation_And_VITON/tree/main" data-discover="true">Fashion_Recommendation_And_VITON</a></li></ol></nav><div data-testid="breadcrumbs-filename" class="Box-sc-g0xbh4-0 ghzDag"><span class="Box-sc-g0xbh4-0 hXyrdx prc-Text-Text-0ima0" aria-hidden="true">/</span><h1 class="Box-sc-g0xbh4-0 jGhzSQ prc-Heading-Heading-6CmGO" tabindex="-1" id="file-name-id">cloth-agnostic-view.ipynb</h1></div><button data-component="IconButton" type="button" class="prc-Button-ButtonBase-c50BI ml-2 prc-Button-IconButton-szpyj" data-loading="false" data-no-visuals="true" data-size="small" data-variant="invisible" aria-describedby=":R3vb9lab:-loading-announcement" aria-labelledby=":Rfb9lab:"><svg aria-hidden="true" focusable="false" class="octicon octicon-copy" viewBox="0 0 16 16" width="16" height="16" fill="currentColor" display="inline-block" overflow="visible" style="vertical-align:text-bottom"><path d="M0 6.75C0 5.784.784 5 1.75 5h1.5a.75.75 0 0 1 0 1.5h-1.5a.25.25 0 0 0-.25.25v7.5c0 .138.112.25.25.25h7.5a.25.25 0 0 0 .25-.25v-1.5a.75.75 0 0 1 1.5 0v1.5A1.75 1.75 0 0 1 9.25 16h-7.5A1.75 1.75 0 0 1 0 14.25Z"></path><path d="M5 1.75C5 .784 5.784 0 6.75 0h7.5C15.216 0 16 .784 16 1.75v7.5A1.75 1.75 0 0 1 14.25 11h-7.5A1.75 1.75 0 0 1 5 9.25Zm1.75-.25a.25.25 0 0 0-.25.25v7.5c0 .138.112.25.25.25h7.5a.25.25 0 0 0 .25-.25v-7.5a.25.25 0 0 0-.25-.25Z"></path></svg></button><span class="CopyToClipboardButton-module__tooltip--Dq1IB prc-TooltipV2-Tooltip-cYMVY" data-direction="nw" aria-label="Copy path" aria-hidden="true" id=":Rfb9lab:">Copy path</span></div></div></div><div class="react-code-view-header-element--wide"><div class="CodeViewHeader-module__Box_7--FZfkg"><div class="d-flex gap-2"> <div><div class="Box-sc-g0xbh4-0 CodeViewHeader-module__FileResultsList--bglyC FileResultsList-module__Box_1--ZnWjQ"><span class="FileResultsList-module__FilesSearchBox--J5FtW FilesSearchBox-module__TextInput--LKpMn TextInput-wrapper prc-components-TextInputWrapper-i1ofR prc-components-TextInputBaseWrapper-ueK9q" data-leading-visual="true" data-trailing-visual="true" aria-busy="false"><span class="TextInput-icon" id=":R2phj9lab:" aria-hidden="true"><svg aria-hidden="true" focusable="false" class="octicon octicon-search" viewBox="0 0 16 16" width="16" height="16" fill="currentColor" display="inline-block" overflow="visible" style="vertical-align:text-bottom"><path d="M10.68 11.74a6 6 0 0 1-7.922-8.982 6 6 0 0 1 8.982 7.922l3.04 3.04a.749.749 0 0 1-.326 1.275.749.749 0 0 1-.734-.215ZM11.5 7a4.499 4.499 0 1 0-8.997 0A4.499 4.499 0 0 0 11.5 7Z"></path></svg></span><input type="text" aria-label="Go to file" role="combobox" aria-controls="file-results-list" aria-expanded="false" aria-haspopup="dialog" autoCorrect="off" spellcheck="false" placeholder="Go to file" aria-describedby=":R2phj9lab: :R2phj9labH1:" data-component="input" class="prc-components-Input-Ic-y8" value=""/><span class="TextInput-icon" id=":R2phj9labH1:" aria-hidden="true"><div class="FilesSearchBox-module__Box--Ye6rL"><kbd>t</kbd></div></span></span></div><button hidden="" data-testid="" data-hotkey-scope="read-only-cursor-text-area"></button><button hidden=""></button></div><button type="button" class="Box-sc-g0xbh4-0 fjrFuv prc-Button-ButtonBase-c50BI NavigationMenu-module__Button--SJihq" data-loading="false" data-no-visuals="true" data-size="medium" data-variant="default" aria-describedby=":R1ahj9lab:-loading-announcement"><span data-component="buttonContent" class="Box-sc-g0xbh4-0 gUkoLg prc-Button-ButtonContent-HKbr-"><span data-component="text" class="prc-Button-Label-pTQ3x">Blame</span></span></button><button hidden="" data-testid="" data-hotkey-scope="read-only-cursor-text-area"></button><button data-component="IconButton" type="button" data-testid="more-file-actions-button-nav-menu-wide" aria-haspopup="true" aria-expanded="false" tabindex="0" class="prc-Button-ButtonBase-c50BI js-blob-dropdown-click NavigationMenu-module__IconButton--NqJ_L prc-Button-IconButton-szpyj" data-loading="false" data-no-visuals="true" data-size="medium" data-variant="default" aria-describedby=":Rihj9lab:-loading-announcement" aria-labelledby=":Rfihj9lab:" id=":Rihj9lab:"><svg aria-hidden="true" focusable="false" class="octicon octicon-kebab-horizontal" viewBox="0 0 16 16" width="16" height="16" fill="currentColor" display="inline-block" overflow="visible" style="vertical-align:text-bottom"><path d="M8 9a1.5 1.5 0 1 0 0-3 1.5 1.5 0 0 0 0 3ZM1.5 9a1.5 1.5 0 1 0 0-3 1.5 1.5 0 0 0 0 3Zm13 0a1.5 1.5 0 1 0 0-3 1.5 1.5 0 0 0 0 3Z"></path></svg></button><span class="prc-TooltipV2-Tooltip-cYMVY" data-direction="nw" aria-hidden="true" id=":Rfihj9lab:">More file actions</span> </div></div></div><div class="react-code-view-header-element--narrow"><div class="CodeViewHeader-module__Box_7--FZfkg"><div class="d-flex gap-2"> <button type="button" class="Box-sc-g0xbh4-0 fjrFuv prc-Button-ButtonBase-c50BI NavigationMenu-module__Button--SJihq" data-loading="false" data-no-visuals="true" data-size="medium" data-variant="default" aria-describedby=":R1ahr9lab:-loading-announcement"><span data-component="buttonContent" class="Box-sc-g0xbh4-0 gUkoLg prc-Button-ButtonContent-HKbr-"><span data-component="text" class="prc-Button-Label-pTQ3x">Blame</span></span></button><button hidden="" data-testid="" data-hotkey-scope="read-only-cursor-text-area"></button><button data-component="IconButton" type="button" data-testid="more-file-actions-button-nav-menu-narrow" aria-haspopup="true" aria-expanded="false" tabindex="0" class="prc-Button-ButtonBase-c50BI js-blob-dropdown-click NavigationMenu-module__IconButton--NqJ_L prc-Button-IconButton-szpyj" data-loading="false" data-no-visuals="true" data-size="medium" data-variant="default" aria-describedby=":Rihr9lab:-loading-announcement" aria-labelledby=":Rfihr9lab:" id=":Rihr9lab:"><svg aria-hidden="true" focusable="false" class="octicon octicon-kebab-horizontal" viewBox="0 0 16 16" width="16" height="16" fill="currentColor" display="inline-block" overflow="visible" style="vertical-align:text-bottom"><path d="M8 9a1.5 1.5 0 1 0 0-3 1.5 1.5 0 0 0 0 3ZM1.5 9a1.5 1.5 0 1 0 0-3 1.5 1.5 0 0 0 0 3Zm13 0a1.5 1.5 0 1 0 0-3 1.5 1.5 0 0 0 0 3Z"></path></svg></button><span class="prc-TooltipV2-Tooltip-cYMVY" data-direction="nw" aria-hidden="true" id=":Rfihr9lab:">More file actions</span> </div></div></div></div></div></div></div></div><div class="Box-sc-g0xbh4-0 dJxjrT react-code-view-bottom-padding"> <div class="BlobTopBanners-module__Box--g_bGk"></div> <!-- --> <!-- --> </div><div class="Box-sc-g0xbh4-0 dJxjrT"> <!-- --> <!-- --> <div class="d-flex flex-column border rounded-2 mb-3 pl-1"><div class="LatestCommit-module__Box--En0AE"><h2 class="sr-only ScreenReaderHeading-module__userSelectNone--vW4Cq prc-Heading-Heading-6CmGO" data-testid="screen-reader-heading">Latest commit</h2><div style="width:120px" class="Skeleton Skeleton--text" data-testid="loading"> </div><div class="d-flex flex-shrink-0 gap-2"><div data-testid="latest-commit-details" class="d-none d-sm-flex flex-items-center"></div><div class="d-flex gap-2"><h2 class="sr-only ScreenReaderHeading-module__userSelectNone--vW4Cq prc-Heading-Heading-6CmGO" data-testid="screen-reader-heading">History</h2><a href="/DeveloperAkansh26/Fashion_Recommendation_And_VITON/commits/main/cloth-agnostic-view.ipynb" class="prc-Button-ButtonBase-c50BI d-none d-lg-flex LinkButton-module__code-view-link-button--xvCGA flex-items-center fgColor-default" data-loading="false" data-size="small" data-variant="invisible" aria-describedby=":R1bdal9lab:-loading-announcement"><span data-component="buttonContent" data-align="center" class="prc-Button-ButtonContent-HKbr-"><span data-component="leadingVisual" class="prc-Button-Visual-2epfX prc-Button-VisualWrap-Db-eB"><svg aria-hidden="true" focusable="false" class="octicon octicon-history" viewBox="0 0 16 16" width="16" height="16" fill="currentColor" display="inline-block" overflow="visible" style="vertical-align:text-bottom"><path d="m.427 1.927 1.215 1.215a8.002 8.002 0 1 1-1.6 5.685.75.75 0 1 1 1.493-.154 6.5 6.5 0 1 0 1.18-4.458l1.358 1.358A.25.25 0 0 1 3.896 6H.25A.25.25 0 0 1 0 5.75V2.104a.25.25 0 0 1 .427-.177ZM7.75 4a.75.75 0 0 1 .75.75v2.992l2.028.812a.75.75 0 0 1-.557 1.392l-2.5-1A.751.751 0 0 1 7 8.25v-3.5A.75.75 0 0 1 7.75 4Z"></path></svg></span><span data-component="text" class="prc-Button-Label-pTQ3x"><span class="fgColor-default">History</span></span></span></a><div class="d-sm-none"></div><div class="d-flex d-lg-none"><span role="tooltip" aria-label="History" id="history-icon-button-tooltip" class="Tooltip__TooltipBase-sc-17tf59c-0 fiSvBN tooltipped-n"><a aria-label="View commit history for this file." href="/DeveloperAkansh26/Fashion_Recommendation_And_VITON/commits/main/cloth-agnostic-view.ipynb" class="prc-Button-ButtonBase-c50BI LinkButton-module__code-view-link-button--xvCGA flex-items-center fgColor-default" data-loading="false" data-size="small" data-variant="invisible" aria-describedby=":R6bdal9lab:-loading-announcement history-icon-button-tooltip"><span data-component="buttonContent" data-align="center" class="prc-Button-ButtonContent-HKbr-"><span data-component="leadingVisual" class="prc-Button-Visual-2epfX prc-Button-VisualWrap-Db-eB"><svg aria-hidden="true" focusable="false" class="octicon octicon-history" viewBox="0 0 16 16" width="16" height="16" fill="currentColor" display="inline-block" overflow="visible" style="vertical-align:text-bottom"><path d="m.427 1.927 1.215 1.215a8.002 8.002 0 1 1-1.6 5.685.75.75 0 1 1 1.493-.154 6.5 6.5 0 1 0 1.18-4.458l1.358 1.358A.25.25 0 0 1 3.896 6H.25A.25.25 0 0 1 0 5.75V2.104a.25.25 0 0 1 .427-.177ZM7.75 4a.75.75 0 0 1 .75.75v2.992l2.028.812a.75.75 0 0 1-.557 1.392l-2.5-1A.751.751 0 0 1 7 8.25v-3.5A.75.75 0 0 1 7.75 4Z"></path></svg></span></span></a></span></div></div></div></div></div><div class="Box-sc-g0xbh4-0 ldRxiI"><div class="Box-sc-g0xbh4-0 fVkfyA container"><div class="Box-sc-g0xbh4-0 gNAmSV react-code-size-details-banner"><div class="react-code-size-details-banner CodeSizeDetails-module__Box--QdxnQ"><div class="text-mono CodeSizeDetails-module__Box_1--_uFDs"><div data-testid="blob-size" class="CodeSizeDetails-module__Truncate_1--er0Uk prc-Truncate-Truncate-A9Wn6" data-inline="true" title="81.7 KB" style="--truncate-max-width:100%"><span>1 lines (1 loc) · 81.7 KB</span></div></div></div></div><div class="Box-sc-g0xbh4-0 jdLMhu react-blob-view-header-sticky" id="repos-sticky-header"><div class="BlobViewHeader-module__Box--pvsIA"><div class="react-blob-sticky-header"><div class="Box-sc-g0xbh4-0 hqwSEx"><div class="FileNameStickyHeader-module__Box_1--HSpOJ"><div class="FileNameStickyHeader-module__Box_2--_pDx6"><div class="FileNameStickyHeader-module__Box_3--AsYoJ"><button type="button" aria-haspopup="true" aria-expanded="false" tabindex="0" aria-label="main branch" data-testid="anchor-button" class="prc-Button-ButtonBase-c50BI ref-selector-class RefSelectorAnchoredOverlay-module__RefSelectorOverlayBtn--VlL0G" data-loading="false" data-size="medium" data-variant="default" aria-describedby="branch-picker-repos-header-ref-selector-loading-announcement" id="branch-picker-repos-header-ref-selector"><span data-component="buttonContent" data-align="center" class="prc-Button-ButtonContent-HKbr-"><span data-component="text" class="prc-Button-Label-pTQ3x"><div class="RefSelectorAnchoredOverlay-module__RefSelectorOverlayContainer--zopKZ"><div class="RefSelectorAnchoredOverlay-module__RefSelectorOverlayHeader--j083h"><svg aria-hidden="true" focusable="false" class="octicon octicon-git-branch" viewBox="0 0 16 16" width="16" height="16" fill="currentColor" display="inline-block" overflow="visible" style="vertical-align:text-bottom"><path d="M9.5 3.25a2.25 2.25 0 1 1 3 2.122V6A2.5 2.5 0 0 1 10 8.5H6a1 1 0 0 0-1 1v1.128a2.251 2.251 0 1 1-1.5 0V5.372a2.25 2.25 0 1 1 1.5 0v1.836A2.493 2.493 0 0 1 6 7h4a1 1 0 0 0 1-1v-.628A2.25 2.25 0 0 1 9.5 3.25Zm-6 0a.75.75 0 1 0 1.5 0 .75.75 0 0 0-1.5 0Zm8.25-.75a.75.75 0 1 0 0 1.5.75.75 0 0 0 0-1.5ZM4.25 12a.75.75 0 1 0 0 1.5.75.75 0 0 0 0-1.5Z"></path></svg></div><div style="max-width:125px" class="ref-selector-button-text-container RefSelectorAnchoredOverlay-module__RefSelectorBtnTextContainer--k6jL0"><span class="RefSelectorAnchoredOverlay-module__RefSelectorText--A0p63"> <!-- -->main</span></div></div></span><span data-component="trailingVisual" class="prc-Button-Visual-2epfX prc-Button-VisualWrap-Db-eB"><svg aria-hidden="true" focusable="false" class="octicon octicon-triangle-down" viewBox="0 0 16 16" width="16" height="16" fill="currentColor" display="inline-block" overflow="visible" style="vertical-align:text-bottom"><path d="m4.427 7.427 3.396 3.396a.25.25 0 0 0 .354 0l3.396-3.396A.25.25 0 0 0 11.396 7H4.604a.25.25 0 0 0-.177.427Z"></path></svg></span></span></button><button hidden="" data-hotkey-scope="read-only-cursor-text-area"></button></div><div class="FileNameStickyHeader-module__Box_4--IyPx8"><div class="Box-sc-g0xbh4-0 fHind"><nav data-testid="breadcrumbs" aria-labelledby="sticky-breadcrumb-heading" id="sticky-breadcrumb" class="Box-sc-g0xbh4-0 fzFXnm"><h2 class="sr-only ScreenReaderHeading-module__userSelectNone--vW4Cq prc-Heading-Heading-6CmGO" data-testid="screen-reader-heading" id="sticky-breadcrumb-heading">Breadcrumbs</h2><ol class="Box-sc-g0xbh4-0 iMnkmv"><li class="Box-sc-g0xbh4-0 ghzDag"><a class="Box-sc-g0xbh4-0 kHuKdh prc-Link-Link-85e08" sx="[object Object]" data-testid="breadcrumbs-repo-link" href="/DeveloperAkansh26/Fashion_Recommendation_And_VITON/tree/main" data-discover="true">Fashion_Recommendation_And_VITON</a></li></ol></nav><div data-testid="breadcrumbs-filename" class="Box-sc-g0xbh4-0 ghzDag"><span class="Box-sc-g0xbh4-0 bQeXnn prc-Text-Text-0ima0" aria-hidden="true">/</span><h1 class="Box-sc-g0xbh4-0 dnZoUW prc-Heading-Heading-6CmGO" tabindex="-1" id="sticky-file-name-id">cloth-agnostic-view.ipynb</h1></div></div></div></div><button type="button" class="prc-Button-ButtonBase-c50BI FileNameStickyHeader-module__Button--SaiiH FileNameStickyHeader-module__GoToTopButton--9lB4x" data-loading="false" data-size="small" data-variant="invisible" aria-describedby=":R4mfal9lab:-loading-announcement"><span data-component="buttonContent" data-align="center" class="prc-Button-ButtonContent-HKbr-"><span data-component="leadingVisual" class="prc-Button-Visual-2epfX prc-Button-VisualWrap-Db-eB"><svg aria-hidden="true" focusable="false" class="octicon octicon-arrow-up" viewBox="0 0 16 16" width="16" height="16" fill="currentColor" display="inline-block" overflow="visible" style="vertical-align:text-bottom"><path d="M3.47 7.78a.75.75 0 0 1 0-1.06l4.25-4.25a.75.75 0 0 1 1.06 0l4.25 4.25a.751.751 0 0 1-.018 1.042.751.751 0 0 1-1.042.018L9 4.81v7.44a.75.75 0 0 1-1.5 0V4.81L4.53 7.78a.75.75 0 0 1-1.06 0Z"></path></svg></span><span data-component="text" class="prc-Button-Label-pTQ3x">Top</span></span></button></div></div></div><div class="Box-sc-g0xbh4-0 gFKFyc BlobViewHeader-module__Box_1--PPihg"><h2 class="sr-only ScreenReaderHeading-module__userSelectNone--vW4Cq prc-Heading-Heading-6CmGO" data-testid="screen-reader-heading">File metadata and controls</h2><div class="BlobViewHeader-module__Box_2--G_jCG"><ul aria-label="File view" class="prc-SegmentedControl-SegmentedControl-e7570 BlobTabButtons-module__SegmentedControl--JMGov" data-size="small"><li class="prc-SegmentedControl-Item-7Aq6h" data-selected=""><button aria-current="true" class="prc-SegmentedControl-Button-ojWXD" type="button" style="--separator-color:transparent"><span class="prc-SegmentedControl-Content-gnQ4n segmentedControl-content"><div class="prc-SegmentedControl-Text-c5gSh segmentedControl-text" data-text="Preview">Preview</div></span></button></li><li class="prc-SegmentedControl-Item-7Aq6h"><button aria-current="false" class="prc-SegmentedControl-Button-ojWXD" type="button" style="--separator-color:var(--borderColor-default, var(--color-border-default, #30363d))"><span class="prc-SegmentedControl-Content-gnQ4n segmentedControl-content"><div class="prc-SegmentedControl-Text-c5gSh segmentedControl-text" data-text="Code">Code</div></span></button></li><li class="prc-SegmentedControl-Item-7Aq6h"><button aria-current="false" class="prc-SegmentedControl-Button-ojWXD" type="button" style="--separator-color:var(--borderColor-default, var(--color-border-default, #30363d))"><span class="prc-SegmentedControl-Content-gnQ4n segmentedControl-content"><div class="prc-SegmentedControl-Text-c5gSh segmentedControl-text" data-text="Blame">Blame</div></span></button></li></ul><button hidden="" data-testid="" data-hotkey-scope="read-only-cursor-text-area"></button><button hidden="" data-testid="" data-hotkey-scope="read-only-cursor-text-area"></button><button hidden="" data-testid="" data-hotkey-scope="read-only-cursor-text-area"></button><div class="react-code-size-details-in-header CodeSizeDetails-module__Box--QdxnQ"><div class="text-mono CodeSizeDetails-module__Box_1--_uFDs"><div data-testid="blob-size" class="CodeSizeDetails-module__Truncate_1--er0Uk prc-Truncate-Truncate-A9Wn6" data-inline="true" title="81.7 KB" style="--truncate-max-width:100%"><span>1 lines (1 loc) · 81.7 KB</span></div></div></div></div><div class="BlobViewHeader-module__Box_3--Kvpex"><div class="pr-0 prc-ButtonGroup-ButtonGroup-vcMeG"><div><button data-component="IconButton" type="button" data-testid="copilot-ask-menu" class="prc-Button-ButtonBase-c50BI AskCopilotButton-module__square--o8kDO prc-Button-IconButton-szpyj" data-loading="false" data-no-visuals="true" data-size="small" data-variant="default" aria-describedby="blob-view-header-copilot-icon-loading-announcement" aria-labelledby=":R2v6fal9lab:" id="blob-view-header-copilot-icon"><svg aria-hidden="true" focusable="false" class="octicon octicon-copilot" viewBox="0 0 16 16" width="16" height="16" fill="currentColor" display="inline-block" overflow="visible" style="vertical-align:text-bottom"><path d="M7.998 15.035c-4.562 0-7.873-2.914-7.998-3.749V9.338c.085-.628.677-1.686 1.588-2.065.013-.07.024-.143.036-.218.029-.183.06-.384.126-.612-.201-.508-.254-1.084-.254-1.656 0-.87.128-1.769.693-2.484.579-.733 1.494-1.124 2.724-1.261 1.206-.134 2.262.034 2.944.765.05.053.096.108.139.165.044-.057.094-.112.143-.165.682-.731 1.738-.899 2.944-.765 1.23.137 2.145.528 2.724 1.261.566.715.693 1.614.693 2.484 0 .572-.053 1.148-.254 1.656.066.228.098.429.126.612.012.076.024.148.037.218.924.385 1.522 1.471 1.591 2.095v1.872c0 .766-3.351 3.795-8.002 3.795Zm0-1.485c2.28 0 4.584-1.11 5.002-1.433V7.862l-.023-.116c-.49.21-1.075.291-1.727.291-1.146 0-2.059-.327-2.71-.991A3.222 3.222 0 0 1 8 6.303a3.24 3.24 0 0 1-.544.743c-.65.664-1.563.991-2.71.991-.652 0-1.236-.081-1.727-.291l-.023.116v4.255c.419.323 2.722 1.433 5.002 1.433ZM6.762 2.83c-.193-.206-.637-.413-1.682-.297-1.019.113-1.479.404-1.713.7-.247.312-.369.789-.369 1.554 0 .793.129 1.171.308 1.371.162.181.519.379 1.442.379.853 0 1.339-.235 1.638-.54.315-.322.527-.827.617-1.553.117-.935-.037-1.395-.241-1.614Zm4.155-.297c-1.044-.116-1.488.091-1.681.297-.204.219-.359.679-.242 1.614.091.726.303 1.231.618 1.553.299.305.784.54 1.638.54.922 0 1.28-.198 1.442-.379.179-.2.308-.578.308-1.371 0-.765-.123-1.242-.37-1.554-.233-.296-.693-.587-1.713-.7Z"></path><path d="M6.25 9.037a.75.75 0 0 1 .75.75v1.501a.75.75 0 0 1-1.5 0V9.787a.75.75 0 0 1 .75-.75Zm4.25.75v1.501a.75.75 0 0 1-1.5 0V9.787a.75.75 0 0 1 1.5 0Z"></path></svg></button><span class="prc-TooltipV2-Tooltip-cYMVY" data-direction="s" aria-hidden="true" id=":R2v6fal9lab:">Ask Copilot about this file</span></div><div></div></div><div class="react-blob-header-edit-and-raw-actions BlobViewHeader-module__Box_4--vFP89"><div class="prc-ButtonGroup-ButtonGroup-vcMeG"><div><a href="https://github.com/DeveloperAkansh26/Fashion_Recommendation_And_VITON/raw/refs/heads/main/cloth-agnostic-view.ipynb" data-testid="raw-button" class="Box-sc-g0xbh4-0 lefpaC prc-Button-ButtonBase-c50BI BlobViewHeader-module__LinkButton--DMph4" data-loading="false" data-no-visuals="true" data-size="small" data-variant="default" aria-describedby=":R1b76fal9lab:-loading-announcement"><span data-component="buttonContent" class="Box-sc-g0xbh4-0 gUkoLg prc-Button-ButtonContent-HKbr-"><span data-component="text" class="prc-Button-Label-pTQ3x">Raw</span></span></a></div><div><button data-component="IconButton" type="button" data-testid="copy-raw-button" class="prc-Button-ButtonBase-c50BI prc-Button-IconButton-szpyj" data-loading="false" data-no-visuals="true" data-size="small" data-variant="default" aria-describedby=":R1mb76fal9lab:-loading-announcement" aria-labelledby=":R6b76fal9lab:"><svg aria-hidden="true" focusable="false" class="octicon octicon-copy" viewBox="0 0 16 16" width="16" height="16" fill="currentColor" display="inline-block" overflow="visible" style="vertical-align:text-bottom"><path d="M0 6.75C0 5.784.784 5 1.75 5h1.5a.75.75 0 0 1 0 1.5h-1.5a.25.25 0 0 0-.25.25v7.5c0 .138.112.25.25.25h7.5a.25.25 0 0 0 .25-.25v-1.5a.75.75 0 0 1 1.5 0v1.5A1.75 1.75 0 0 1 9.25 16h-7.5A1.75 1.75 0 0 1 0 14.25Z"></path><path d="M5 1.75C5 .784 5.784 0 6.75 0h7.5C15.216 0 16 .784 16 1.75v7.5A1.75 1.75 0 0 1 14.25 11h-7.5A1.75 1.75 0 0 1 5 9.25Zm1.75-.25a.25.25 0 0 0-.25.25v7.5c0 .138.112.25.25.25h7.5a.25.25 0 0 0 .25-.25v-7.5a.25.25 0 0 0-.25-.25Z"></path></svg></button><span class="prc-TooltipV2-Tooltip-cYMVY" data-direction="n" aria-hidden="true" id=":R6b76fal9lab:">Copy raw file</span></div><div><button data-component="IconButton" type="button" data-testid="download-raw-button" class="Box-sc-g0xbh4-0 ivobqY prc-Button-ButtonBase-c50BI prc-Button-IconButton-szpyj" data-loading="false" data-no-visuals="true" data-size="small" data-variant="default" aria-describedby=":Rfb76fal9lab:-loading-announcement" aria-labelledby=":R3b76fal9lab:"><svg aria-hidden="true" focusable="false" class="octicon octicon-download" viewBox="0 0 16 16" width="16" height="16" fill="currentColor" display="inline-block" overflow="visible" style="vertical-align:text-bottom"><path d="M2.75 14A1.75 1.75 0 0 1 1 12.25v-2.5a.75.75 0 0 1 1.5 0v2.5c0 .138.112.25.25.25h10.5a.25.25 0 0 0 .25-.25v-2.5a.75.75 0 0 1 1.5 0v2.5A1.75 1.75 0 0 1 13.25 14Z"></path><path d="M7.25 7.689V2a.75.75 0 0 1 1.5 0v5.689l1.97-1.969a.749.749 0 1 1 1.06 1.06l-3.25 3.25a.749.749 0 0 1-1.06 0L4.22 6.78a.749.749 0 1 1 1.06-1.06l1.97 1.969Z"></path></svg></button><span class="prc-TooltipV2-Tooltip-cYMVY" data-direction="n" aria-hidden="true" id=":R3b76fal9lab:">Download raw file</span></div></div><button hidden="" data-testid="raw-button-shortcut" data-hotkey-scope="read-only-cursor-text-area"></button><button hidden="" data-testid="copy-raw-button-shortcut" data-hotkey-scope="read-only-cursor-text-area"></button><button hidden="" data-testid="download-raw-button-shortcut" data-hotkey-scope="read-only-cursor-text-area"></button><a class="js-github-dev-shortcut d-none prc-Link-Link-85e08" href="https://github.dev/"></a><button hidden="" data-testid="" data-hotkey-scope="read-only-cursor-text-area"></button><a class="js-github-dev-new-tab-shortcut d-none prc-Link-Link-85e08" href="https://github.dev/" target="_blank"></a><button hidden="" data-testid="" data-hotkey-scope="read-only-cursor-text-area"></button><div class="prc-ButtonGroup-ButtonGroup-vcMeG"><div><a sx="[object Object]" data-component="IconButton" type="button" data-testid="edit-button" class="Box-sc-g0xbh4-0 iCOsHh prc-Button-ButtonBase-c50BI BlobViewHeader-module__IconButton_1--MzNlL prc-Button-IconButton-szpyj" data-loading="false" data-no-visuals="true" data-size="small" data-variant="default" aria-describedby=":Rdl76fal9lab:-loading-announcement" aria-labelledby=":R1l76fal9lab:" href="/DeveloperAkansh26/Fashion_Recommendation_And_VITON/edit/main/cloth-agnostic-view.ipynb" data-discover="true"><svg aria-hidden="true" focusable="false" class="octicon octicon-pencil" viewBox="0 0 16 16" width="16" height="16" fill="currentColor" display="inline-block" overflow="visible" style="vertical-align:text-bottom"><path d="M11.013 1.427a1.75 1.75 0 0 1 2.474 0l1.086 1.086a1.75 1.75 0 0 1 0 2.474l-8.61 8.61c-.21.21-.47.364-.756.445l-3.251.93a.75.75 0 0 1-.927-.928l.929-3.25c.081-.286.235-.547.445-.758l8.61-8.61Zm.176 4.823L9.75 4.81l-6.286 6.287a.253.253 0 0 0-.064.108l-.558 1.953 1.953-.558a.253.253 0 0 0 .108-.064Zm1.238-3.763a.25.25 0 0 0-.354 0L10.811 3.75l1.439 1.44 1.263-1.263a.25.25 0 0 0 0-.354Z"></path></svg></a><span class="prc-TooltipV2-Tooltip-cYMVY" data-direction="nw" aria-hidden="true" id=":R1l76fal9lab:">Edit this file</span></div><div><button data-component="IconButton" type="button" data-testid="more-edit-button" aria-haspopup="true" aria-expanded="false" tabindex="0" class="prc-Button-ButtonBase-c50BI prc-Button-IconButton-szpyj" data-loading="false" data-no-visuals="true" data-size="small" data-variant="default" aria-describedby=":R2l76fal9lab:-loading-announcement" aria-labelledby=":R1ul76fal9lab:" id=":R2l76fal9lab:"><svg aria-hidden="true" focusable="false" class="octicon octicon-triangle-down" viewBox="0 0 16 16" width="16" height="16" fill="currentColor" display="inline-block" overflow="visible" style="vertical-align:text-bottom"><path d="m4.427 7.427 3.396 3.396a.25.25 0 0 0 .354 0l3.396-3.396A.25.25 0 0 0 11.396 7H4.604a.25.25 0 0 0-.177.427Z"></path></svg></button><span class="prc-TooltipV2-Tooltip-cYMVY" data-direction="nw" aria-hidden="true" id=":R1ul76fal9lab:">More edit options</span></div></div><button hidden="" data-testid="" data-hotkey="e,Shift+E" data-hotkey-scope="read-only-cursor-text-area"></button></div><div class="react-blob-header-edit-and-raw-actions-combined"><button data-component="IconButton" type="button" title="More file actions" data-testid="more-file-actions-button" aria-haspopup="true" aria-expanded="false" tabindex="0" class="prc-Button-ButtonBase-c50BI js-blob-dropdown-click BlobViewHeader-module__IconButton--uO1fA prc-Button-IconButton-szpyj" data-loading="false" data-no-visuals="true" data-size="small" data-variant="invisible" aria-describedby=":R5v6fal9lab:-loading-announcement" aria-labelledby=":R3tv6fal9lab:" id=":R5v6fal9lab:"><svg aria-hidden="true" focusable="false" class="octicon octicon-kebab-horizontal" viewBox="0 0 16 16" width="16" height="16" fill="currentColor" display="inline-block" overflow="visible" style="vertical-align:text-bottom"><path d="M8 9a1.5 1.5 0 1 0 0-3 1.5 1.5 0 0 0 0 3ZM1.5 9a1.5 1.5 0 1 0 0-3 1.5 1.5 0 0 0 0 3Zm13 0a1.5 1.5 0 1 0 0-3 1.5 1.5 0 0 0 0 3Z"></path></svg></button><span class="prc-TooltipV2-Tooltip-cYMVY" data-direction="nw" aria-hidden="true" id=":R3tv6fal9lab:">Edit and raw actions</span></div></div></div></div><div></div></div><div class="Box-sc-g0xbh4-0 hycJXc"><section aria-labelledby="file-name-id-wide file-name-id-mobile" class="Box-sc-g0xbh4-0 iWAocR"><!--$!--><template></template><div class="Box-sc-g0xbh4-0 fgsa-DI"><span class="prc-Spinner-Box-qNUI9"><svg height="32px" width="32px" viewBox="0 0 16 16" fill="none" aria-hidden="true" aria-label="Loading" class="prc-Spinner-SpinnerAnimation-e7Gf-"><circle cx="8" cy="8" r="7" stroke="currentColor" stroke-opacity="0.25" stroke-width="2" vector-effect="non-scaling-stroke"></circle><path d="M15 8a7.002 7.002 0 00-7-7" stroke="currentColor" stroke-width="2" stroke-linecap="round" vector-effect="non-scaling-stroke"></path></svg></span></div><!--/$--></section></div></div></div> <!-- --> <!-- --> </div></div></div></div></div></div></div><div id="find-result-marks-container" class="Box-sc-g0xbh4-0 cCoXib"></div><button hidden="" data-testid="" data-hotkey-scope="read-only-cursor-text-area"></button><button hidden=""></button></div> <!-- --> <!-- --> <script type="application/json" id="__PRIMER_DATA_:R0:__">{"resolvedServerColorMode":"night"}</script></div>
</react-app>
</turbo-frame>



  </div>

</turbo-frame>

    </main>
  </div>

  </div>

          <footer class="footer pt-8 pb-6 f6 color-fg-muted p-responsive" role="contentinfo" >
  <h2 class='sr-only'>Footer</h2>

  


  <div class="d-flex flex-justify-center flex-items-center flex-column-reverse flex-lg-row flex-wrap flex-lg-nowrap">
    <div class="d-flex flex-items-center flex-shrink-0 mx-2">
      <a aria-label="GitHub Homepage" class="footer-octicon mr-2" href="https://github.com">
        <svg aria-hidden="true" height="24" viewBox="0 0 24 24" version="1.1" width="24" data-view-component="true" class="octicon octicon-mark-github">
    <path d="M12 1C5.923 1 1 5.923 1 12c0 4.867 3.149 8.979 7.521 10.436.55.096.756-.233.756-.522 0-.262-.013-1.128-.013-2.049-2.764.509-3.479-.674-3.699-1.292-.124-.317-.66-1.293-1.127-1.554-.385-.207-.936-.715-.014-.729.866-.014 1.485.797 1.691 1.128.99 1.663 2.571 1.196 3.204.907.096-.715.385-1.196.701-1.471-2.448-.275-5.005-1.224-5.005-5.432 0-1.196.426-2.186 1.128-2.956-.111-.275-.496-1.402.11-2.915 0 0 .921-.288 3.024 1.128a10.193 10.193 0 0 1 2.75-.371c.936 0 1.871.123 2.75.371 2.104-1.43 3.025-1.128 3.025-1.128.605 1.513.221 2.64.111 2.915.701.77 1.127 1.747 1.127 2.956 0 4.222-2.571 5.157-5.019 5.432.399.344.743 1.004.743 2.035 0 1.471-.014 2.654-.014 3.025 0 .289.206.632.756.522C19.851 20.979 23 16.854 23 12c0-6.077-4.922-11-11-11Z"></path>
</svg>
</a>
      <span>
        &copy; 2025 GitHub,&nbsp;Inc.
      </span>
    </div>

    <nav aria-label="Footer">
      <h3 class="sr-only" id="sr-footer-heading">Footer navigation</h3>

      <ul class="list-style-none d-flex flex-justify-center flex-wrap mb-2 mb-lg-0" aria-labelledby="sr-footer-heading">

          <li class="mx-2">
            <a data-analytics-event="{&quot;category&quot;:&quot;Footer&quot;,&quot;action&quot;:&quot;go to Terms&quot;,&quot;label&quot;:&quot;text:terms&quot;}" href="https://docs.github.com/site-policy/github-terms/github-terms-of-service" data-view-component="true" class="Link--secondary Link">Terms</a>
          </li>

          <li class="mx-2">
            <a data-analytics-event="{&quot;category&quot;:&quot;Footer&quot;,&quot;action&quot;:&quot;go to privacy&quot;,&quot;label&quot;:&quot;text:privacy&quot;}" href="https://docs.github.com/site-policy/privacy-policies/github-privacy-statement" data-view-component="true" class="Link--secondary Link">Privacy</a>
          </li>

          <li class="mx-2">
            <a data-analytics-event="{&quot;category&quot;:&quot;Footer&quot;,&quot;action&quot;:&quot;go to security&quot;,&quot;label&quot;:&quot;text:security&quot;}" href="https://github.com/security" data-view-component="true" class="Link--secondary Link">Security</a>
          </li>

          <li class="mx-2">
            <a data-analytics-event="{&quot;category&quot;:&quot;Footer&quot;,&quot;action&quot;:&quot;go to status&quot;,&quot;label&quot;:&quot;text:status&quot;}" href="https://www.githubstatus.com/" data-view-component="true" class="Link--secondary Link">Status</a>
          </li>

          <li class="mx-2">
            <a data-analytics-event="{&quot;category&quot;:&quot;Footer&quot;,&quot;action&quot;:&quot;go to docs&quot;,&quot;label&quot;:&quot;text:docs&quot;}" href="https://docs.github.com/" data-view-component="true" class="Link--secondary Link">Docs</a>
          </li>

          <li class="mx-2">
            <a data-analytics-event="{&quot;category&quot;:&quot;Footer&quot;,&quot;action&quot;:&quot;go to contact&quot;,&quot;label&quot;:&quot;text:contact&quot;}" href="https://support.github.com?tags=dotcom-footer" data-view-component="true" class="Link--secondary Link">Contact</a>
          </li>

          <li class="mx-2" >
  <cookie-consent-link>
    <button
      type="button"
      class="Link--secondary underline-on-hover border-0 p-0 color-bg-transparent"
      data-action="click:cookie-consent-link#showConsentManagement"
      data-analytics-event="{&quot;location&quot;:&quot;footer&quot;,&quot;action&quot;:&quot;cookies&quot;,&quot;context&quot;:&quot;subfooter&quot;,&quot;tag&quot;:&quot;link&quot;,&quot;label&quot;:&quot;cookies_link_subfooter_footer&quot;}"
    >
       Manage cookies
    </button>
  </cookie-consent-link>
</li>

<li class="mx-2">
  <cookie-consent-link>
    <button
      type="button"
      class="Link--secondary underline-on-hover border-0 p-0 color-bg-transparent text-left"
      data-action="click:cookie-consent-link#showConsentManagement"
      data-analytics-event="{&quot;location&quot;:&quot;footer&quot;,&quot;action&quot;:&quot;dont_share_info&quot;,&quot;context&quot;:&quot;subfooter&quot;,&quot;tag&quot;:&quot;link&quot;,&quot;label&quot;:&quot;dont_share_info_link_subfooter_footer&quot;}"
    >
      Do not share my personal information
    </button>
  </cookie-consent-link>
</li>

      </ul>
    </nav>
  </div>
</footer>



    <ghcc-consent id="ghcc" class="position-fixed bottom-0 left-0" style="z-index: 999999"
      data-locale="en"
      data-initial-cookie-consent-allowed=""
      data-cookie-consent-required="false"
    ></ghcc-consent>



  <div id="ajax-error-message" class="ajax-error-message flash flash-error" hidden>
    <svg aria-hidden="true" height="16" viewBox="0 0 16 16" version="1.1" width="16" data-view-component="true" class="octicon octicon-alert">
    <path d="M6.457 1.047c.659-1.234 2.427-1.234 3.086 0l6.082 11.378A1.75 1.75 0 0 1 14.082 15H1.918a1.75 1.75 0 0 1-1.543-2.575Zm1.763.707a.25.25 0 0 0-.44 0L1.698 13.132a.25.25 0 0 0 .22.368h12.164a.25.25 0 0 0 .22-.368Zm.53 3.996v2.5a.75.75 0 0 1-1.5 0v-2.5a.75.75 0 0 1 1.5 0ZM9 11a1 1 0 1 1-2 0 1 1 0 0 1 2 0Z"></path>
</svg>
    <button type="button" class="flash-close js-ajax-error-dismiss" aria-label="Dismiss error">
      <svg aria-hidden="true" height="16" viewBox="0 0 16 16" version="1.1" width="16" data-view-component="true" class="octicon octicon-x">
    <path d="M3.72 3.72a.75.75 0 0 1 1.06 0L8 6.94l3.22-3.22a.749.749 0 0 1 1.275.326.749.749 0 0 1-.215.734L9.06 8l3.22 3.22a.749.749 0 0 1-.326 1.275.749.749 0 0 1-.734-.215L8 9.06l-3.22 3.22a.751.751 0 0 1-1.042-.018.751.751 0 0 1-.018-1.042L6.94 8 3.72 4.78a.75.75 0 0 1 0-1.06Z"></path>
</svg>
    </button>
    You can’t perform that action at this time.
  </div>

    <template id="site-details-dialog">
  <details class="details-reset details-overlay details-overlay-dark lh-default color-fg-default hx_rsm" open>
    <summary role="button" aria-label="Close dialog"></summary>
    <details-dialog class="Box Box--overlay d-flex flex-column anim-fade-in fast hx_rsm-dialog hx_rsm-modal">
      <button class="Box-btn-octicon m-0 btn-octicon position-absolute right-0 top-0" type="button" aria-label="Close dialog" data-close-dialog>
        <svg aria-hidden="true" height="16" viewBox="0 0 16 16" version="1.1" width="16" data-view-component="true" class="octicon octicon-x">
    <path d="M3.72 3.72a.75.75 0 0 1 1.06 0L8 6.94l3.22-3.22a.749.749 0 0 1 1.275.326.749.749 0 0 1-.215.734L9.06 8l3.22 3.22a.749.749 0 0 1-.326 1.275.749.749 0 0 1-.734-.215L8 9.06l-3.22 3.22a.751.751 0 0 1-1.042-.018.751.751 0 0 1-.018-1.042L6.94 8 3.72 4.78a.75.75 0 0 1 0-1.06Z"></path>
</svg>
      </button>
      <div class="octocat-spinner my-6 js-details-dialog-spinner"></div>
    </details-dialog>
  </details>
</template>

    <div class="Popover js-hovercard-content position-absolute" style="display: none; outline: none;">
  <div class="Popover-message Popover-message--bottom-left Popover-message--large Box color-shadow-large" style="width:360px;">
  </div>
</div>

    <template id="snippet-clipboard-copy-button">
  <div class="zeroclipboard-container position-absolute right-0 top-0">
    <clipboard-copy aria-label="Copy" class="ClipboardButton btn js-clipboard-copy m-2 p-0" data-copy-feedback="Copied!" data-tooltip-direction="w">
      <svg aria-hidden="true" height="16" viewBox="0 0 16 16" version="1.1" width="16" data-view-component="true" class="octicon octicon-copy js-clipboard-copy-icon m-2">
    <path d="M0 6.75C0 5.784.784 5 1.75 5h1.5a.75.75 0 0 1 0 1.5h-1.5a.25.25 0 0 0-.25.25v7.5c0 .138.112.25.25.25h7.5a.25.25 0 0 0 .25-.25v-1.5a.75.75 0 0 1 1.5 0v1.5A1.75 1.75 0 0 1 9.25 16h-7.5A1.75 1.75 0 0 1 0 14.25Z"></path><path d="M5 1.75C5 .784 5.784 0 6.75 0h7.5C15.216 0 16 .784 16 1.75v7.5A1.75 1.75 0 0 1 14.25 11h-7.5A1.75 1.75 0 0 1 5 9.25Zm1.75-.25a.25.25 0 0 0-.25.25v7.5c0 .138.112.25.25.25h7.5a.25.25 0 0 0 .25-.25v-7.5a.25.25 0 0 0-.25-.25Z"></path>
</svg>
      <svg aria-hidden="true" height="16" viewBox="0 0 16 16" version="1.1" width="16" data-view-component="true" class="octicon octicon-check js-clipboard-check-icon color-fg-success d-none m-2">
    <path d="M13.78 4.22a.75.75 0 0 1 0 1.06l-7.25 7.25a.75.75 0 0 1-1.06 0L2.22 9.28a.751.751 0 0 1 .018-1.042.751.751 0 0 1 1.042-.018L6 10.94l6.72-6.72a.75.75 0 0 1 1.06 0Z"></path>
</svg>
    </clipboard-copy>
  </div>
</template>
<template id="snippet-clipboard-copy-button-unpositioned">
  <div class="zeroclipboard-container">
    <clipboard-copy aria-label="Copy" class="ClipboardButton btn btn-invisible js-clipboard-copy m-2 p-0 d-flex flex-justify-center flex-items-center" data-copy-feedback="Copied!" data-tooltip-direction="w">
      <svg aria-hidden="true" height="16" viewBox="0 0 16 16" version="1.1" width="16" data-view-component="true" class="octicon octicon-copy js-clipboard-copy-icon">
    <path d="M0 6.75C0 5.784.784 5 1.75 5h1.5a.75.75 0 0 1 0 1.5h-1.5a.25.25 0 0 0-.25.25v7.5c0 .138.112.25.25.25h7.5a.25.25 0 0 0 .25-.25v-1.5a.75.75 0 0 1 1.5 0v1.5A1.75 1.75 0 0 1 9.25 16h-7.5A1.75 1.75 0 0 1 0 14.25Z"></path><path d="M5 1.75C5 .784 5.784 0 6.75 0h7.5C15.216 0 16 .784 16 1.75v7.5A1.75 1.75 0 0 1 14.25 11h-7.5A1.75 1.75 0 0 1 5 9.25Zm1.75-.25a.25.25 0 0 0-.25.25v7.5c0 .138.112.25.25.25h7.5a.25.25 0 0 0 .25-.25v-7.5a.25.25 0 0 0-.25-.25Z"></path>
</svg>
      <svg aria-hidden="true" height="16" viewBox="0 0 16 16" version="1.1" width="16" data-view-component="true" class="octicon octicon-check js-clipboard-check-icon color-fg-success d-none">
    <path d="M13.78 4.22a.75.75 0 0 1 0 1.06l-7.25 7.25a.75.75 0 0 1-1.06 0L2.22 9.28a.751.751 0 0 1 .018-1.042.751.751 0 0 1 1.042-.018L6 10.94l6.72-6.72a.75.75 0 0 1 1.06 0Z"></path>
</svg>
    </clipboard-copy>
  </div>
</template>


    <style>
      .user-mention[href$="/devansh2506"] {
        color: var(--color-user-mention-fg);
        background-color: var(--bgColor-attention-muted, var(--color-attention-subtle));
        border-radius: 2px;
        margin-left: -2px;
        margin-right: -2px;
      }
      .user-mention[href$="/devansh2506"]:before,
      .user-mention[href$="/devansh2506"]:after {
        content: '';
        display: inline-block;
        width: 2px;
      }
    </style>


    </div>
    <div id="js-global-screen-reader-notice" class="sr-only mt-n1" aria-live="polite" aria-atomic="true" ></div>
    <div id="js-global-screen-reader-notice-assertive" class="sr-only mt-n1" aria-live="assertive" aria-atomic="true"></div>
  </body>
</html>

